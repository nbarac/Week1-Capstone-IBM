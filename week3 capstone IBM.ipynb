{
    "cells": [
        {
            "cell_type": "code",
            "execution_count": 1,
            "metadata": {},
            "outputs": [],
            "source": "##This will have all 3 parts to the questions and will be posted for all 3 attachments"
        },
        {
            "cell_type": "code",
            "execution_count": 2,
            "metadata": {},
            "outputs": [],
            "source": "##Question 1 Cleaning the Data"
        },
        {
            "cell_type": "code",
            "execution_count": 3,
            "metadata": {},
            "outputs": [
                {
                    "name": "stdout",
                    "output_type": "stream",
                    "text": "Requirement already satisfied: beautifulsoup4 in /opt/conda/envs/Python-3.7-main/lib/python3.7/site-packages (4.9.1)\r\nRequirement already satisfied: soupsieve>1.2 in /opt/conda/envs/Python-3.7-main/lib/python3.7/site-packages (from beautifulsoup4) (2.0.1)\r\n"
                }
            ],
            "source": "! pip install beautifulsoup4"
        },
        {
            "cell_type": "code",
            "execution_count": 5,
            "metadata": {},
            "outputs": [],
            "source": "import urllib.request"
        },
        {
            "cell_type": "code",
            "execution_count": 6,
            "metadata": {},
            "outputs": [],
            "source": "url='https://en.wikipedia.org/wiki/List_of_postal_codes_of_Canada:_M'"
        },
        {
            "cell_type": "code",
            "execution_count": 7,
            "metadata": {},
            "outputs": [],
            "source": "html_doc=urllib.request.urlopen(url)"
        },
        {
            "cell_type": "code",
            "execution_count": 8,
            "metadata": {},
            "outputs": [],
            "source": "from bs4 import BeautifulSoup"
        },
        {
            "cell_type": "code",
            "execution_count": 9,
            "metadata": {},
            "outputs": [],
            "source": "b_soup=BeautifulSoup(html_doc)"
        },
        {
            "cell_type": "code",
            "execution_count": 28,
            "metadata": {},
            "outputs": [
                {
                    "name": "stdout",
                    "output_type": "stream",
                    "text": "<!DOCTYPE html>\n<html class=\"client-nojs\" dir=\"ltr\" lang=\"en\">\n <head>\n  <meta charset=\"utf-8\"/>\n  <title>\n   List of postal codes of Canada: M - Wikipedia\n  </title>\n  <script>\n   document.documentElement.className=\"client-js\";RLCONF={\"wgBreakFrames\":!1,\"wgSeparatorTransformTable\":[\"\",\"\"],\"wgDigitTransformTable\":[\"\",\"\"],\"wgDefaultDateFormat\":\"dmy\",\"wgMonthNames\":[\"\",\"January\",\"February\",\"March\",\"April\",\"May\",\"June\",\"July\",\"August\",\"September\",\"October\",\"November\",\"December\"],\"wgRequestId\":\"b9ab4b8a-cc06-4246-8f43-17bd160e26a6\",\"wgCSPNonce\":!1,\"wgCanonicalNamespace\":\"\",\"wgCanonicalSpecialPageName\":!1,\"wgNamespaceNumber\":0,\"wgPageName\":\"List_of_postal_codes_of_Canada:_M\",\"wgTitle\":\"List of postal codes of Canada: M\",\"wgCurRevisionId\":979555370,\"wgRevisionId\":979555370,\"wgArticleId\":539066,\"wgIsArticle\":!0,\"wgIsRedirect\":!1,\"wgAction\":\"view\",\"wgUserName\":null,\"wgUserGroups\":[\"*\"],\"wgCategories\":[\"Articles with short description\",\"Short description is different from Wikidata\",\"Communications in Ontario\",\"Postal codes in Canada\",\"Toronto\",\"Ontario-related lists\"],\"wgPageContentLanguage\":\"en\",\"wgPageContentModel\":\"wikitext\",\"wgRelevantPageName\":\n\"List_of_postal_codes_of_Canada:_M\",\"wgRelevantArticleId\":539066,\"wgIsProbablyEditable\":!0,\"wgRelevantPageIsProbablyEditable\":!0,\"wgRestrictionEdit\":[],\"wgRestrictionMove\":[],\"wgMediaViewerOnClick\":!0,\"wgMediaViewerEnabledByDefault\":!0,\"wgPopupsReferencePreviews\":!1,\"wgPopupsConflictsWithNavPopupGadget\":!1,\"wgVisualEditor\":{\"pageLanguageCode\":\"en\",\"pageLanguageDir\":\"ltr\",\"pageVariantFallbacks\":\"en\"},\"wgMFDisplayWikibaseDescriptions\":{\"search\":!0,\"nearby\":!0,\"watchlist\":!0,\"tagline\":!1},\"wgWMESchemaEditAttemptStepOversample\":!1,\"wgULSCurrentAutonym\":\"English\",\"wgNoticeProject\":\"wikipedia\",\"wgCentralAuthMobileDomain\":!1,\"wgEditSubmitButtonLabelPublish\":!0,\"wgULSPosition\":\"interlanguage\",\"wgWikibaseItemId\":\"Q3248240\"};RLSTATE={\"ext.globalCssJs.user.styles\":\"ready\",\"site.styles\":\"ready\",\"noscript\":\"ready\",\"user.styles\":\"ready\",\"ext.globalCssJs.user\":\"ready\",\"user\":\"ready\",\"user.options\":\"loading\",\"ext.cite.styles\":\"ready\",\"skins.vector.styles.legacy\":\"ready\",\n\"jquery.tablesorter.styles\":\"ready\",\"ext.visualEditor.desktopArticleTarget.noscript\":\"ready\",\"ext.uls.interlanguage\":\"ready\",\"ext.wikimediaBadges\":\"ready\",\"wikibase.client.init\":\"ready\"};RLPAGEMODULES=[\"ext.cite.ux-enhancements\",\"site\",\"mediawiki.page.ready\",\"jquery.tablesorter\",\"skins.vector.legacy.js\",\"ext.gadget.ReferenceTooltips\",\"ext.gadget.charinsert\",\"ext.gadget.extra-toolbar-buttons\",\"ext.gadget.refToolbar\",\"ext.gadget.switcher\",\"ext.centralauth.centralautologin\",\"mmv.head\",\"mmv.bootstrap.autostart\",\"ext.popups\",\"ext.visualEditor.desktopArticleTarget.init\",\"ext.visualEditor.targetLoader\",\"ext.eventLogging\",\"ext.wikimediaEvents\",\"ext.navigationTiming\",\"ext.uls.compactlinks\",\"ext.uls.interface\",\"ext.cx.eventlogging.campaigns\",\"ext.quicksurveys.init\",\"ext.centralNotice.geoIP\",\"ext.centralNotice.startUp\"];\n  </script>\n  <script>\n   (RLQ=window.RLQ||[]).push(function(){mw.loader.implement(\"user.options@1hzgi\",function($,jQuery,require,module){/*@nomin*/mw.user.tokens.set({\"patrolToken\":\"+\\\\\",\"watchToken\":\"+\\\\\",\"csrfToken\":\"+\\\\\"});\n});});\n  </script>\n  <link href=\"/w/load.php?lang=en&amp;modules=ext.cite.styles%7Cext.uls.interlanguage%7Cext.visualEditor.desktopArticleTarget.noscript%7Cext.wikimediaBadges%7Cjquery.tablesorter.styles%7Cskins.vector.styles.legacy%7Cwikibase.client.init&amp;only=styles&amp;skin=vector\" rel=\"stylesheet\"/>\n  <script async=\"\" src=\"/w/load.php?lang=en&amp;modules=startup&amp;only=scripts&amp;raw=1&amp;skin=vector\">\n  </script>\n  <meta content=\"\" name=\"ResourceLoaderDynamicStyles\"/>\n  <link href=\"/w/load.php?lang=en&amp;modules=site.styles&amp;only=styles&amp;skin=vector\" rel=\"stylesheet\"/>\n  <meta content=\"MediaWiki 1.36.0-wmf.14\" name=\"generator\"/>\n  <meta content=\"origin\" name=\"referrer\"/>\n  <meta content=\"origin-when-crossorigin\" name=\"referrer\"/>\n  <meta content=\"origin-when-cross-origin\" name=\"referrer\"/>\n  <link href=\"//en.m.wikipedia.org/wiki/List_of_postal_codes_of_Canada:_M\" media=\"only screen and (max-width: 720px)\" rel=\"alternate\"/>\n  <link href=\"/w/index.php?title=List_of_postal_codes_of_Canada:_M&amp;action=edit\" rel=\"alternate\" title=\"Edit this page\" type=\"application/x-wiki\"/>\n  <link href=\"/w/index.php?title=List_of_postal_codes_of_Canada:_M&amp;action=edit\" rel=\"edit\" title=\"Edit this page\"/>\n  <link href=\"/static/apple-touch/wikipedia.png\" rel=\"apple-touch-icon\"/>\n  <link href=\"/static/favicon/wikipedia.ico\" rel=\"shortcut icon\"/>\n  <link href=\"/w/opensearch_desc.php\" rel=\"search\" title=\"Wikipedia (en)\" type=\"application/opensearchdescription+xml\"/>\n  <link href=\"//en.wikipedia.org/w/api.php?action=rsd\" rel=\"EditURI\" type=\"application/rsd+xml\"/>\n  <link href=\"//creativecommons.org/licenses/by-sa/3.0/\" rel=\"license\"/>\n  <link href=\"https://en.wikipedia.org/wiki/List_of_postal_codes_of_Canada:_M\" rel=\"canonical\"/>\n  <link href=\"//login.wikimedia.org\" rel=\"dns-prefetch\"/>\n  <link href=\"//meta.wikimedia.org\" rel=\"dns-prefetch\"/>\n </head>\n <body class=\"mediawiki ltr sitedir-ltr mw-hide-empty-elt ns-0 ns-subject mw-editable page-List_of_postal_codes_of_Canada_M rootpage-List_of_postal_codes_of_Canada_M skin-vector action-view skin-vector-legacy\">\n  <div class=\"noprint\" id=\"mw-page-base\">\n  </div>\n  <div class=\"noprint\" id=\"mw-head-base\">\n  </div>\n  <div class=\"mw-body\" id=\"content\" role=\"main\">\n   <a id=\"top\">\n   </a>\n   <div class=\"mw-body-content\" id=\"siteNotice\">\n    <!-- CentralNotice -->\n   </div>\n   <div class=\"mw-indicators mw-body-content\">\n   </div>\n   <h1 class=\"firstHeading\" id=\"firstHeading\" lang=\"en\">\n    List of postal codes of Canada: M\n   </h1>\n   <div class=\"mw-body-content\" id=\"bodyContent\">\n    <div class=\"noprint\" id=\"siteSub\">\n     From Wikipedia, the free encyclopedia\n    </div>\n    <div id=\"contentSub\">\n    </div>\n    <div id=\"contentSub2\">\n    </div>\n    <div id=\"jump-to-nav\">\n    </div>\n    <a class=\"mw-jump-link\" href=\"#mw-head\">\n     Jump to navigation\n    </a>\n    <a class=\"mw-jump-link\" href=\"#searchInput\">\n     Jump to search\n    </a>\n    <div class=\"mw-content-ltr\" dir=\"ltr\" id=\"mw-content-text\" lang=\"en\">\n     <div class=\"mw-parser-output\">\n      <div class=\"shortdescription nomobile noexcerpt noprint searchaux\" style=\"display:none\">\n       Wikipedia list article\n      </div>\n      <p>\n       This is a list of\n       <a href=\"/wiki/Postal_codes_in_Canada\" title=\"Postal codes in Canada\">\n        postal codes in Canada\n       </a>\n       where the first letter is M. Postal codes beginning with M are located within the city of\n       <a href=\"/wiki/Toronto\" title=\"Toronto\">\n        Toronto\n       </a>\n       in the province of\n       <a href=\"/wiki/Ontario\" title=\"Ontario\">\n        Ontario\n       </a>\n       . Only the first three characters are listed, corresponding to the Forward Sortation Area.\n      </p>\n      <p>\n       <a href=\"/wiki/Canada_Post\" title=\"Canada Post\">\n        Canada Post\n       </a>\n       provides a free postal code look-up tool on its website,\n       <sup class=\"reference\" id=\"cite_ref-1\">\n        <a href=\"#cite_note-1\">\n         [1]\n        </a>\n       </sup>\n       via its\n       <a href=\"/wiki/Mobile_app\" title=\"Mobile app\">\n        applications\n       </a>\n       for such\n       <a class=\"mw-redirect\" href=\"/wiki/Smartphones\" title=\"Smartphones\">\n        smartphones\n       </a>\n       as the\n       <a href=\"/wiki/IPhone\" title=\"IPhone\">\n        iPhone\n       </a>\n       and\n       <a href=\"/wiki/BlackBerry\" title=\"BlackBerry\">\n        BlackBerry\n       </a>\n       ,\n       <sup class=\"reference\" id=\"cite_ref-2\">\n        <a href=\"#cite_note-2\">\n         [2]\n        </a>\n       </sup>\n       and sells hard-copy directories and\n       <a href=\"/wiki/CD-ROM\" title=\"CD-ROM\">\n        CD-ROMs\n       </a>\n       . Many vendors also sell validation tools, which allow customers to properly match addresses and postal codes. Hard-copy directories can also be consulted in all post offices, and some libraries.\n      </p>\n      <h2>\n       <span class=\"mw-headline\" id=\"Toronto_-_103_FSAs\">\n        <a href=\"/wiki/Toronto\" title=\"Toronto\">\n         Toronto\n        </a>\n        - 103\n        <a href=\"/wiki/Postal_codes_in_Canada#Forward_sortation_areas\" title=\"Postal codes in Canada\">\n         FSAs\n        </a>\n       </span>\n       <span class=\"mw-editsection\">\n        <span class=\"mw-editsection-bracket\">\n         [\n        </span>\n        <a href=\"/w/index.php?title=List_of_postal_codes_of_Canada:_M&amp;action=edit&amp;section=1\" title=\"Edit section: Toronto - 103 FSAs\">\n         edit\n        </a>\n        <span class=\"mw-editsection-bracket\">\n         ]\n        </span>\n       </span>\n      </h2>\n      <p>\n       Note: There are no rural FSAs in Toronto, hence no postal codes should start with M0. However, the postal code M0R 8T0 is assigned to an\n       <a href=\"/wiki/Amazon_(company)\" title=\"Amazon (company)\">\n        Amazon\n       </a>\n       warehouse in Mississauga, suggesting that Canada Post may have reserved the M0 FSA for high volume addresses.\n      </p>\n      <table class=\"wikitable sortable\">\n       <tbody>\n        <tr>\n         <th>\n          Postal Code\n         </th>\n         <th>\n          Borough\n         </th>\n         <th>\n          Neighbourhood\n         </th>\n        </tr>\n        <tr>\n         <td>\n          M1A\n         </td>\n         <td>\n          Not assigned\n         </td>\n         <td>\n          Not assigned\n         </td>\n        </tr>\n        <tr>\n         <td>\n          M2A\n         </td>\n         <td>\n          Not assigned\n         </td>\n         <td>\n          Not assigned\n         </td>\n        </tr>\n        <tr>\n         <td>\n          M3A\n         </td>\n         <td>\n          North York\n         </td>\n         <td>\n          Parkwoods\n         </td>\n        </tr>\n        <tr>\n         <td>\n          M4A\n         </td>\n         <td>\n          North York\n         </td>\n         <td>\n          Victoria Village\n         </td>\n        </tr>\n        <tr>\n         <td>\n          M5A\n         </td>\n         <td>\n          Downtown Toronto\n         </td>\n         <td>\n          Regent Park, Harbourfront\n         </td>\n        </tr>\n        <tr>\n         <td>\n          M6A\n         </td>\n         <td>\n          North York\n         </td>\n         <td>\n          Lawrence Manor, Lawrence Heights\n         </td>\n        </tr>\n        <tr>\n         <td>\n          M7A\n         </td>\n         <td>\n          Downtown Toronto\n         </td>\n         <td>\n          Queen's Park, Ontario Provincial Government\n         </td>\n        </tr>\n        <tr>\n         <td>\n          M8A\n         </td>\n         <td>\n          Not assigned\n         </td>\n         <td>\n          Not assigned\n         </td>\n        </tr>\n        <tr>\n         <td>\n          M9A\n         </td>\n         <td>\n          Etobicoke\n         </td>\n         <td>\n          Islington Avenue, Humber Valley Village\n         </td>\n        </tr>\n        <tr>\n         <td>\n          M1B\n         </td>\n         <td>\n          Scarborough\n         </td>\n         <td>\n          Malvern, Rouge\n         </td>\n        </tr>\n        <tr>\n         <td>\n          M2B\n         </td>\n         <td>\n          Not assigned\n         </td>\n         <td>\n          Not assigned\n         </td>\n        </tr>\n        <tr>\n         <td>\n          M3B\n         </td>\n         <td>\n          North York\n         </td>\n         <td>\n          Don Mills\n         </td>\n        </tr>\n        <tr>\n         <td>\n          M4B\n         </td>\n         <td>\n          East York\n         </td>\n         <td>\n          Parkview Hill, Woodbine Gardens\n         </td>\n        </tr>\n        <tr>\n         <td>\n          M5B\n         </td>\n         <td>\n          Downtown Toronto\n         </td>\n         <td>\n          Garden District, Ryerson\n         </td>\n        </tr>\n        <tr>\n         <td>\n          M6B\n         </td>\n         <td>\n          North York\n         </td>\n         <td>\n          Glencairn\n         </td>\n        </tr>\n        <tr>\n         <td>\n          M7B\n         </td>\n         <td>\n          Not assigned\n         </td>\n         <td>\n          Not assigned\n         </td>\n        </tr>\n        <tr>\n         <td>\n          M8B\n         </td>\n         <td>\n          Not assigned\n         </td>\n         <td>\n          Not assigned\n         </td>\n        </tr>\n        <tr>\n         <td>\n          M9B\n         </td>\n         <td>\n          Etobicoke\n         </td>\n         <td>\n          West Deane Park, Princess Gardens, Martin Grove, Islington, Cloverdale\n         </td>\n        </tr>\n        <tr>\n         <td>\n          M1C\n         </td>\n         <td>\n          Scarborough\n         </td>\n         <td>\n          Rouge Hill, Port Union, Highland Creek\n         </td>\n        </tr>\n        <tr>\n         <td>\n          M2C\n         </td>\n         <td>\n          Not assigned\n         </td>\n         <td>\n          Not assigned\n         </td>\n        </tr>\n        <tr>\n         <td>\n          M3C\n         </td>\n         <td>\n          North York\n         </td>\n         <td>\n          Don Mills\n         </td>\n        </tr>\n        <tr>\n         <td>\n          M4C\n         </td>\n         <td>\n          East York\n         </td>\n         <td>\n          Woodbine Heights\n         </td>\n        </tr>\n        <tr>\n         <td>\n          M5C\n         </td>\n         <td>\n          Downtown Toronto\n         </td>\n         <td>\n          St. James Town\n         </td>\n        </tr>\n        <tr>\n         <td>\n          M6C\n         </td>\n         <td>\n          York\n         </td>\n         <td>\n          Humewood-Cedarvale\n         </td>\n        </tr>\n        <tr>\n         <td>\n          M7C\n         </td>\n         <td>\n          Not assigned\n         </td>\n         <td>\n          Not assigned\n         </td>\n        </tr>\n        <tr>\n         <td>\n          M8C\n         </td>\n         <td>\n          Not assigned\n         </td>\n         <td>\n          Not assigned\n         </td>\n        </tr>\n        <tr>\n         <td>\n          M9C\n         </td>\n         <td>\n          Etobicoke\n         </td>\n         <td>\n          Eringate, Bloordale Gardens, Old Burnhamthorpe, Markland Wood\n         </td>\n        </tr>\n        <tr>\n         <td>\n          M1E\n         </td>\n         <td>\n          Scarborough\n         </td>\n         <td>\n          Guildwood, Morningside, West Hill\n         </td>\n        </tr>\n        <tr>\n         <td>\n          M2E\n         </td>\n         <td>\n          Not assigned\n         </td>\n         <td>\n          Not assigned\n         </td>\n        </tr>\n        <tr>\n         <td>\n          M3E\n         </td>\n         <td>\n          Not assigned\n         </td>\n         <td>\n          Not assigned\n         </td>\n        </tr>\n        <tr>\n         <td>\n          M4E\n         </td>\n         <td>\n          East Toronto\n         </td>\n         <td>\n          The Beaches\n         </td>\n        </tr>\n        <tr>\n         <td>\n          M5E\n         </td>\n         <td>\n          Downtown Toronto\n         </td>\n         <td>\n          Berczy Park\n         </td>\n        </tr>\n        <tr>\n         <td>\n          M6E\n         </td>\n         <td>\n          York\n         </td>\n         <td>\n          Caledonia-Fairbanks\n         </td>\n        </tr>\n        <tr>\n         <td>\n          M7E\n         </td>\n         <td>\n          Not assigned\n         </td>\n         <td>\n          Not assigned\n         </td>\n        </tr>\n        <tr>\n         <td>\n          M8E\n         </td>\n         <td>\n          Not assigned\n         </td>\n         <td>\n          Not assigned\n         </td>\n        </tr>\n        <tr>\n         <td>\n          M9E\n         </td>\n         <td>\n          Not assigned\n         </td>\n         <td>\n          Not assigned\n         </td>\n        </tr>\n        <tr>\n         <td>\n          M1G\n         </td>\n         <td>\n          Scarborough\n         </td>\n         <td>\n          Woburn\n         </td>\n        </tr>\n        <tr>\n         <td>\n          M2G\n         </td>\n         <td>\n          Not assigned\n         </td>\n         <td>\n          Not assigned\n         </td>\n        </tr>\n        <tr>\n         <td>\n          M3G\n         </td>\n         <td>\n          Not assigned\n         </td>\n         <td>\n          Not assigned\n         </td>\n        </tr>\n        <tr>\n         <td>\n          M4G\n         </td>\n         <td>\n          East York\n         </td>\n         <td>\n          Leaside\n         </td>\n        </tr>\n        <tr>\n         <td>\n          M5G\n         </td>\n         <td>\n          Downtown Toronto\n         </td>\n         <td>\n          Central Bay Street\n         </td>\n        </tr>\n        <tr>\n         <td>\n          M6G\n         </td>\n         <td>\n          Downtown Toronto\n         </td>\n         <td>\n          Christie\n         </td>\n        </tr>\n        <tr>\n         <td>\n          M7G\n         </td>\n         <td>\n          Not assigned\n         </td>\n         <td>\n          Not assigned\n         </td>\n        </tr>\n        <tr>\n         <td>\n          M8G\n         </td>\n         <td>\n          Not assigned\n         </td>\n         <td>\n          Not assigned\n         </td>\n        </tr>\n        <tr>\n         <td>\n          M9G\n         </td>\n         <td>\n          Not assigned\n         </td>\n         <td>\n          Not assigned\n         </td>\n        </tr>\n        <tr>\n         <td>\n          M1H\n         </td>\n         <td>\n          Scarborough\n         </td>\n         <td>\n          Cedarbrae\n         </td>\n        </tr>\n        <tr>\n         <td>\n          M2H\n         </td>\n         <td>\n          North York\n         </td>\n         <td>\n          Hillcrest Village\n         </td>\n        </tr>\n        <tr>\n         <td>\n          M3H\n         </td>\n         <td>\n          North York\n         </td>\n         <td>\n          Bathurst Manor, Wilson Heights, Downsview North\n         </td>\n        </tr>\n        <tr>\n         <td>\n          M4H\n         </td>\n         <td>\n          East York\n         </td>\n         <td>\n          Thorncliffe Park\n         </td>\n        </tr>\n        <tr>\n         <td>\n          M5H\n         </td>\n         <td>\n          Downtown Toronto\n         </td>\n         <td>\n          Richmond, Adelaide, King\n         </td>\n        </tr>\n        <tr>\n         <td>\n          M6H\n         </td>\n         <td>\n          West Toronto\n         </td>\n         <td>\n          Dufferin, Dovercourt Village\n         </td>\n        </tr>\n        <tr>\n         <td>\n          M7H\n         </td>\n         <td>\n          Not assigned\n         </td>\n         <td>\n          Not assigned\n         </td>\n        </tr>\n        <tr>\n         <td>\n          M8H\n         </td>\n         <td>\n          Not assigned\n         </td>\n         <td>\n          Not assigned\n         </td>\n        </tr>\n        <tr>\n         <td>\n          M9H\n         </td>\n         <td>\n          Not assigned\n         </td>\n         <td>\n          Not assigned\n         </td>\n        </tr>\n        <tr>\n         <td>\n          M1J\n         </td>\n         <td>\n          Scarborough\n         </td>\n         <td>\n          Scarborough Village\n         </td>\n        </tr>\n        <tr>\n         <td>\n          M2J\n         </td>\n         <td>\n          North York\n         </td>\n         <td>\n          Fairview, Henry Farm, Oriole\n         </td>\n        </tr>\n        <tr>\n         <td>\n          M3J\n         </td>\n         <td>\n          North York\n         </td>\n         <td>\n          Northwood Park, York University\n         </td>\n        </tr>\n        <tr>\n         <td>\n          M4J\n         </td>\n         <td>\n          East York\n         </td>\n         <td>\n          East Toronto, Broadview North (Old East York)\n         </td>\n        </tr>\n        <tr>\n         <td>\n          M5J\n         </td>\n         <td>\n          Downtown Toronto\n         </td>\n         <td>\n          Harbourfront East, Union Station, Toronto Islands\n         </td>\n        </tr>\n        <tr>\n         <td>\n          M6J\n         </td>\n         <td>\n          West Toronto\n         </td>\n         <td>\n          Little Portugal, Trinity\n         </td>\n        </tr>\n        <tr>\n         <td>\n          M7J\n         </td>\n         <td>\n          Not assigned\n         </td>\n         <td>\n          Not assigned\n         </td>\n        </tr>\n        <tr>\n         <td>\n          M8J\n         </td>\n         <td>\n          Not assigned\n         </td>\n         <td>\n          Not assigned\n         </td>\n        </tr>\n        <tr>\n         <td>\n          M9J\n         </td>\n         <td>\n          Not assigned\n         </td>\n         <td>\n          Not assigned\n         </td>\n        </tr>\n        <tr>\n         <td>\n          M1K\n         </td>\n         <td>\n          Scarborough\n         </td>\n         <td>\n          Kennedy Park, Ionview, East Birchmount Park\n         </td>\n        </tr>\n        <tr>\n         <td>\n          M2K\n         </td>\n         <td>\n          North York\n         </td>\n         <td>\n          Bayview Village\n         </td>\n        </tr>\n        <tr>\n         <td>\n          M3K\n         </td>\n         <td>\n          North York\n         </td>\n         <td>\n          Downsview\n         </td>\n        </tr>\n        <tr>\n         <td>\n          M4K\n         </td>\n         <td>\n          East Toronto\n         </td>\n         <td>\n          The Danforth West, Riverdale\n         </td>\n        </tr>\n        <tr>\n         <td>\n          M5K\n         </td>\n         <td>\n          Downtown Toronto\n         </td>\n         <td>\n          Toronto Dominion Centre, Design Exchange\n         </td>\n        </tr>\n        <tr>\n         <td>\n          M6K\n         </td>\n         <td>\n          West Toronto\n         </td>\n         <td>\n          Brockton, Parkdale Village, Exhibition Place\n         </td>\n        </tr>\n        <tr>\n         <td>\n          M7K\n         </td>\n         <td>\n          Not assigned\n         </td>\n         <td>\n          Not assigned\n         </td>\n        </tr>\n        <tr>\n         <td>\n          M8K\n         </td>\n         <td>\n          Not assigned\n         </td>\n         <td>\n          Not assigned\n         </td>\n        </tr>\n        <tr>\n         <td>\n          M9K\n         </td>\n         <td>\n          Not assigned\n         </td>\n         <td>\n          Not assigned\n         </td>\n        </tr>\n        <tr>\n         <td>\n          M1L\n         </td>\n         <td>\n          Scarborough\n         </td>\n         <td>\n          Golden Mile, Clairlea, Oakridge\n         </td>\n        </tr>\n        <tr>\n         <td>\n          M2L\n         </td>\n         <td>\n          North York\n         </td>\n         <td>\n          York Mills, Silver Hills\n         </td>\n        </tr>\n        <tr>\n         <td>\n          M3L\n         </td>\n         <td>\n          North York\n         </td>\n         <td>\n          Downsview\n         </td>\n        </tr>\n        <tr>\n         <td>\n          M4L\n         </td>\n         <td>\n          East Toronto\n         </td>\n         <td>\n          India Bazaar, The Beaches West\n         </td>\n        </tr>\n        <tr>\n         <td>\n          M5L\n         </td>\n         <td>\n          Downtown Toronto\n         </td>\n         <td>\n          Commerce Court, Victoria Hotel\n         </td>\n        </tr>\n        <tr>\n         <td>\n          M6L\n         </td>\n         <td>\n          North York\n         </td>\n         <td>\n          North Park, Maple Leaf Park, Upwood Park\n         </td>\n        </tr>\n        <tr>\n         <td>\n          M7L\n         </td>\n         <td>\n          Not assigned\n         </td>\n         <td>\n          Not assigned\n         </td>\n        </tr>\n        <tr>\n         <td>\n          M8L\n         </td>\n         <td>\n          Not assigned\n         </td>\n         <td>\n          Not assigned\n         </td>\n        </tr>\n        <tr>\n         <td>\n          M9L\n         </td>\n         <td>\n          North York\n         </td>\n         <td>\n          Humber Summit\n         </td>\n        </tr>\n        <tr>\n         <td>\n          M1M\n         </td>\n         <td>\n          Scarborough\n         </td>\n         <td>\n          Cliffside, Cliffcrest, Scarborough Village West\n         </td>\n        </tr>\n        <tr>\n         <td>\n          M2M\n         </td>\n         <td>\n          North York\n         </td>\n         <td>\n          Willowdale, Newtonbrook\n         </td>\n        </tr>\n        <tr>\n         <td>\n          M3M\n         </td>\n         <td>\n          North York\n         </td>\n         <td>\n          Downsview\n         </td>\n        </tr>\n        <tr>\n         <td>\n          M4M\n         </td>\n         <td>\n          East Toronto\n         </td>\n         <td>\n          Studio District\n         </td>\n        </tr>\n        <tr>\n         <td>\n          M5M\n         </td>\n         <td>\n          North York\n         </td>\n         <td>\n          Bedford Park, Lawrence Manor East\n         </td>\n        </tr>\n        <tr>\n         <td>\n          M6M\n         </td>\n         <td>\n          York\n         </td>\n         <td>\n          Del Ray, Mount Dennis, Keelsdale and Silverthorn\n         </td>\n        </tr>\n        <tr>\n         <td>\n          M7M\n         </td>\n         <td>\n          Not assigned\n         </td>\n         <td>\n          Not assigned\n         </td>\n        </tr>\n        <tr>\n         <td>\n          M8M\n         </td>\n         <td>\n          Not assigned\n         </td>\n         <td>\n          Not assigned\n         </td>\n        </tr>\n        <tr>\n         <td>\n          M9M\n         </td>\n         <td>\n          North York\n         </td>\n         <td>\n          Humberlea, Emery\n         </td>\n        </tr>\n        <tr>\n         <td>\n          M1N\n         </td>\n         <td>\n          Scarborough\n         </td>\n         <td>\n          Birch Cliff, Cliffside West\n         </td>\n        </tr>\n        <tr>\n         <td>\n          M2N\n         </td>\n         <td>\n          North York\n         </td>\n         <td>\n          Willowdale, Willowdale East\n         </td>\n        </tr>\n        <tr>\n         <td>\n          M3N\n         </td>\n         <td>\n          North York\n         </td>\n         <td>\n          Downsview\n         </td>\n        </tr>\n        <tr>\n         <td>\n          M4N\n         </td>\n         <td>\n          Central Toronto\n         </td>\n         <td>\n          Lawrence Park\n         </td>\n        </tr>\n        <tr>\n         <td>\n          M5N\n         </td>\n         <td>\n          Central Toronto\n         </td>\n         <td>\n          Roselawn\n         </td>\n        </tr>\n        <tr>\n         <td>\n          M6N\n         </td>\n         <td>\n          York\n         </td>\n         <td>\n          Runnymede, The Junction North\n         </td>\n        </tr>\n        <tr>\n         <td>\n          M7N\n         </td>\n         <td>\n          Not assigned\n         </td>\n         <td>\n          Not assigned\n         </td>\n        </tr>\n        <tr>\n         <td>\n          M8N\n         </td>\n         <td>\n          Not assigned\n         </td>\n         <td>\n          Not assigned\n         </td>\n        </tr>\n        <tr>\n         <td>\n          M9N\n         </td>\n         <td>\n          York\n         </td>\n         <td>\n          Weston\n         </td>\n        </tr>\n        <tr>\n         <td>\n          M1P\n         </td>\n         <td>\n          Scarborough\n         </td>\n         <td>\n          Dorset Park, Wexford Heights, Scarborough Town Centre\n         </td>\n        </tr>\n        <tr>\n         <td>\n          M2P\n         </td>\n         <td>\n          North York\n         </td>\n         <td>\n          York Mills West\n         </td>\n        </tr>\n        <tr>\n         <td>\n          M3P\n         </td>\n         <td>\n          Not assigned\n         </td>\n         <td>\n          Not assigned\n         </td>\n        </tr>\n        <tr>\n         <td>\n          M4P\n         </td>\n         <td>\n          Central Toronto\n         </td>\n         <td>\n          Davisville North\n         </td>\n        </tr>\n        <tr>\n         <td>\n          M5P\n         </td>\n         <td>\n          Central Toronto\n         </td>\n         <td>\n          Forest Hill North &amp; West, Forest Hill Road Park\n         </td>\n        </tr>\n        <tr>\n         <td>\n          M6P\n         </td>\n         <td>\n          West Toronto\n         </td>\n         <td>\n          High Park, The Junction South\n         </td>\n        </tr>\n        <tr>\n         <td>\n          M7P\n         </td>\n         <td>\n          Not assigned\n         </td>\n         <td>\n          Not assigned\n         </td>\n        </tr>\n        <tr>\n         <td>\n          M8P\n         </td>\n         <td>\n          Not assigned\n         </td>\n         <td>\n          Not assigned\n         </td>\n        </tr>\n        <tr>\n         <td>\n          M9P\n         </td>\n         <td>\n          Etobicoke\n         </td>\n         <td>\n          Westmount\n         </td>\n        </tr>\n        <tr>\n         <td>\n          M1R\n         </td>\n         <td>\n          Scarborough\n         </td>\n         <td>\n          Wexford, Maryvale\n         </td>\n        </tr>\n        <tr>\n         <td>\n          M2R\n         </td>\n         <td>\n          North York\n         </td>\n         <td>\n          Willowdale, Willowdale West\n         </td>\n        </tr>\n        <tr>\n         <td>\n          M3R\n         </td>\n         <td>\n          Not assigned\n         </td>\n         <td>\n          Not assigned\n         </td>\n        </tr>\n        <tr>\n         <td>\n          M4R\n         </td>\n         <td>\n          Central Toronto\n         </td>\n         <td>\n          North Toronto West,  Lawrence Park\n         </td>\n        </tr>\n        <tr>\n         <td>\n          M5R\n         </td>\n         <td>\n          Central Toronto\n         </td>\n         <td>\n          The Annex, North Midtown, Yorkville\n         </td>\n        </tr>\n        <tr>\n         <td>\n          M6R\n         </td>\n         <td>\n          West Toronto\n         </td>\n         <td>\n          Parkdale, Roncesvalles\n         </td>\n        </tr>\n        <tr>\n         <td>\n          M7R\n         </td>\n         <td>\n          Mississauga\n         </td>\n         <td>\n          Canada Post Gateway Processing Centre\n         </td>\n        </tr>\n        <tr>\n         <td>\n          M8R\n         </td>\n         <td>\n          Not assigned\n         </td>\n         <td>\n          Not assigned\n         </td>\n        </tr>\n        <tr>\n         <td>\n          M9R\n         </td>\n         <td>\n          Etobicoke\n         </td>\n         <td>\n          Kingsview Village, St. Phillips, Martin Grove Gardens, Richview Gardens\n         </td>\n        </tr>\n        <tr>\n         <td>\n          M1S\n         </td>\n         <td>\n          Scarborough\n         </td>\n         <td>\n          Agincourt\n         </td>\n        </tr>\n        <tr>\n         <td>\n          M2S\n         </td>\n         <td>\n          Not assigned\n         </td>\n         <td>\n          Not assigned\n         </td>\n        </tr>\n        <tr>\n         <td>\n          M3S\n         </td>\n         <td>\n          Not assigned\n         </td>\n         <td>\n          Not assigned\n         </td>\n        </tr>\n        <tr>\n         <td>\n          M4S\n         </td>\n         <td>\n          Central Toronto\n         </td>\n         <td>\n          Davisville\n         </td>\n        </tr>\n        <tr>\n         <td>\n          M5S\n         </td>\n         <td>\n          Downtown Toronto\n         </td>\n         <td>\n          University of Toronto, Harbord\n         </td>\n        </tr>\n        <tr>\n         <td>\n          M6S\n         </td>\n         <td>\n          West Toronto\n         </td>\n         <td>\n          Runnymede, Swansea\n         </td>\n        </tr>\n        <tr>\n         <td>\n          M7S\n         </td>\n         <td>\n          Not assigned\n         </td>\n         <td>\n          Not assigned\n         </td>\n        </tr>\n        <tr>\n         <td>\n          M8S\n         </td>\n         <td>\n          Not assigned\n         </td>\n         <td>\n          Not assigned\n         </td>\n        </tr>\n        <tr>\n         <td>\n          M9S\n         </td>\n         <td>\n          Not assigned\n         </td>\n         <td>\n          Not assigned\n         </td>\n        </tr>\n        <tr>\n         <td>\n          M1T\n         </td>\n         <td>\n          Scarborough\n         </td>\n         <td>\n          Clarks Corners, Tam O'Shanter, Sullivan\n         </td>\n        </tr>\n        <tr>\n         <td>\n          M2T\n         </td>\n         <td>\n          Not assigned\n         </td>\n         <td>\n          Not assigned\n         </td>\n        </tr>\n        <tr>\n         <td>\n          M3T\n         </td>\n         <td>\n          Not assigned\n         </td>\n         <td>\n          Not assigned\n         </td>\n        </tr>\n        <tr>\n         <td>\n          M4T\n         </td>\n         <td>\n          Central Toronto\n         </td>\n         <td>\n          Moore Park, Summerhill East\n         </td>\n        </tr>\n        <tr>\n         <td>\n          M5T\n         </td>\n         <td>\n          Downtown Toronto\n         </td>\n         <td>\n          Kensington Market, Chinatown, Grange Park\n         </td>\n        </tr>\n        <tr>\n         <td>\n          M6T\n         </td>\n         <td>\n          Not assigned\n         </td>\n         <td>\n          Not assigned\n         </td>\n        </tr>\n        <tr>\n         <td>\n          M7T\n         </td>\n         <td>\n          Not assigned\n         </td>\n         <td>\n          Not assigned\n         </td>\n        </tr>\n        <tr>\n         <td>\n          M8T\n         </td>\n         <td>\n          Not assigned\n         </td>\n         <td>\n          Not assigned\n         </td>\n        </tr>\n        <tr>\n         <td>\n          M9T\n         </td>\n         <td>\n          Not assigned\n         </td>\n         <td>\n          Not assigned\n         </td>\n        </tr>\n        <tr>\n         <td>\n          M1V\n         </td>\n         <td>\n          Scarborough\n         </td>\n         <td>\n          Milliken, Agincourt North, Steeles East, L'Amoreaux East\n         </td>\n        </tr>\n        <tr>\n         <td>\n          M2V\n         </td>\n         <td>\n          Not assigned\n         </td>\n         <td>\n          Not assigned\n         </td>\n        </tr>\n        <tr>\n         <td>\n          M3V\n         </td>\n         <td>\n          Not assigned\n         </td>\n         <td>\n          Not assigned\n         </td>\n        </tr>\n        <tr>\n         <td>\n          M4V\n         </td>\n         <td>\n          Central Toronto\n         </td>\n         <td>\n          Summerhill West, Rathnelly, South Hill, Forest Hill SE, Deer Park\n         </td>\n        </tr>\n        <tr>\n         <td>\n          M5V\n         </td>\n         <td>\n          Downtown Toronto\n         </td>\n         <td>\n          CN Tower, King and Spadina, Railway Lands, Harbourfront West, Bathurst Quay, South Niagara, Island airport\n         </td>\n        </tr>\n        <tr>\n         <td>\n          M6V\n         </td>\n         <td>\n          Not assigned\n         </td>\n         <td>\n          Not assigned\n         </td>\n        </tr>\n        <tr>\n         <td>\n          M7V\n         </td>\n         <td>\n          Not assigned\n         </td>\n         <td>\n          Not assigned\n         </td>\n        </tr>\n        <tr>\n         <td>\n          M8V\n         </td>\n         <td>\n          Etobicoke\n         </td>\n         <td>\n          New Toronto, Mimico South, Humber Bay Shores\n         </td>\n        </tr>\n        <tr>\n         <td>\n          M9V\n         </td>\n         <td>\n          Etobicoke\n         </td>\n         <td>\n          South Steeles, Silverstone, Humbergate, Jamestown, Mount Olive, Beaumond Heights, Thistletown, Albion Gardens\n         </td>\n        </tr>\n        <tr>\n         <td>\n          M1W\n         </td>\n         <td>\n          Scarborough\n         </td>\n         <td>\n          Steeles West, L'Amoreaux West\n         </td>\n        </tr>\n        <tr>\n         <td>\n          M2W\n         </td>\n         <td>\n          Not assigned\n         </td>\n         <td>\n          Not assigned\n         </td>\n        </tr>\n        <tr>\n         <td>\n          M3W\n         </td>\n         <td>\n          Not assigned\n         </td>\n         <td>\n          Not assigned\n         </td>\n        </tr>\n        <tr>\n         <td>\n          M4W\n         </td>\n         <td>\n          Downtown Toronto\n         </td>\n         <td>\n          Rosedale\n         </td>\n        </tr>\n        <tr>\n         <td>\n          M5W\n         </td>\n         <td>\n          Downtown Toronto\n         </td>\n         <td>\n          Stn A PO Boxes\n         </td>\n        </tr>\n        <tr>\n         <td>\n          M6W\n         </td>\n         <td>\n          Not assigned\n         </td>\n         <td>\n          Not assigned\n         </td>\n        </tr>\n        <tr>\n         <td>\n          M7W\n         </td>\n         <td>\n          Not assigned\n         </td>\n         <td>\n          Not assigned\n         </td>\n        </tr>\n        <tr>\n         <td>\n          M8W\n         </td>\n         <td>\n          Etobicoke\n         </td>\n         <td>\n          Alderwood, Long Branch\n         </td>\n        </tr>\n        <tr>\n         <td>\n          M9W\n         </td>\n         <td>\n          Etobicoke\n         </td>\n         <td>\n          Northwest, West Humber - Clairville\n         </td>\n        </tr>\n        <tr>\n         <td>\n          M1X\n         </td>\n         <td>\n          Scarborough\n         </td>\n         <td>\n          Upper Rouge\n         </td>\n        </tr>\n        <tr>\n         <td>\n          M2X\n         </td>\n         <td>\n          Not assigned\n         </td>\n         <td>\n          Not assigned\n         </td>\n        </tr>\n        <tr>\n         <td>\n          M3X\n         </td>\n         <td>\n          Not assigned\n         </td>\n         <td>\n          Not assigned\n         </td>\n        </tr>\n        <tr>\n         <td>\n          M4X\n         </td>\n         <td>\n          Downtown Toronto\n         </td>\n         <td>\n          St. James Town, Cabbagetown\n         </td>\n        </tr>\n        <tr>\n         <td>\n          M5X\n         </td>\n         <td>\n          Downtown Toronto\n         </td>\n         <td>\n          First Canadian Place, Underground city\n         </td>\n        </tr>\n        <tr>\n         <td>\n          M6X\n         </td>\n         <td>\n          Not assigned\n         </td>\n         <td>\n          Not assigned\n         </td>\n        </tr>\n        <tr>\n         <td>\n          M7X\n         </td>\n         <td>\n          Not assigned\n         </td>\n         <td>\n          Not assigned\n         </td>\n        </tr>\n        <tr>\n         <td>\n          M8X\n         </td>\n         <td>\n          Etobicoke\n         </td>\n         <td>\n          The Kingsway, Montgomery Road, Old Mill North\n         </td>\n        </tr>\n        <tr>\n         <td>\n          M9X\n         </td>\n         <td>\n          Not assigned\n         </td>\n         <td>\n          Not assigned\n         </td>\n        </tr>\n        <tr>\n         <td>\n          M1Y\n         </td>\n         <td>\n          Not assigned\n         </td>\n         <td>\n          Not assigned\n         </td>\n        </tr>\n        <tr>\n         <td>\n          M2Y\n         </td>\n         <td>\n          Not assigned\n         </td>\n         <td>\n          Not assigned\n         </td>\n        </tr>\n        <tr>\n         <td>\n          M3Y\n         </td>\n         <td>\n          Not assigned\n         </td>\n         <td>\n          Not assigned\n         </td>\n        </tr>\n        <tr>\n         <td>\n          M4Y\n         </td>\n         <td>\n          Downtown Toronto\n         </td>\n         <td>\n          Church and Wellesley\n         </td>\n        </tr>\n        <tr>\n         <td>\n          M5Y\n         </td>\n         <td>\n          Not assigned\n         </td>\n         <td>\n          Not assigned\n         </td>\n        </tr>\n        <tr>\n         <td>\n          M6Y\n         </td>\n         <td>\n          Not assigned\n         </td>\n         <td>\n          Not assigned\n         </td>\n        </tr>\n        <tr>\n         <td>\n          M7Y\n         </td>\n         <td>\n          East Toronto\n         </td>\n         <td>\n          Business reply mail Processing Centre, South Central Letter Processing Plant Toronto\n         </td>\n        </tr>\n        <tr>\n         <td>\n          M8Y\n         </td>\n         <td>\n          Etobicoke\n         </td>\n         <td>\n          Old Mill South, King's Mill Park, Sunnylea, Humber Bay, Mimico NE, The Queensway East, Royal York South East, Kingsway Park South East\n         </td>\n        </tr>\n        <tr>\n         <td>\n          M9Y\n         </td>\n         <td>\n          Not assigned\n         </td>\n         <td>\n          Not assigned\n         </td>\n        </tr>\n        <tr>\n         <td>\n          M1Z\n         </td>\n         <td>\n          Not assigned\n         </td>\n         <td>\n          Not assigned\n         </td>\n        </tr>\n        <tr>\n         <td>\n          M2Z\n         </td>\n         <td>\n          Not assigned\n         </td>\n         <td>\n          Not assigned\n         </td>\n        </tr>\n        <tr>\n         <td>\n          M3Z\n         </td>\n         <td>\n          Not assigned\n         </td>\n         <td>\n          Not assigned\n         </td>\n        </tr>\n        <tr>\n         <td>\n          M4Z\n         </td>\n         <td>\n          Not assigned\n         </td>\n         <td>\n          Not assigned\n         </td>\n        </tr>\n        <tr>\n         <td>\n          M5Z\n         </td>\n         <td>\n          Not assigned\n         </td>\n         <td>\n          Not assigned\n         </td>\n        </tr>\n        <tr>\n         <td>\n          M6Z\n         </td>\n         <td>\n          Not assigned\n         </td>\n         <td>\n          Not assigned\n         </td>\n        </tr>\n        <tr>\n         <td>\n          M7Z\n         </td>\n         <td>\n          Not assigned\n         </td>\n         <td>\n          Not assigned\n         </td>\n        </tr>\n        <tr>\n         <td>\n          M8Z\n         </td>\n         <td>\n          Etobicoke\n         </td>\n         <td>\n          Mimico NW, The Queensway West, South of Bloor, Kingsway Park South West, Royal York South West\n         </td>\n        </tr>\n        <tr>\n         <td>\n          M9Z\n         </td>\n         <td>\n          Not assigned\n         </td>\n         <td>\n          Not assigned\n         </td>\n        </tr>\n       </tbody>\n      </table>\n      <h2>\n       <span id=\"Most_populated_FSAs.5B3.5D\">\n       </span>\n       <span class=\"mw-headline\" id=\"Most_populated_FSAs[3]\">\n        Most populated FSAs\n        <sup class=\"reference\" id=\"cite_ref-statcan_3-0\">\n         <a href=\"#cite_note-statcan-3\">\n          [3]\n         </a>\n        </sup>\n       </span>\n       <span class=\"mw-editsection\">\n        <span class=\"mw-editsection-bracket\">\n         [\n        </span>\n        <a href=\"/w/index.php?title=List_of_postal_codes_of_Canada:_M&amp;action=edit&amp;section=2\" title=\"Edit section: Most populated FSAs[3]\">\n         edit\n        </a>\n        <span class=\"mw-editsection-bracket\">\n         ]\n        </span>\n       </span>\n      </h2>\n      <ol>\n       <li>\n        M1B, 65,129\n       </li>\n       <li>\n        M2N, 60,124\n       </li>\n       <li>\n        M1V, 55,250\n       </li>\n       <li>\n        M9V, 55,159\n       </li>\n       <li>\n        M2J, 54,391\n       </li>\n      </ol>\n      <h2>\n       <span id=\"Least_populated_FSAs.5B3.5D\">\n       </span>\n       <span class=\"mw-headline\" id=\"Least_populated_FSAs[3]\">\n        Least populated FSAs\n        <sup class=\"reference\" id=\"cite_ref-statcan_3-1\">\n         <a href=\"#cite_note-statcan-3\">\n          [3]\n         </a>\n        </sup>\n       </span>\n       <span class=\"mw-editsection\">\n        <span class=\"mw-editsection-bracket\">\n         [\n        </span>\n        <a href=\"/w/index.php?title=List_of_postal_codes_of_Canada:_M&amp;action=edit&amp;section=3\" title=\"Edit section: Least populated FSAs[3]\">\n         edit\n        </a>\n        <span class=\"mw-editsection-bracket\">\n         ]\n        </span>\n       </span>\n      </h2>\n      <ol>\n       <li>\n        M5K, 5\n       </li>\n       <li>\n        M5L, 5\n       </li>\n       <li>\n        M5W, 5\n       </li>\n       <li>\n        M5X, 5\n       </li>\n       <li>\n        M7A, 5\n       </li>\n      </ol>\n      <h2>\n       <span class=\"mw-headline\" id=\"References\">\n        References\n       </span>\n       <span class=\"mw-editsection\">\n        <span class=\"mw-editsection-bracket\">\n         [\n        </span>\n        <a href=\"/w/index.php?title=List_of_postal_codes_of_Canada:_M&amp;action=edit&amp;section=4\" title=\"Edit section: References\">\n         edit\n        </a>\n        <span class=\"mw-editsection-bracket\">\n         ]\n        </span>\n       </span>\n      </h2>\n      <div class=\"mw-references-wrap\">\n       <ol class=\"references\">\n        <li id=\"cite_note-1\">\n         <span class=\"mw-cite-backlink\">\n          <b>\n           <a href=\"#cite_ref-1\">\n            ^\n           </a>\n          </b>\n         </span>\n         <span class=\"reference-text\">\n          <cite class=\"citation web cs1\" id=\"CITEREFCanada_Post\">\n           Canada Post.\n           <a class=\"external text\" href=\"https://www.canadapost.ca/cpotools/apps/fpc/personal/findByCity?execution=e2s1\" rel=\"nofollow\">\n            \"Canada Post - Find a Postal Code\"\n           </a>\n           <span class=\"reference-accessdate\">\n            . Retrieved\n            <span class=\"nowrap\">\n             9 November\n            </span>\n            2008\n           </span>\n           .\n          </cite>\n          <span class=\"Z3988\" title=\"ctx_ver=Z39.88-2004&amp;rft_val_fmt=info%3Aofi%2Ffmt%3Akev%3Amtx%3Abook&amp;rft.genre=unknown&amp;rft.btitle=Canada+Post+-+Find+a+Postal+Code&amp;rft.au=Canada+Post&amp;rft_id=https%3A%2F%2Fwww.canadapost.ca%2Fcpotools%2Fapps%2Ffpc%2Fpersonal%2FfindByCity%3Fexecution%3De2s1&amp;rfr_id=info%3Asid%2Fen.wikipedia.org%3AList+of+postal+codes+of+Canada%3A+M\">\n          </span>\n          <style data-mw-deduplicate=\"TemplateStyles:r982806391\">\n           .mw-parser-output cite.citation{font-style:inherit}.mw-parser-output .citation q{quotes:\"\\\"\"\"\\\"\"\"'\"\"'\"}.mw-parser-output .id-lock-free a,.mw-parser-output .citation .cs1-lock-free a{background:linear-gradient(transparent,transparent),url(\"//upload.wikimedia.org/wikipedia/commons/6/65/Lock-green.svg\")right 0.1em center/9px no-repeat}.mw-parser-output .id-lock-limited a,.mw-parser-output .id-lock-registration a,.mw-parser-output .citation .cs1-lock-limited a,.mw-parser-output .citation .cs1-lock-registration a{background:linear-gradient(transparent,transparent),url(\"//upload.wikimedia.org/wikipedia/commons/d/d6/Lock-gray-alt-2.svg\")right 0.1em center/9px no-repeat}.mw-parser-output .id-lock-subscription a,.mw-parser-output .citation .cs1-lock-subscription a{background:linear-gradient(transparent,transparent),url(\"//upload.wikimedia.org/wikipedia/commons/a/aa/Lock-red-alt-2.svg\")right 0.1em center/9px no-repeat}.mw-parser-output .cs1-subscription,.mw-parser-output .cs1-registration{color:#555}.mw-parser-output .cs1-subscription span,.mw-parser-output .cs1-registration span{border-bottom:1px dotted;cursor:help}.mw-parser-output .cs1-ws-icon a{background:linear-gradient(transparent,transparent),url(\"//upload.wikimedia.org/wikipedia/commons/4/4c/Wikisource-logo.svg\")right 0.1em center/12px no-repeat}.mw-parser-output code.cs1-code{color:inherit;background:inherit;border:none;padding:inherit}.mw-parser-output .cs1-hidden-error{display:none;font-size:100%}.mw-parser-output .cs1-visible-error{font-size:100%}.mw-parser-output .cs1-maint{display:none;color:#33aa33;margin-left:0.3em}.mw-parser-output .cs1-subscription,.mw-parser-output .cs1-registration,.mw-parser-output .cs1-format{font-size:95%}.mw-parser-output .cs1-kern-left,.mw-parser-output .cs1-kern-wl-left{padding-left:0.2em}.mw-parser-output .cs1-kern-right,.mw-parser-output .cs1-kern-wl-right{padding-right:0.2em}.mw-parser-output .citation .mw-selflink{font-weight:inherit}\n          </style>\n         </span>\n        </li>\n        <li id=\"cite_note-2\">\n         <span class=\"mw-cite-backlink\">\n          <b>\n           <a href=\"#cite_ref-2\">\n            ^\n           </a>\n          </b>\n         </span>\n         <span class=\"reference-text\">\n          <cite class=\"citation web cs1\">\n           <a class=\"external text\" href=\"https://web.archive.org/web/20110519093024/http://www.canadapost.ca/cpo/mc/personal/tools/mobileapp/default.jsf\" rel=\"nofollow\">\n            \"Mobile Apps\"\n           </a>\n           . Canada Post. Archived from\n           <a class=\"external text\" href=\"http://www.canadapost.ca/cpo/mc/personal/tools/mobileapp/default.jsf\" rel=\"nofollow\">\n            the original\n           </a>\n           on 2011-05-19.\n          </cite>\n          <span class=\"Z3988\" title=\"ctx_ver=Z39.88-2004&amp;rft_val_fmt=info%3Aofi%2Ffmt%3Akev%3Amtx%3Abook&amp;rft.genre=unknown&amp;rft.btitle=Mobile+Apps&amp;rft.pub=Canada+Post&amp;rft_id=http%3A%2F%2Fwww.canadapost.ca%2Fcpo%2Fmc%2Fpersonal%2Ftools%2Fmobileapp%2Fdefault.jsf&amp;rfr_id=info%3Asid%2Fen.wikipedia.org%3AList+of+postal+codes+of+Canada%3A+M\">\n          </span>\n          <link href=\"mw-data:TemplateStyles:r982806391\" rel=\"mw-deduplicated-inline-style\"/>\n         </span>\n        </li>\n        <li id=\"cite_note-statcan-3\">\n         <span class=\"mw-cite-backlink\">\n          ^\n          <a href=\"#cite_ref-statcan_3-0\">\n           <sup>\n            <i>\n             <b>\n              a\n             </b>\n            </i>\n           </sup>\n          </a>\n          <a href=\"#cite_ref-statcan_3-1\">\n           <sup>\n            <i>\n             <b>\n              b\n             </b>\n            </i>\n           </sup>\n          </a>\n         </span>\n         <span class=\"reference-text\">\n          <cite class=\"citation web cs1\">\n           <a class=\"external text\" href=\"http://www12.statcan.ca/english/census06/data/popdwell/Table.cfm?T=1201&amp;SR=1&amp;S=0&amp;O=A&amp;RPP=9999&amp;PR=0&amp;CMA=0\" rel=\"nofollow\">\n            \"2006 Census of Population\"\n           </a>\n           . 15 October 2008.\n          </cite>\n          <span class=\"Z3988\" title=\"ctx_ver=Z39.88-2004&amp;rft_val_fmt=info%3Aofi%2Ffmt%3Akev%3Amtx%3Abook&amp;rft.genre=unknown&amp;rft.btitle=2006+Census+of+Population&amp;rft.date=2008-10-15&amp;rft_id=http%3A%2F%2Fwww12.statcan.ca%2Fenglish%2Fcensus06%2Fdata%2Fpopdwell%2FTable.cfm%3FT%3D1201%26SR%3D1%26S%3D0%26O%3DA%26RPP%3D9999%26PR%3D0%26CMA%3D0&amp;rfr_id=info%3Asid%2Fen.wikipedia.org%3AList+of+postal+codes+of+Canada%3A+M\">\n          </span>\n          <link href=\"mw-data:TemplateStyles:r982806391\" rel=\"mw-deduplicated-inline-style\"/>\n         </span>\n        </li>\n       </ol>\n      </div>\n      <table class=\"navbox\">\n       <tbody>\n        <tr>\n         <td style=\"width:36px; text-align:center\">\n          <a class=\"image\" href=\"/wiki/File:Flag_of_Canada.svg\" title=\"Flag of Canada\">\n           <img alt=\"Flag of Canada\" data-file-height=\"600\" data-file-width=\"1200\" decoding=\"async\" height=\"18\" src=\"//upload.wikimedia.org/wikipedia/en/thumb/c/cf/Flag_of_Canada.svg/36px-Flag_of_Canada.svg.png\" srcset=\"//upload.wikimedia.org/wikipedia/en/thumb/c/cf/Flag_of_Canada.svg/54px-Flag_of_Canada.svg.png 1.5x, //upload.wikimedia.org/wikipedia/en/thumb/c/cf/Flag_of_Canada.svg/72px-Flag_of_Canada.svg.png 2x\" width=\"36\"/>\n          </a>\n         </td>\n         <th class=\"navbox-title\" style=\"font-size:110%\">\n          <a href=\"/wiki/Postal_codes_in_Canada\" title=\"Postal codes in Canada\">\n           Canadian postal codes\n          </a>\n         </th>\n         <td style=\"width:36px; text-align:center\">\n          <a class=\"image\" href=\"/wiki/File:Canadian_postal_district_map_(without_legends).svg\">\n           <img alt=\"Canadian postal district map (without legends).svg\" data-file-height=\"846\" data-file-width=\"1000\" decoding=\"async\" height=\"18\" src=\"//upload.wikimedia.org/wikipedia/commons/thumb/e/eb/Canadian_postal_district_map_%28without_legends%29.svg/21px-Canadian_postal_district_map_%28without_legends%29.svg.png\" srcset=\"//upload.wikimedia.org/wikipedia/commons/thumb/e/eb/Canadian_postal_district_map_%28without_legends%29.svg/32px-Canadian_postal_district_map_%28without_legends%29.svg.png 1.5x, //upload.wikimedia.org/wikipedia/commons/thumb/e/eb/Canadian_postal_district_map_%28without_legends%29.svg/43px-Canadian_postal_district_map_%28without_legends%29.svg.png 2x\" width=\"21\"/>\n          </a>\n         </td>\n        </tr>\n        <tr>\n         <td colspan=\"3\" style=\"text-align:center; font-size: 100%;\">\n          <table cellspacing=\"0\" style=\"background-color: #F8F8F8;\" width=\"100%\">\n           <tbody>\n            <tr>\n             <td style=\"text-align:center; border:1px solid #aaa;\">\n              <a href=\"/wiki/Newfoundland_and_Labrador\" title=\"Newfoundland and Labrador\">\n               NL\n              </a>\n             </td>\n             <td style=\"text-align:center; border:1px solid #aaa;\">\n              <a href=\"/wiki/Nova_Scotia\" title=\"Nova Scotia\">\n               NS\n              </a>\n             </td>\n             <td style=\"text-align:center; border:1px solid #aaa;\">\n              <a href=\"/wiki/Prince_Edward_Island\" title=\"Prince Edward Island\">\n               PE\n              </a>\n             </td>\n             <td style=\"text-align:center; border:1px solid #aaa;\">\n              <a href=\"/wiki/New_Brunswick\" title=\"New Brunswick\">\n               NB\n              </a>\n             </td>\n             <td colspan=\"3\" style=\"text-align:center; border:1px solid #aaa;\">\n              <a href=\"/wiki/Quebec\" title=\"Quebec\">\n               QC\n              </a>\n             </td>\n             <td colspan=\"5\" style=\"text-align:center; border:1px solid #aaa;\">\n              <a href=\"/wiki/Ontario\" title=\"Ontario\">\n               ON\n              </a>\n             </td>\n             <td style=\"text-align:center; border:1px solid #aaa;\">\n              <a href=\"/wiki/Manitoba\" title=\"Manitoba\">\n               MB\n              </a>\n             </td>\n             <td style=\"text-align:center; border:1px solid #aaa;\">\n              <a href=\"/wiki/Saskatchewan\" title=\"Saskatchewan\">\n               SK\n              </a>\n             </td>\n             <td style=\"text-align:center; border:1px solid #aaa;\">\n              <a href=\"/wiki/Alberta\" title=\"Alberta\">\n               AB\n              </a>\n             </td>\n             <td style=\"text-align:center; border:1px solid #aaa;\">\n              <a href=\"/wiki/British_Columbia\" title=\"British Columbia\">\n               BC\n              </a>\n             </td>\n             <td style=\"text-align:center; border:1px solid #aaa;\">\n              <a href=\"/wiki/Nunavut\" title=\"Nunavut\">\n               NU\n              </a>\n              /\n              <a href=\"/wiki/Northwest_Territories\" title=\"Northwest Territories\">\n               NT\n              </a>\n             </td>\n             <td style=\"text-align:center; border:1px solid #aaa;\">\n              <a href=\"/wiki/Yukon\" title=\"Yukon\">\n               YT\n              </a>\n             </td>\n            </tr>\n            <tr>\n             <td align=\"center\" style=\"border: 1px solid #FF0000; background-color: #FFE0E0; font-size: 135%;\" width=\"5%\">\n              <a href=\"/wiki/List_of_postal_codes_of_Canada:_A\" title=\"List of postal codes of Canada: A\">\n               A\n              </a>\n             </td>\n             <td align=\"center\" style=\"border: 1px solid #FF4000; background-color: #FFE8E0; font-size: 135%;\" width=\"5%\">\n              <a href=\"/wiki/List_of_postal_codes_of_Canada:_B\" title=\"List of postal codes of Canada: B\">\n               B\n              </a>\n             </td>\n             <td align=\"center\" style=\"border: 1px solid #FF8000; background-color: #FFF0E0; font-size: 135%;\" width=\"5%\">\n              <a href=\"/wiki/List_of_postal_codes_of_Canada:_C\" title=\"List of postal codes of Canada: C\">\n               C\n              </a>\n             </td>\n             <td align=\"center\" style=\"border: 1px solid #FFC000; background-color: #FFF8E0; font-size: 135%;\" width=\"5%\">\n              <a href=\"/wiki/List_of_postal_codes_of_Canada:_E\" title=\"List of postal codes of Canada: E\">\n               E\n              </a>\n             </td>\n             <td align=\"center\" style=\"border: 1px solid #FFFF00; background-color: #FFFFE0; font-size: 135%;\" width=\"5%\">\n              <a href=\"/wiki/List_of_postal_codes_of_Canada:_G\" title=\"List of postal codes of Canada: G\">\n               G\n              </a>\n             </td>\n             <td align=\"center\" style=\"border: 1px solid #C0FF00; background-color: #F8FFE0; font-size: 135%;\" width=\"5%\">\n              <a href=\"/wiki/List_of_postal_codes_of_Canada:_H\" title=\"List of postal codes of Canada: H\">\n               H\n              </a>\n             </td>\n             <td align=\"center\" style=\"border: 1px solid #80FF00; background-color: #F0FFE0; font-size: 135%;\" width=\"5%\">\n              <a href=\"/wiki/List_of_postal_codes_of_Canada:_J\" title=\"List of postal codes of Canada: J\">\n               J\n              </a>\n             </td>\n             <td align=\"center\" style=\"border: 1px solid #00FF00; background-color: #E0FFE0; font-size: 135%;\" width=\"5%\">\n              <a href=\"/wiki/List_of_postal_codes_of_Canada:_K\" title=\"List of postal codes of Canada: K\">\n               K\n              </a>\n             </td>\n             <td align=\"center\" style=\"border: 1px solid #00FF80; background-color: #E0FFF0; font-size: 135%;\" width=\"5%\">\n              <a href=\"/wiki/List_of_postal_codes_of_Canada:_L\" title=\"List of postal codes of Canada: L\">\n               L\n              </a>\n             </td>\n             <td align=\"center\" style=\"border: 1px solid #E0FFF8; background-color: #00FFC0; font-size: 135%; color: black;\" width=\"5%\">\n              <a class=\"mw-selflink selflink\">\n               M\n              </a>\n             </td>\n             <td align=\"center\" style=\"border: 1px solid #00FFE0; background-color: #E0FFFC; font-size: 135%;\" width=\"5%\">\n              <a href=\"/wiki/List_of_postal_codes_of_Canada:_N\" title=\"List of postal codes of Canada: N\">\n               N\n              </a>\n             </td>\n             <td align=\"center\" style=\"border: 1px solid #00FFFF; background-color: #E0FFFF; font-size: 135%;\" width=\"5%\">\n              <a href=\"/wiki/List_of_postal_codes_of_Canada:_P\" title=\"List of postal codes of Canada: P\">\n               P\n              </a>\n             </td>\n             <td align=\"center\" style=\"border: 1px solid #00C0FF; background-color: #E0F8FF; font-size: 135%;\" width=\"5%\">\n              <a href=\"/wiki/List_of_postal_codes_of_Canada:_R\" title=\"List of postal codes of Canada: R\">\n               R\n              </a>\n             </td>\n             <td align=\"center\" style=\"border: 1px solid #0080FF; background-color: #E0F0FF; font-size: 135%;\" width=\"5%\">\n              <a href=\"/wiki/List_of_postal_codes_of_Canada:_S\" title=\"List of postal codes of Canada: S\">\n               S\n              </a>\n             </td>\n             <td align=\"center\" style=\"border: 1px solid #0040FF; background-color: #E0E8FF; font-size: 135%;\" width=\"5%\">\n              <a href=\"/wiki/List_of_postal_codes_of_Canada:_T\" title=\"List of postal codes of Canada: T\">\n               T\n              </a>\n             </td>\n             <td align=\"center\" style=\"border: 1px solid #0000FF; background-color: #E0E0FF; font-size: 135%;\" width=\"5%\">\n              <a href=\"/wiki/List_of_postal_codes_of_Canada:_V\" title=\"List of postal codes of Canada: V\">\n               V\n              </a>\n             </td>\n             <td align=\"center\" style=\"border: 1px solid #A000FF; background-color: #E8E0FF; font-size: 135%;\" width=\"5%\">\n              <a href=\"/wiki/List_of_postal_codes_of_Canada:_X\" title=\"List of postal codes of Canada: X\">\n               X\n              </a>\n             </td>\n             <td align=\"center\" style=\"border: 1px solid #FF00FF; background-color: #FFE0FF; font-size: 135%;\" width=\"5%\">\n              <a href=\"/wiki/List_of_postal_codes_of_Canada:_Y\" title=\"List of postal codes of Canada: Y\">\n               Y\n              </a>\n             </td>\n            </tr>\n           </tbody>\n          </table>\n         </td>\n        </tr>\n       </tbody>\n      </table>\n      <!-- \nNewPP limit report\nParsed by mw1385\nCached time: 20201029222418\nCache expiry: 2592000\nDynamic content: false\nComplications: [vary\u2010revision\u2010sha1]\nCPU time usage: 0.164 seconds\nReal time usage: 0.220 seconds\nPreprocessor visited node count: 281/1000000\nPost\u2010expand include size: 10828/2097152 bytes\nTemplate argument size: 275/2097152 bytes\nHighest expansion depth: 8/40\nExpensive parser function count: 0/500\nUnstrip recursion depth: 1/20\nUnstrip post\u2010expand size: 9622/5000000 bytes\nLua time usage: 0.091/10.000 seconds\nLua memory usage: 2.87 MB/50 MB\nNumber of Wikibase entities loaded: 0/400\n-->\n      <!--\nTransclusion expansion time report (%,ms,calls,template)\n100.00%  181.887      1 -total\n 58.26%  105.961      3 Template:Cite_web\n 34.39%   62.560      1 Template:Short_description\n 18.74%   34.078      1 Template:Pagetype\n  9.04%   16.449      2 Template:Main_other\n  6.98%   12.687      1 Template:SDcat\n  2.56%    4.659      1 Template:Canadian_postal_codes\n-->\n      <!-- Saved in parser cache with key enwiki:pcache:idhash:539066-0!canonical and timestamp 20201029222417 and revision id 979555370\n -->\n     </div>\n     <noscript>\n      <img alt=\"\" height=\"1\" src=\"//en.wikipedia.org/wiki/Special:CentralAutoLogin/start?type=1x1\" style=\"border: none; position: absolute;\" title=\"\" width=\"1\"/>\n     </noscript>\n     <div class=\"printfooter\">\n      Retrieved from \"\n      <a dir=\"ltr\" href=\"https://en.wikipedia.org/w/index.php?title=List_of_postal_codes_of_Canada:_M&amp;oldid=979555370\">\n       https://en.wikipedia.org/w/index.php?title=List_of_postal_codes_of_Canada:_M&amp;oldid=979555370\n      </a>\n      \"\n     </div>\n    </div>\n    <div class=\"catlinks\" data-mw=\"interface\" id=\"catlinks\">\n     <div class=\"mw-normal-catlinks\" id=\"mw-normal-catlinks\">\n      <a href=\"/wiki/Help:Category\" title=\"Help:Category\">\n       Categories\n      </a>\n      :\n      <ul>\n       <li>\n        <a href=\"/wiki/Category:Communications_in_Ontario\" title=\"Category:Communications in Ontario\">\n         Communications in Ontario\n        </a>\n       </li>\n       <li>\n        <a href=\"/wiki/Category:Postal_codes_in_Canada\" title=\"Category:Postal codes in Canada\">\n         Postal codes in Canada\n        </a>\n       </li>\n       <li>\n        <a href=\"/wiki/Category:Toronto\" title=\"Category:Toronto\">\n         Toronto\n        </a>\n       </li>\n       <li>\n        <a href=\"/wiki/Category:Ontario-related_lists\" title=\"Category:Ontario-related lists\">\n         Ontario-related lists\n        </a>\n       </li>\n      </ul>\n     </div>\n     <div class=\"mw-hidden-catlinks mw-hidden-cats-hidden\" id=\"mw-hidden-catlinks\">\n      Hidden categories:\n      <ul>\n       <li>\n        <a href=\"/wiki/Category:Articles_with_short_description\" title=\"Category:Articles with short description\">\n         Articles with short description\n        </a>\n       </li>\n       <li>\n        <a href=\"/wiki/Category:Short_description_is_different_from_Wikidata\" title=\"Category:Short description is different from Wikidata\">\n         Short description is different from Wikidata\n        </a>\n       </li>\n      </ul>\n     </div>\n    </div>\n   </div>\n  </div>\n  <div id=\"mw-data-after-content\">\n   <div class=\"read-more-container\">\n   </div>\n  </div>\n  <div id=\"mw-navigation\">\n   <h2>\n    Navigation menu\n   </h2>\n   <div id=\"mw-head\">\n    <!-- Please do not use role attribute as CSS selector, it is deprecated. -->\n    <nav aria-labelledby=\"p-personal-label\" class=\"mw-portlet mw-portlet-personal vector-menu\" id=\"p-personal\" role=\"navigation\">\n     <h3 id=\"p-personal-label\">\n      <span>\n       Personal tools\n      </span>\n     </h3>\n     <div class=\"vector-menu-content\">\n      <ul class=\"vector-menu-content-list\">\n       <li id=\"pt-anonuserpage\">\n        Not logged in\n       </li>\n       <li id=\"pt-anontalk\">\n        <a accesskey=\"n\" href=\"/wiki/Special:MyTalk\" title=\"Discussion about edits from this IP address [n]\">\n         Talk\n        </a>\n       </li>\n       <li id=\"pt-anoncontribs\">\n        <a accesskey=\"y\" href=\"/wiki/Special:MyContributions\" title=\"A list of edits made from this IP address [y]\">\n         Contributions\n        </a>\n       </li>\n       <li id=\"pt-createaccount\">\n        <a href=\"/w/index.php?title=Special:CreateAccount&amp;returnto=List+of+postal+codes+of+Canada%3A+M\" title=\"You are encouraged to create an account and log in; however, it is not mandatory\">\n         Create account\n        </a>\n       </li>\n       <li id=\"pt-login\">\n        <a accesskey=\"o\" href=\"/w/index.php?title=Special:UserLogin&amp;returnto=List+of+postal+codes+of+Canada%3A+M\" title=\"You're encouraged to log in; however, it's not mandatory. [o]\">\n         Log in\n        </a>\n       </li>\n      </ul>\n     </div>\n    </nav>\n    <div id=\"left-navigation\">\n     <!-- Please do not use role attribute as CSS selector, it is deprecated. -->\n     <nav aria-labelledby=\"p-namespaces-label\" class=\"mw-portlet mw-portlet-namespaces vector-menu vector-menu-tabs\" id=\"p-namespaces\" role=\"navigation\">\n      <h3 id=\"p-namespaces-label\">\n       <span>\n        Namespaces\n       </span>\n      </h3>\n      <div class=\"vector-menu-content\">\n       <ul class=\"vector-menu-content-list\">\n        <li class=\"selected\" id=\"ca-nstab-main\">\n         <a accesskey=\"c\" href=\"/wiki/List_of_postal_codes_of_Canada:_M\" title=\"View the content page [c]\">\n          Article\n         </a>\n        </li>\n        <li id=\"ca-talk\">\n         <a accesskey=\"t\" href=\"/wiki/Talk:List_of_postal_codes_of_Canada:_M\" rel=\"discussion\" title=\"Discuss improvements to the content page [t]\">\n          Talk\n         </a>\n        </li>\n       </ul>\n      </div>\n     </nav>\n     <!-- Please do not use role attribute as CSS selector, it is deprecated. -->\n     <nav aria-labelledby=\"p-variants-label\" class=\"mw-portlet mw-portlet-variants emptyPortlet vector-menu vector-menu-dropdown\" id=\"p-variants\" role=\"navigation\">\n      <input aria-labelledby=\"p-variants-label\" class=\"vector-menu-checkbox\" type=\"checkbox\"/>\n      <h3 id=\"p-variants-label\">\n       <span>\n        Variants\n       </span>\n      </h3>\n      <div class=\"vector-menu-content\">\n       <ul class=\"vector-menu-content-list\">\n       </ul>\n      </div>\n     </nav>\n    </div>\n    <div id=\"right-navigation\">\n     <!-- Please do not use role attribute as CSS selector, it is deprecated. -->\n     <nav aria-labelledby=\"p-views-label\" class=\"mw-portlet mw-portlet-views vector-menu vector-menu-tabs\" id=\"p-views\" role=\"navigation\">\n      <h3 id=\"p-views-label\">\n       <span>\n        Views\n       </span>\n      </h3>\n      <div class=\"vector-menu-content\">\n       <ul class=\"vector-menu-content-list\">\n        <li class=\"selected\" id=\"ca-view\">\n         <a href=\"/wiki/List_of_postal_codes_of_Canada:_M\">\n          Read\n         </a>\n        </li>\n        <li id=\"ca-edit\">\n         <a accesskey=\"e\" href=\"/w/index.php?title=List_of_postal_codes_of_Canada:_M&amp;action=edit\" title=\"Edit this page [e]\">\n          Edit\n         </a>\n        </li>\n        <li id=\"ca-history\">\n         <a accesskey=\"h\" href=\"/w/index.php?title=List_of_postal_codes_of_Canada:_M&amp;action=history\" title=\"Past revisions of this page [h]\">\n          View history\n         </a>\n        </li>\n       </ul>\n      </div>\n     </nav>\n     <!-- Please do not use role attribute as CSS selector, it is deprecated. -->\n     <nav aria-labelledby=\"p-cactions-label\" class=\"mw-portlet mw-portlet-cactions emptyPortlet vector-menu vector-menu-dropdown\" id=\"p-cactions\" role=\"navigation\">\n      <input aria-labelledby=\"p-cactions-label\" class=\"vector-menu-checkbox\" type=\"checkbox\"/>\n      <h3 id=\"p-cactions-label\">\n       <span>\n        More\n       </span>\n      </h3>\n      <div class=\"vector-menu-content\">\n       <ul class=\"vector-menu-content-list\">\n       </ul>\n      </div>\n     </nav>\n     <div id=\"p-search\" role=\"search\">\n      <h3>\n       <label for=\"searchInput\">\n        Search\n       </label>\n      </h3>\n      <form action=\"/w/index.php\" id=\"searchform\">\n       <div data-search-loc=\"header-navigation\" id=\"simpleSearch\">\n        <input accesskey=\"f\" id=\"searchInput\" name=\"search\" placeholder=\"Search Wikipedia\" title=\"Search Wikipedia [f]\" type=\"search\"/>\n        <input name=\"title\" type=\"hidden\" value=\"Special:Search\"/>\n        <input class=\"searchButton mw-fallbackSearchButton\" id=\"mw-searchButton\" name=\"fulltext\" title=\"Search Wikipedia for this text\" type=\"submit\" value=\"Search\"/>\n        <input class=\"searchButton\" id=\"searchButton\" name=\"go\" title=\"Go to a page with this exact name if it exists\" type=\"submit\" value=\"Go\"/>\n       </div>\n      </form>\n     </div>\n    </div>\n   </div>\n   <div id=\"mw-panel\">\n    <div id=\"p-logo\" role=\"banner\">\n     <a class=\"mw-wiki-logo\" href=\"/wiki/Main_Page\" title=\"Visit the main page\">\n     </a>\n    </div>\n    <!-- Please do not use role attribute as CSS selector, it is deprecated. -->\n    <nav aria-labelledby=\"p-navigation-label\" class=\"mw-portlet mw-portlet-navigation vector-menu vector-menu-portal portal portal-first\" id=\"p-navigation\" role=\"navigation\">\n     <h3 id=\"p-navigation-label\">\n      <span>\n       Navigation\n      </span>\n     </h3>\n     <div class=\"vector-menu-content\">\n      <ul class=\"vector-menu-content-list\">\n       <li id=\"n-mainpage-description\">\n        <a accesskey=\"z\" href=\"/wiki/Main_Page\" title=\"Visit the main page [z]\">\n         Main page\n        </a>\n       </li>\n       <li id=\"n-contents\">\n        <a href=\"/wiki/Wikipedia:Contents\" title=\"Guides to browsing Wikipedia\">\n         Contents\n        </a>\n       </li>\n       <li id=\"n-currentevents\">\n        <a href=\"/wiki/Portal:Current_events\" title=\"Articles related to current events\">\n         Current events\n        </a>\n       </li>\n       <li id=\"n-randompage\">\n        <a accesskey=\"x\" href=\"/wiki/Special:Random\" title=\"Visit a randomly selected article [x]\">\n         Random article\n        </a>\n       </li>\n       <li id=\"n-aboutsite\">\n        <a href=\"/wiki/Wikipedia:About\" title=\"Learn about Wikipedia and how it works\">\n         About Wikipedia\n        </a>\n       </li>\n       <li id=\"n-contactpage\">\n        <a href=\"//en.wikipedia.org/wiki/Wikipedia:Contact_us\" title=\"How to contact Wikipedia\">\n         Contact us\n        </a>\n       </li>\n       <li id=\"n-sitesupport\">\n        <a href=\"https://donate.wikimedia.org/wiki/Special:FundraiserRedirector?utm_source=donate&amp;utm_medium=sidebar&amp;utm_campaign=C13_en.wikipedia.org&amp;uselang=en\" title=\"Support us by donating to the Wikimedia Foundation\">\n         Donate\n        </a>\n       </li>\n      </ul>\n     </div>\n    </nav>\n    <!-- Please do not use role attribute as CSS selector, it is deprecated. -->\n    <nav aria-labelledby=\"p-interaction-label\" class=\"mw-portlet mw-portlet-interaction vector-menu vector-menu-portal portal\" id=\"p-interaction\" role=\"navigation\">\n     <h3 id=\"p-interaction-label\">\n      <span>\n       Contribute\n      </span>\n     </h3>\n     <div class=\"vector-menu-content\">\n      <ul class=\"vector-menu-content-list\">\n       <li id=\"n-help\">\n        <a href=\"/wiki/Help:Contents\" title=\"Guidance on how to use and edit Wikipedia\">\n         Help\n        </a>\n       </li>\n       <li id=\"n-introduction\">\n        <a href=\"/wiki/Help:Introduction\" title=\"Learn how to edit Wikipedia\">\n         Learn to edit\n        </a>\n       </li>\n       <li id=\"n-portal\">\n        <a href=\"/wiki/Wikipedia:Community_portal\" title=\"The hub for editors\">\n         Community portal\n        </a>\n       </li>\n       <li id=\"n-recentchanges\">\n        <a accesskey=\"r\" href=\"/wiki/Special:RecentChanges\" title=\"A list of recent changes to Wikipedia [r]\">\n         Recent changes\n        </a>\n       </li>\n       <li id=\"n-upload\">\n        <a href=\"/wiki/Wikipedia:File_Upload_Wizard\" title=\"Add images or other media for use on Wikipedia\">\n         Upload file\n        </a>\n       </li>\n      </ul>\n     </div>\n    </nav>\n    <!-- Please do not use role attribute as CSS selector, it is deprecated. -->\n    <nav aria-labelledby=\"p-tb-label\" class=\"mw-portlet mw-portlet-tb vector-menu vector-menu-portal portal\" id=\"p-tb\" role=\"navigation\">\n     <h3 id=\"p-tb-label\">\n      <span>\n       Tools\n      </span>\n     </h3>\n     <div class=\"vector-menu-content\">\n      <ul class=\"vector-menu-content-list\">\n       <li id=\"t-whatlinkshere\">\n        <a accesskey=\"j\" href=\"/wiki/Special:WhatLinksHere/List_of_postal_codes_of_Canada:_M\" title=\"List of all English Wikipedia pages containing links to this page [j]\">\n         What links here\n        </a>\n       </li>\n       <li id=\"t-recentchangeslinked\">\n        <a accesskey=\"k\" href=\"/wiki/Special:RecentChangesLinked/List_of_postal_codes_of_Canada:_M\" rel=\"nofollow\" title=\"Recent changes in pages linked from this page [k]\">\n         Related changes\n        </a>\n       </li>\n       <li id=\"t-upload\">\n        <a accesskey=\"u\" href=\"/wiki/Wikipedia:File_Upload_Wizard\" title=\"Upload files [u]\">\n         Upload file\n        </a>\n       </li>\n       <li id=\"t-specialpages\">\n        <a accesskey=\"q\" href=\"/wiki/Special:SpecialPages\" title=\"A list of all special pages [q]\">\n         Special pages\n        </a>\n       </li>\n       <li id=\"t-permalink\">\n        <a href=\"/w/index.php?title=List_of_postal_codes_of_Canada:_M&amp;oldid=979555370\" title=\"Permanent link to this revision of this page\">\n         Permanent link\n        </a>\n       </li>\n       <li id=\"t-info\">\n        <a href=\"/w/index.php?title=List_of_postal_codes_of_Canada:_M&amp;action=info\" title=\"More information about this page\">\n         Page information\n        </a>\n       </li>\n       <li id=\"t-cite\">\n        <a href=\"/w/index.php?title=Special:CiteThisPage&amp;page=List_of_postal_codes_of_Canada%3A_M&amp;id=979555370&amp;wpFormIdentifier=titleform\" title=\"Information on how to cite this page\">\n         Cite this page\n        </a>\n       </li>\n       <li id=\"t-wikibase\">\n        <a accesskey=\"g\" href=\"https://www.wikidata.org/wiki/Special:EntityPage/Q3248240\" title=\"Structured data on this page hosted by Wikidata [g]\">\n         Wikidata item\n        </a>\n       </li>\n      </ul>\n     </div>\n    </nav>\n    <!-- Please do not use role attribute as CSS selector, it is deprecated. -->\n    <nav aria-labelledby=\"p-coll-print_export-label\" class=\"mw-portlet mw-portlet-coll-print_export vector-menu vector-menu-portal portal\" id=\"p-coll-print_export\" role=\"navigation\">\n     <h3 id=\"p-coll-print_export-label\">\n      <span>\n       Print/export\n      </span>\n     </h3>\n     <div class=\"vector-menu-content\">\n      <ul class=\"vector-menu-content-list\">\n       <li id=\"coll-download-as-rl\">\n        <a href=\"/w/index.php?title=Special:DownloadAsPdf&amp;page=List_of_postal_codes_of_Canada%3A_M&amp;action=show-download-screen\" title=\"Download this page as a PDF file\">\n         Download as PDF\n        </a>\n       </li>\n       <li id=\"t-print\">\n        <a accesskey=\"p\" href=\"/w/index.php?title=List_of_postal_codes_of_Canada:_M&amp;printable=yes\" title=\"Printable version of this page [p]\">\n         Printable version\n        </a>\n       </li>\n      </ul>\n     </div>\n    </nav>\n    <!-- Please do not use role attribute as CSS selector, it is deprecated. -->\n    <nav aria-labelledby=\"p-lang-label\" class=\"mw-portlet mw-portlet-lang vector-menu vector-menu-portal portal\" id=\"p-lang\" role=\"navigation\">\n     <h3 id=\"p-lang-label\">\n      <span>\n       Languages\n      </span>\n     </h3>\n     <div class=\"vector-menu-content\">\n      <ul class=\"vector-menu-content-list\">\n       <li class=\"interlanguage-link interwiki-fr\">\n        <a class=\"interlanguage-link-target\" href=\"https://fr.wikipedia.org/wiki/Liste_des_codes_postaux_canadiens_d%C3%A9butant_par_M\" hreflang=\"fr\" lang=\"fr\" title=\"Liste des codes postaux canadiens d\u00e9butant par M \u2013 French\">\n         Fran\u00e7ais\n        </a>\n       </li>\n      </ul>\n      <div class=\"after-portlet after-portlet-lang\">\n       <span class=\"wb-langlinks-edit wb-langlinks-link\">\n        <a class=\"wbc-editpage\" href=\"https://www.wikidata.org/wiki/Special:EntityPage/Q3248240#sitelinks-wikipedia\" title=\"Edit interlanguage links\">\n         Edit links\n        </a>\n       </span>\n      </div>\n     </div>\n    </nav>\n   </div>\n  </div>\n  <footer class=\"mw-footer\" id=\"footer\" role=\"contentinfo\">\n   <ul id=\"footer-info\">\n    <li id=\"footer-info-lastmod\">\n     This page was last edited on 21 September 2020, at 11:54\n     <span class=\"anonymous-show\">\n      (UTC)\n     </span>\n     .\n    </li>\n    <li id=\"footer-info-copyright\">\n     Text is available under the\n     <a href=\"//en.wikipedia.org/wiki/Wikipedia:Text_of_Creative_Commons_Attribution-ShareAlike_3.0_Unported_License\" rel=\"license\">\n      Creative Commons Attribution-ShareAlike License\n     </a>\n     <a href=\"//creativecommons.org/licenses/by-sa/3.0/\" rel=\"license\" style=\"display:none;\">\n     </a>\n     ;\nadditional terms may apply.  By using this site, you agree to the\n     <a href=\"//foundation.wikimedia.org/wiki/Terms_of_Use\">\n      Terms of Use\n     </a>\n     and\n     <a href=\"//foundation.wikimedia.org/wiki/Privacy_policy\">\n      Privacy Policy\n     </a>\n     . Wikipedia\u00ae is a registered trademark of the\n     <a href=\"//www.wikimediafoundation.org/\">\n      Wikimedia Foundation, Inc.\n     </a>\n     , a non-profit organization.\n    </li>\n   </ul>\n   <ul id=\"footer-places\">\n    <li id=\"footer-places-privacy\">\n     <a class=\"extiw\" href=\"https://foundation.wikimedia.org/wiki/Privacy_policy\" title=\"wmf:Privacy policy\">\n      Privacy policy\n     </a>\n    </li>\n    <li id=\"footer-places-about\">\n     <a href=\"/wiki/Wikipedia:About\" title=\"Wikipedia:About\">\n      About Wikipedia\n     </a>\n    </li>\n    <li id=\"footer-places-disclaimer\">\n     <a href=\"/wiki/Wikipedia:General_disclaimer\" title=\"Wikipedia:General disclaimer\">\n      Disclaimers\n     </a>\n    </li>\n    <li id=\"footer-places-contact\">\n     <a href=\"//en.wikipedia.org/wiki/Wikipedia:Contact_us\">\n      Contact Wikipedia\n     </a>\n    </li>\n    <li id=\"footer-places-mobileview\">\n     <a class=\"noprint stopMobileRedirectToggle\" href=\"//en.m.wikipedia.org/w/index.php?title=List_of_postal_codes_of_Canada:_M&amp;mobileaction=toggle_view_mobile\">\n      Mobile view\n     </a>\n    </li>\n    <li id=\"footer-places-developers\">\n     <a href=\"https://www.mediawiki.org/wiki/Special:MyLanguage/How_to_contribute\">\n      Developers\n     </a>\n    </li>\n    <li id=\"footer-places-statslink\">\n     <a href=\"https://stats.wikimedia.org/#/en.wikipedia.org\">\n      Statistics\n     </a>\n    </li>\n    <li id=\"footer-places-cookiestatement\">\n     <a href=\"https://foundation.wikimedia.org/wiki/Cookie_statement\">\n      Cookie statement\n     </a>\n    </li>\n   </ul>\n   <ul class=\"noprint\" id=\"footer-icons\">\n    <li id=\"footer-copyrightico\">\n     <a href=\"https://wikimediafoundation.org/\">\n      <img alt=\"Wikimedia Foundation\" height=\"31\" loading=\"lazy\" src=\"/static/images/footer/wikimedia-button.png\" srcset=\"/static/images/footer/wikimedia-button-1.5x.png 1.5x, /static/images/footer/wikimedia-button-2x.png 2x\" width=\"88\"/>\n     </a>\n    </li>\n    <li id=\"footer-poweredbyico\">\n     <a href=\"https://www.mediawiki.org/\">\n      <img alt=\"Powered by MediaWiki\" height=\"31\" loading=\"lazy\" src=\"/static/images/footer/poweredby_mediawiki_88x31.png\" srcset=\"/static/images/footer/poweredby_mediawiki_132x47.png 1.5x, /static/images/footer/poweredby_mediawiki_176x62.png 2x\" width=\"88\"/>\n     </a>\n    </li>\n   </ul>\n   <div style=\"clear: both;\">\n   </div>\n  </footer>\n  <script>\n   (RLQ=window.RLQ||[]).push(function(){mw.config.set({\"wgPageParseReport\":{\"limitreport\":{\"cputime\":\"0.164\",\"walltime\":\"0.220\",\"ppvisitednodes\":{\"value\":281,\"limit\":1000000},\"postexpandincludesize\":{\"value\":10828,\"limit\":2097152},\"templateargumentsize\":{\"value\":275,\"limit\":2097152},\"expansiondepth\":{\"value\":8,\"limit\":40},\"expensivefunctioncount\":{\"value\":0,\"limit\":500},\"unstrip-depth\":{\"value\":1,\"limit\":20},\"unstrip-size\":{\"value\":9622,\"limit\":5000000},\"entityaccesscount\":{\"value\":0,\"limit\":400},\"timingprofile\":[\"100.00%  181.887      1 -total\",\" 58.26%  105.961      3 Template:Cite_web\",\" 34.39%   62.560      1 Template:Short_description\",\" 18.74%   34.078      1 Template:Pagetype\",\"  9.04%   16.449      2 Template:Main_other\",\"  6.98%   12.687      1 Template:SDcat\",\"  2.56%    4.659      1 Template:Canadian_postal_codes\"]},\"scribunto\":{\"limitreport-timeusage\":{\"value\":\"0.091\",\"limit\":\"10.000\"},\"limitreport-memusage\":{\"value\":3007423,\"limit\":52428800}},\"cachereport\":{\"origin\":\"mw1385\",\"timestamp\":\"20201029222418\",\"ttl\":2592000,\"transientcontent\":false}}});});\n  </script>\n  <script type=\"application/ld+json\">\n   {\"@context\":\"https:\\/\\/schema.org\",\"@type\":\"Article\",\"name\":\"List of postal codes of Canada: M\",\"url\":\"https:\\/\\/en.wikipedia.org\\/wiki\\/List_of_postal_codes_of_Canada:_M\",\"sameAs\":\"http:\\/\\/www.wikidata.org\\/entity\\/Q3248240\",\"mainEntity\":\"http:\\/\\/www.wikidata.org\\/entity\\/Q3248240\",\"author\":{\"@type\":\"Organization\",\"name\":\"Contributors to Wikimedia projects\"},\"publisher\":{\"@type\":\"Organization\",\"name\":\"Wikimedia Foundation, Inc.\",\"logo\":{\"@type\":\"ImageObject\",\"url\":\"https:\\/\\/www.wikimedia.org\\/static\\/images\\/wmf-hor-googpub.png\"}},\"datePublished\":\"2004-03-20T10:02:13Z\",\"dateModified\":\"2020-09-21T11:54:47Z\",\"headline\":\"Wikimedia list article\"}\n  </script>\n  <script>\n   (RLQ=window.RLQ||[]).push(function(){mw.config.set({\"wgBackendResponseTime\":139,\"wgHostname\":\"mw1355\"});});\n  </script>\n </body>\n</html>\n"
                }
            ],
            "source": "print(b_soup.prettify())"
        },
        {
            "cell_type": "code",
            "execution_count": 29,
            "metadata": {},
            "outputs": [],
            "source": "data=b_soup.find('table',class_='wikitable sortable')\ndata\n\nimport pandas as pd\nimport numpy as np"
        },
        {
            "cell_type": "code",
            "execution_count": 30,
            "metadata": {},
            "outputs": [],
            "source": "columns=[]\nfor column in data.find_all('th'):\n    columns.append(column.get_text())"
        },
        {
            "cell_type": "code",
            "execution_count": 31,
            "metadata": {},
            "outputs": [
                {
                    "data": {
                        "text/plain": "['Postal Code\\n', 'Borough\\n', 'Neighbourhood\\n']"
                    },
                    "execution_count": 31,
                    "metadata": {},
                    "output_type": "execute_result"
                }
            ],
            "source": "columns"
        },
        {
            "cell_type": "code",
            "execution_count": 32,
            "metadata": {},
            "outputs": [],
            "source": "columns[0]='PostalCode'\ncolumns[2]='Neighborhood'"
        },
        {
            "cell_type": "code",
            "execution_count": 33,
            "metadata": {},
            "outputs": [
                {
                    "data": {
                        "text/plain": "['PostalCode', 'Borough\\n', 'Neighborhood']"
                    },
                    "execution_count": 33,
                    "metadata": {},
                    "output_type": "execute_result"
                }
            ],
            "source": "columns"
        },
        {
            "cell_type": "code",
            "execution_count": 34,
            "metadata": {},
            "outputs": [
                {
                    "data": {
                        "text/html": "<div>\n<style scoped>\n    .dataframe tbody tr th:only-of-type {\n        vertical-align: middle;\n    }\n\n    .dataframe tbody tr th {\n        vertical-align: top;\n    }\n\n    .dataframe thead th {\n        text-align: right;\n    }\n</style>\n<table border=\"1\" class=\"dataframe\">\n  <thead>\n    <tr style=\"text-align: right;\">\n      <th></th>\n      <th>PostalCode</th>\n      <th>Borough\\n</th>\n      <th>Neighborhood</th>\n    </tr>\n  </thead>\n  <tbody>\n  </tbody>\n</table>\n</div>",
                        "text/plain": "Empty DataFrame\nColumns: [PostalCode, Borough\n, Neighborhood]\nIndex: []"
                    },
                    "execution_count": 34,
                    "metadata": {},
                    "output_type": "execute_result"
                }
            ],
            "source": "df=pd.DataFrame(columns=columns)\ndf"
        },
        {
            "cell_type": "code",
            "execution_count": 35,
            "metadata": {},
            "outputs": [],
            "source": "A=[]\nB=[]\nC=[]\nfor row in data.find_all(\"tr\"):\n    elements=row.find_all('td')\n    if len(elements)==3:\n        A.append(elements[0].get_text().strip())\n        B.append(elements[1].get_text().strip())\n        C.append(elements[2].get_text().strip())"
        },
        {
            "cell_type": "code",
            "execution_count": 36,
            "metadata": {},
            "outputs": [],
            "source": "df['PostalCode']=A\ndf['Borough']=B\ndf['Neighborhood']=C"
        },
        {
            "cell_type": "code",
            "execution_count": 37,
            "metadata": {},
            "outputs": [
                {
                    "data": {
                        "text/html": "<div>\n<style scoped>\n    .dataframe tbody tr th:only-of-type {\n        vertical-align: middle;\n    }\n\n    .dataframe tbody tr th {\n        vertical-align: top;\n    }\n\n    .dataframe thead th {\n        text-align: right;\n    }\n</style>\n<table border=\"1\" class=\"dataframe\">\n  <thead>\n    <tr style=\"text-align: right;\">\n      <th></th>\n      <th>PostalCode</th>\n      <th>Borough\\n</th>\n      <th>Neighborhood</th>\n      <th>Borough</th>\n    </tr>\n  </thead>\n  <tbody>\n    <tr>\n      <th>0</th>\n      <td>M1A</td>\n      <td>NaN</td>\n      <td>Not assigned</td>\n      <td>Not assigned</td>\n    </tr>\n    <tr>\n      <th>1</th>\n      <td>M2A</td>\n      <td>NaN</td>\n      <td>Not assigned</td>\n      <td>Not assigned</td>\n    </tr>\n    <tr>\n      <th>2</th>\n      <td>M3A</td>\n      <td>NaN</td>\n      <td>Parkwoods</td>\n      <td>North York</td>\n    </tr>\n    <tr>\n      <th>3</th>\n      <td>M4A</td>\n      <td>NaN</td>\n      <td>Victoria Village</td>\n      <td>North York</td>\n    </tr>\n    <tr>\n      <th>4</th>\n      <td>M5A</td>\n      <td>NaN</td>\n      <td>Regent Park, Harbourfront</td>\n      <td>Downtown Toronto</td>\n    </tr>\n  </tbody>\n</table>\n</div>",
                        "text/plain": "  PostalCode Borough\\n               Neighborhood           Borough\n0        M1A       NaN               Not assigned      Not assigned\n1        M2A       NaN               Not assigned      Not assigned\n2        M3A       NaN                  Parkwoods        North York\n3        M4A       NaN           Victoria Village        North York\n4        M5A       NaN  Regent Park, Harbourfront  Downtown Toronto"
                    },
                    "execution_count": 37,
                    "metadata": {},
                    "output_type": "execute_result"
                }
            ],
            "source": "df.head()"
        },
        {
            "cell_type": "code",
            "execution_count": 38,
            "metadata": {},
            "outputs": [
                {
                    "data": {
                        "text/plain": "(180, 4)"
                    },
                    "execution_count": 38,
                    "metadata": {},
                    "output_type": "execute_result"
                }
            ],
            "source": "df.shape"
        },
        {
            "cell_type": "code",
            "execution_count": 39,
            "metadata": {},
            "outputs": [],
            "source": "df.to_csv('TorontoDataset.csv')"
        },
        {
            "cell_type": "code",
            "execution_count": 40,
            "metadata": {},
            "outputs": [],
            "source": "## Question 2 Geographical Coordinates"
        },
        {
            "cell_type": "code",
            "execution_count": 41,
            "metadata": {},
            "outputs": [],
            "source": "import pandas as pd\nimport numpy as np"
        },
        {
            "cell_type": "code",
            "execution_count": 42,
            "metadata": {},
            "outputs": [],
            "source": "df=pd.read_csv('TorontoDataset.csv')"
        },
        {
            "cell_type": "code",
            "execution_count": 43,
            "metadata": {},
            "outputs": [
                {
                    "data": {
                        "text/html": "<div>\n<style scoped>\n    .dataframe tbody tr th:only-of-type {\n        vertical-align: middle;\n    }\n\n    .dataframe tbody tr th {\n        vertical-align: top;\n    }\n\n    .dataframe thead th {\n        text-align: right;\n    }\n</style>\n<table border=\"1\" class=\"dataframe\">\n  <thead>\n    <tr style=\"text-align: right;\">\n      <th></th>\n      <th>Unnamed: 0</th>\n      <th>PostalCode</th>\n      <th>Borough\\n</th>\n      <th>Neighborhood</th>\n      <th>Borough</th>\n    </tr>\n  </thead>\n  <tbody>\n    <tr>\n      <th>0</th>\n      <td>0</td>\n      <td>M1A</td>\n      <td>NaN</td>\n      <td>Not assigned</td>\n      <td>Not assigned</td>\n    </tr>\n    <tr>\n      <th>1</th>\n      <td>1</td>\n      <td>M2A</td>\n      <td>NaN</td>\n      <td>Not assigned</td>\n      <td>Not assigned</td>\n    </tr>\n    <tr>\n      <th>2</th>\n      <td>2</td>\n      <td>M3A</td>\n      <td>NaN</td>\n      <td>Parkwoods</td>\n      <td>North York</td>\n    </tr>\n    <tr>\n      <th>3</th>\n      <td>3</td>\n      <td>M4A</td>\n      <td>NaN</td>\n      <td>Victoria Village</td>\n      <td>North York</td>\n    </tr>\n    <tr>\n      <th>4</th>\n      <td>4</td>\n      <td>M5A</td>\n      <td>NaN</td>\n      <td>Regent Park, Harbourfront</td>\n      <td>Downtown Toronto</td>\n    </tr>\n  </tbody>\n</table>\n</div>",
                        "text/plain": "   Unnamed: 0 PostalCode  Borough\\n               Neighborhood  \\\n0           0        M1A        NaN               Not assigned   \n1           1        M2A        NaN               Not assigned   \n2           2        M3A        NaN                  Parkwoods   \n3           3        M4A        NaN           Victoria Village   \n4           4        M5A        NaN  Regent Park, Harbourfront   \n\n            Borough  \n0      Not assigned  \n1      Not assigned  \n2        North York  \n3        North York  \n4  Downtown Toronto  "
                    },
                    "execution_count": 43,
                    "metadata": {},
                    "output_type": "execute_result"
                }
            ],
            "source": "df.head()"
        },
        {
            "cell_type": "code",
            "execution_count": 44,
            "metadata": {},
            "outputs": [],
            "source": "df.drop('Unnamed: 0',axis=1,inplace=True)"
        },
        {
            "cell_type": "code",
            "execution_count": 45,
            "metadata": {},
            "outputs": [
                {
                    "data": {
                        "text/html": "<div>\n<style scoped>\n    .dataframe tbody tr th:only-of-type {\n        vertical-align: middle;\n    }\n\n    .dataframe tbody tr th {\n        vertical-align: top;\n    }\n\n    .dataframe thead th {\n        text-align: right;\n    }\n</style>\n<table border=\"1\" class=\"dataframe\">\n  <thead>\n    <tr style=\"text-align: right;\">\n      <th></th>\n      <th>PostalCode</th>\n      <th>Borough\\n</th>\n      <th>Neighborhood</th>\n      <th>Borough</th>\n    </tr>\n  </thead>\n  <tbody>\n    <tr>\n      <th>0</th>\n      <td>M1A</td>\n      <td>NaN</td>\n      <td>Not assigned</td>\n      <td>Not assigned</td>\n    </tr>\n    <tr>\n      <th>1</th>\n      <td>M2A</td>\n      <td>NaN</td>\n      <td>Not assigned</td>\n      <td>Not assigned</td>\n    </tr>\n    <tr>\n      <th>2</th>\n      <td>M3A</td>\n      <td>NaN</td>\n      <td>Parkwoods</td>\n      <td>North York</td>\n    </tr>\n    <tr>\n      <th>3</th>\n      <td>M4A</td>\n      <td>NaN</td>\n      <td>Victoria Village</td>\n      <td>North York</td>\n    </tr>\n    <tr>\n      <th>4</th>\n      <td>M5A</td>\n      <td>NaN</td>\n      <td>Regent Park, Harbourfront</td>\n      <td>Downtown Toronto</td>\n    </tr>\n  </tbody>\n</table>\n</div>",
                        "text/plain": "  PostalCode  Borough\\n               Neighborhood           Borough\n0        M1A        NaN               Not assigned      Not assigned\n1        M2A        NaN               Not assigned      Not assigned\n2        M3A        NaN                  Parkwoods        North York\n3        M4A        NaN           Victoria Village        North York\n4        M5A        NaN  Regent Park, Harbourfront  Downtown Toronto"
                    },
                    "execution_count": 45,
                    "metadata": {},
                    "output_type": "execute_result"
                }
            ],
            "source": "df.head()"
        },
        {
            "cell_type": "code",
            "execution_count": 46,
            "metadata": {},
            "outputs": [],
            "source": "df_geo=pd.read_csv('https://cocl.us/Geospatial_data')"
        },
        {
            "cell_type": "code",
            "execution_count": 47,
            "metadata": {
                "scrolled": true
            },
            "outputs": [
                {
                    "data": {
                        "text/html": "<div>\n<style scoped>\n    .dataframe tbody tr th:only-of-type {\n        vertical-align: middle;\n    }\n\n    .dataframe tbody tr th {\n        vertical-align: top;\n    }\n\n    .dataframe thead th {\n        text-align: right;\n    }\n</style>\n<table border=\"1\" class=\"dataframe\">\n  <thead>\n    <tr style=\"text-align: right;\">\n      <th></th>\n      <th>Postal Code</th>\n      <th>Latitude</th>\n      <th>Longitude</th>\n    </tr>\n  </thead>\n  <tbody>\n    <tr>\n      <th>0</th>\n      <td>M1B</td>\n      <td>43.806686</td>\n      <td>-79.194353</td>\n    </tr>\n    <tr>\n      <th>1</th>\n      <td>M1C</td>\n      <td>43.784535</td>\n      <td>-79.160497</td>\n    </tr>\n    <tr>\n      <th>2</th>\n      <td>M1E</td>\n      <td>43.763573</td>\n      <td>-79.188711</td>\n    </tr>\n    <tr>\n      <th>3</th>\n      <td>M1G</td>\n      <td>43.770992</td>\n      <td>-79.216917</td>\n    </tr>\n    <tr>\n      <th>4</th>\n      <td>M1H</td>\n      <td>43.773136</td>\n      <td>-79.239476</td>\n    </tr>\n  </tbody>\n</table>\n</div>",
                        "text/plain": "  Postal Code   Latitude  Longitude\n0         M1B  43.806686 -79.194353\n1         M1C  43.784535 -79.160497\n2         M1E  43.763573 -79.188711\n3         M1G  43.770992 -79.216917\n4         M1H  43.773136 -79.239476"
                    },
                    "execution_count": 47,
                    "metadata": {},
                    "output_type": "execute_result"
                }
            ],
            "source": "\ndf_geo.head()"
        },
        {
            "cell_type": "code",
            "execution_count": 48,
            "metadata": {},
            "outputs": [
                {
                    "data": {
                        "text/plain": "(103, 3)"
                    },
                    "execution_count": 48,
                    "metadata": {},
                    "output_type": "execute_result"
                }
            ],
            "source": "df_geo.shape"
        },
        {
            "cell_type": "code",
            "execution_count": 49,
            "metadata": {},
            "outputs": [],
            "source": "df_geo=df_geo.rename({'Postal Code':'PostalCode'},axis=1)"
        },
        {
            "cell_type": "code",
            "execution_count": 50,
            "metadata": {},
            "outputs": [
                {
                    "data": {
                        "text/html": "<div>\n<style scoped>\n    .dataframe tbody tr th:only-of-type {\n        vertical-align: middle;\n    }\n\n    .dataframe tbody tr th {\n        vertical-align: top;\n    }\n\n    .dataframe thead th {\n        text-align: right;\n    }\n</style>\n<table border=\"1\" class=\"dataframe\">\n  <thead>\n    <tr style=\"text-align: right;\">\n      <th></th>\n      <th>PostalCode</th>\n      <th>Latitude</th>\n      <th>Longitude</th>\n    </tr>\n  </thead>\n  <tbody>\n    <tr>\n      <th>0</th>\n      <td>M1B</td>\n      <td>43.806686</td>\n      <td>-79.194353</td>\n    </tr>\n    <tr>\n      <th>1</th>\n      <td>M1C</td>\n      <td>43.784535</td>\n      <td>-79.160497</td>\n    </tr>\n    <tr>\n      <th>2</th>\n      <td>M1E</td>\n      <td>43.763573</td>\n      <td>-79.188711</td>\n    </tr>\n    <tr>\n      <th>3</th>\n      <td>M1G</td>\n      <td>43.770992</td>\n      <td>-79.216917</td>\n    </tr>\n    <tr>\n      <th>4</th>\n      <td>M1H</td>\n      <td>43.773136</td>\n      <td>-79.239476</td>\n    </tr>\n  </tbody>\n</table>\n</div>",
                        "text/plain": "  PostalCode   Latitude  Longitude\n0        M1B  43.806686 -79.194353\n1        M1C  43.784535 -79.160497\n2        M1E  43.763573 -79.188711\n3        M1G  43.770992 -79.216917\n4        M1H  43.773136 -79.239476"
                    },
                    "execution_count": 50,
                    "metadata": {},
                    "output_type": "execute_result"
                }
            ],
            "source": "df_geo.head()"
        },
        {
            "cell_type": "code",
            "execution_count": 51,
            "metadata": {},
            "outputs": [],
            "source": "df=df.join(df_geo.set_index('PostalCode'),on='PostalCode')\n"
        },
        {
            "cell_type": "code",
            "execution_count": 52,
            "metadata": {},
            "outputs": [
                {
                    "data": {
                        "text/html": "<div>\n<style scoped>\n    .dataframe tbody tr th:only-of-type {\n        vertical-align: middle;\n    }\n\n    .dataframe tbody tr th {\n        vertical-align: top;\n    }\n\n    .dataframe thead th {\n        text-align: right;\n    }\n</style>\n<table border=\"1\" class=\"dataframe\">\n  <thead>\n    <tr style=\"text-align: right;\">\n      <th></th>\n      <th>PostalCode</th>\n      <th>Borough\\n</th>\n      <th>Neighborhood</th>\n      <th>Borough</th>\n      <th>Latitude</th>\n      <th>Longitude</th>\n    </tr>\n  </thead>\n  <tbody>\n    <tr>\n      <th>0</th>\n      <td>M1A</td>\n      <td>NaN</td>\n      <td>Not assigned</td>\n      <td>Not assigned</td>\n      <td>NaN</td>\n      <td>NaN</td>\n    </tr>\n    <tr>\n      <th>1</th>\n      <td>M2A</td>\n      <td>NaN</td>\n      <td>Not assigned</td>\n      <td>Not assigned</td>\n      <td>NaN</td>\n      <td>NaN</td>\n    </tr>\n    <tr>\n      <th>2</th>\n      <td>M3A</td>\n      <td>NaN</td>\n      <td>Parkwoods</td>\n      <td>North York</td>\n      <td>43.753259</td>\n      <td>-79.329656</td>\n    </tr>\n    <tr>\n      <th>3</th>\n      <td>M4A</td>\n      <td>NaN</td>\n      <td>Victoria Village</td>\n      <td>North York</td>\n      <td>43.725882</td>\n      <td>-79.315572</td>\n    </tr>\n    <tr>\n      <th>4</th>\n      <td>M5A</td>\n      <td>NaN</td>\n      <td>Regent Park, Harbourfront</td>\n      <td>Downtown Toronto</td>\n      <td>43.654260</td>\n      <td>-79.360636</td>\n    </tr>\n  </tbody>\n</table>\n</div>",
                        "text/plain": "  PostalCode  Borough\\n               Neighborhood           Borough  \\\n0        M1A        NaN               Not assigned      Not assigned   \n1        M2A        NaN               Not assigned      Not assigned   \n2        M3A        NaN                  Parkwoods        North York   \n3        M4A        NaN           Victoria Village        North York   \n4        M5A        NaN  Regent Park, Harbourfront  Downtown Toronto   \n\n    Latitude  Longitude  \n0        NaN        NaN  \n1        NaN        NaN  \n2  43.753259 -79.329656  \n3  43.725882 -79.315572  \n4  43.654260 -79.360636  "
                    },
                    "execution_count": 52,
                    "metadata": {},
                    "output_type": "execute_result"
                }
            ],
            "source": "df.head()"
        },
        {
            "cell_type": "code",
            "execution_count": 53,
            "metadata": {},
            "outputs": [],
            "source": "df.to_csv(\"TorontoGeoData.csv\")"
        },
        {
            "cell_type": "code",
            "execution_count": 54,
            "metadata": {},
            "outputs": [],
            "source": "## Question 3 Exploring and Clustering the Neighborhood in Toronto"
        },
        {
            "cell_type": "code",
            "execution_count": 55,
            "metadata": {},
            "outputs": [
                {
                    "name": "stdout",
                    "output_type": "stream",
                    "text": "Collecting folium\n  Downloading folium-0.11.0-py2.py3-none-any.whl (93 kB)\n\u001b[K     |\u2588\u2588\u2588\u2588\u2588\u2588\u2588\u2588\u2588\u2588\u2588\u2588\u2588\u2588\u2588\u2588\u2588\u2588\u2588\u2588\u2588\u2588\u2588\u2588\u2588\u2588\u2588\u2588\u2588\u2588\u2588\u2588| 93 kB 2.4 MB/s eta 0:00:011\n\u001b[?25hRequirement already satisfied: jinja2>=2.9 in /opt/conda/envs/Python-3.7-main/lib/python3.7/site-packages (from folium) (2.11.2)\nCollecting branca>=0.3.0\n  Downloading branca-0.4.1-py3-none-any.whl (24 kB)\nRequirement already satisfied: requests in /opt/conda/envs/Python-3.7-main/lib/python3.7/site-packages (from folium) (2.24.0)\nRequirement already satisfied: numpy in /opt/conda/envs/Python-3.7-main/lib/python3.7/site-packages (from folium) (1.18.5)\nRequirement already satisfied: MarkupSafe>=0.23 in /opt/conda/envs/Python-3.7-main/lib/python3.7/site-packages (from jinja2>=2.9->folium) (1.1.1)\nRequirement already satisfied: certifi>=2017.4.17 in /opt/conda/envs/Python-3.7-main/lib/python3.7/site-packages (from requests->folium) (2020.6.20)\nRequirement already satisfied: chardet<4,>=3.0.2 in /opt/conda/envs/Python-3.7-main/lib/python3.7/site-packages (from requests->folium) (3.0.4)\nRequirement already satisfied: idna<3,>=2.5 in /opt/conda/envs/Python-3.7-main/lib/python3.7/site-packages (from requests->folium) (2.9)\nRequirement already satisfied: urllib3!=1.25.0,!=1.25.1,<1.26,>=1.21.1 in /opt/conda/envs/Python-3.7-main/lib/python3.7/site-packages (from requests->folium) (1.25.9)\nInstalling collected packages: branca, folium\nSuccessfully installed branca-0.4.1 folium-0.11.0\nLibraries imported.\n"
                }
            ],
            "source": "import numpy as np # library to handle data in a vectorized manner\n\nimport pandas as pd # library for data analsysis\n\nfrom geopy.geocoders import Nominatim # convert an address into latitude and longitude values\n\n# Matplotlib and associated plotting modules\nimport matplotlib.cm as cm\nimport matplotlib.colors as colors\n\n# import k-means from clustering stage\nfrom sklearn.cluster import KMeans\n!pip install folium\nimport folium # map rendering library\n\nprint('Libraries imported.')"
        },
        {
            "cell_type": "code",
            "execution_count": 56,
            "metadata": {},
            "outputs": [],
            "source": "\ndf=pd.read_csv('TorontoGeoData.csv')"
        },
        {
            "cell_type": "code",
            "execution_count": 57,
            "metadata": {},
            "outputs": [
                {
                    "data": {
                        "text/html": "<div>\n<style scoped>\n    .dataframe tbody tr th:only-of-type {\n        vertical-align: middle;\n    }\n\n    .dataframe tbody tr th {\n        vertical-align: top;\n    }\n\n    .dataframe thead th {\n        text-align: right;\n    }\n</style>\n<table border=\"1\" class=\"dataframe\">\n  <thead>\n    <tr style=\"text-align: right;\">\n      <th></th>\n      <th>Unnamed: 0</th>\n      <th>PostalCode</th>\n      <th>Borough\\n</th>\n      <th>Neighborhood</th>\n      <th>Borough</th>\n      <th>Latitude</th>\n      <th>Longitude</th>\n    </tr>\n  </thead>\n  <tbody>\n    <tr>\n      <th>0</th>\n      <td>0</td>\n      <td>M1A</td>\n      <td>NaN</td>\n      <td>Not assigned</td>\n      <td>Not assigned</td>\n      <td>NaN</td>\n      <td>NaN</td>\n    </tr>\n    <tr>\n      <th>1</th>\n      <td>1</td>\n      <td>M2A</td>\n      <td>NaN</td>\n      <td>Not assigned</td>\n      <td>Not assigned</td>\n      <td>NaN</td>\n      <td>NaN</td>\n    </tr>\n    <tr>\n      <th>2</th>\n      <td>2</td>\n      <td>M3A</td>\n      <td>NaN</td>\n      <td>Parkwoods</td>\n      <td>North York</td>\n      <td>43.753259</td>\n      <td>-79.329656</td>\n    </tr>\n    <tr>\n      <th>3</th>\n      <td>3</td>\n      <td>M4A</td>\n      <td>NaN</td>\n      <td>Victoria Village</td>\n      <td>North York</td>\n      <td>43.725882</td>\n      <td>-79.315572</td>\n    </tr>\n    <tr>\n      <th>4</th>\n      <td>4</td>\n      <td>M5A</td>\n      <td>NaN</td>\n      <td>Regent Park, Harbourfront</td>\n      <td>Downtown Toronto</td>\n      <td>43.654260</td>\n      <td>-79.360636</td>\n    </tr>\n  </tbody>\n</table>\n</div>",
                        "text/plain": "   Unnamed: 0 PostalCode  Borough\\n               Neighborhood  \\\n0           0        M1A        NaN               Not assigned   \n1           1        M2A        NaN               Not assigned   \n2           2        M3A        NaN                  Parkwoods   \n3           3        M4A        NaN           Victoria Village   \n4           4        M5A        NaN  Regent Park, Harbourfront   \n\n            Borough   Latitude  Longitude  \n0      Not assigned        NaN        NaN  \n1      Not assigned        NaN        NaN  \n2        North York  43.753259 -79.329656  \n3        North York  43.725882 -79.315572  \n4  Downtown Toronto  43.654260 -79.360636  "
                    },
                    "execution_count": 57,
                    "metadata": {},
                    "output_type": "execute_result"
                }
            ],
            "source": "df.head()"
        },
        {
            "cell_type": "code",
            "execution_count": 58,
            "metadata": {},
            "outputs": [
                {
                    "name": "stdout",
                    "output_type": "stream",
                    "text": "The coordinates of Toronto are 43.6534817,-79.3839347\n"
                }
            ],
            "source": "toronto_add='Toronto, Ontario' #CITY ADDRESS\ngeolocator=Nominatim(user_agent='toronto_explorer')\nlocation=geolocator.geocode(toronto_add)\nlatitude=location.latitude\nlongitude=location.longitude\nprint(\"The coordinates of Toronto are {},{}\".format(latitude,longitude))"
        },
        {
            "cell_type": "code",
            "execution_count": 59,
            "metadata": {},
            "outputs": [
                {
                    "ename": "ValueError",
                    "evalue": "Location values cannot contain NaNs.",
                    "output_type": "error",
                    "traceback": [
                        "\u001b[0;31m---------------------------------------------------------------------------\u001b[0m",
                        "\u001b[0;31mValueError\u001b[0m                                Traceback (most recent call last)",
                        "\u001b[0;32m<ipython-input-59-645df37fd558>\u001b[0m in \u001b[0;36m<module>\u001b[0;34m\u001b[0m\n\u001b[1;32m      5\u001b[0m     folium.CircleMarker([lat,long],radius=5,color='blue',popup=label,\n\u001b[1;32m      6\u001b[0m                         \u001b[0mfill\u001b[0m\u001b[0;34m=\u001b[0m\u001b[0;32mTrue\u001b[0m\u001b[0;34m,\u001b[0m\u001b[0mfill_color\u001b[0m\u001b[0;34m=\u001b[0m\u001b[0;34m'#3186cc'\u001b[0m\u001b[0;34m,\u001b[0m\u001b[0mfill_opacity\u001b[0m\u001b[0;34m=\u001b[0m\u001b[0;36m0.7\u001b[0m\u001b[0;34m,\u001b[0m\u001b[0;34m\u001b[0m\u001b[0;34m\u001b[0m\u001b[0m\n\u001b[0;32m----> 7\u001b[0;31m                         parse_html=True).add_to(Toronto_map)\n\u001b[0m",
                        "\u001b[0;32m/opt/conda/envs/Python-3.7-main/lib/python3.7/site-packages/folium/vector_layers.py\u001b[0m in \u001b[0;36m__init__\u001b[0;34m(self, location, radius, popup, tooltip, **kwargs)\u001b[0m\n\u001b[1;32m    303\u001b[0m     \u001b[0;32mdef\u001b[0m \u001b[0m__init__\u001b[0m\u001b[0;34m(\u001b[0m\u001b[0mself\u001b[0m\u001b[0;34m,\u001b[0m \u001b[0mlocation\u001b[0m\u001b[0;34m,\u001b[0m \u001b[0mradius\u001b[0m\u001b[0;34m=\u001b[0m\u001b[0;36m10\u001b[0m\u001b[0;34m,\u001b[0m \u001b[0mpopup\u001b[0m\u001b[0;34m=\u001b[0m\u001b[0;32mNone\u001b[0m\u001b[0;34m,\u001b[0m \u001b[0mtooltip\u001b[0m\u001b[0;34m=\u001b[0m\u001b[0;32mNone\u001b[0m\u001b[0;34m,\u001b[0m \u001b[0;34m**\u001b[0m\u001b[0mkwargs\u001b[0m\u001b[0;34m)\u001b[0m\u001b[0;34m:\u001b[0m\u001b[0;34m\u001b[0m\u001b[0;34m\u001b[0m\u001b[0m\n\u001b[1;32m    304\u001b[0m         super(CircleMarker, self).__init__(location, popup=popup,\n\u001b[0;32m--> 305\u001b[0;31m                                            tooltip=tooltip)\n\u001b[0m\u001b[1;32m    306\u001b[0m         \u001b[0mself\u001b[0m\u001b[0;34m.\u001b[0m\u001b[0m_name\u001b[0m \u001b[0;34m=\u001b[0m \u001b[0;34m'CircleMarker'\u001b[0m\u001b[0;34m\u001b[0m\u001b[0;34m\u001b[0m\u001b[0m\n\u001b[1;32m    307\u001b[0m         \u001b[0mself\u001b[0m\u001b[0;34m.\u001b[0m\u001b[0moptions\u001b[0m \u001b[0;34m=\u001b[0m \u001b[0mpath_options\u001b[0m\u001b[0;34m(\u001b[0m\u001b[0mline\u001b[0m\u001b[0;34m=\u001b[0m\u001b[0;32mFalse\u001b[0m\u001b[0;34m,\u001b[0m \u001b[0mradius\u001b[0m\u001b[0;34m=\u001b[0m\u001b[0mradius\u001b[0m\u001b[0;34m,\u001b[0m \u001b[0;34m**\u001b[0m\u001b[0mkwargs\u001b[0m\u001b[0;34m)\u001b[0m\u001b[0;34m\u001b[0m\u001b[0;34m\u001b[0m\u001b[0m\n",
                        "\u001b[0;32m/opt/conda/envs/Python-3.7-main/lib/python3.7/site-packages/folium/map.py\u001b[0m in \u001b[0;36m__init__\u001b[0;34m(self, location, popup, tooltip, icon, draggable, **kwargs)\u001b[0m\n\u001b[1;32m    275\u001b[0m         \u001b[0msuper\u001b[0m\u001b[0;34m(\u001b[0m\u001b[0mMarker\u001b[0m\u001b[0;34m,\u001b[0m \u001b[0mself\u001b[0m\u001b[0;34m)\u001b[0m\u001b[0;34m.\u001b[0m\u001b[0m__init__\u001b[0m\u001b[0;34m(\u001b[0m\u001b[0;34m)\u001b[0m\u001b[0;34m\u001b[0m\u001b[0;34m\u001b[0m\u001b[0m\n\u001b[1;32m    276\u001b[0m         \u001b[0mself\u001b[0m\u001b[0;34m.\u001b[0m\u001b[0m_name\u001b[0m \u001b[0;34m=\u001b[0m \u001b[0;34m'Marker'\u001b[0m\u001b[0;34m\u001b[0m\u001b[0;34m\u001b[0m\u001b[0m\n\u001b[0;32m--> 277\u001b[0;31m         \u001b[0mself\u001b[0m\u001b[0;34m.\u001b[0m\u001b[0mlocation\u001b[0m \u001b[0;34m=\u001b[0m \u001b[0mvalidate_location\u001b[0m\u001b[0;34m(\u001b[0m\u001b[0mlocation\u001b[0m\u001b[0;34m)\u001b[0m\u001b[0;34m\u001b[0m\u001b[0;34m\u001b[0m\u001b[0m\n\u001b[0m\u001b[1;32m    278\u001b[0m         self.options = parse_options(\n\u001b[1;32m    279\u001b[0m             \u001b[0mdraggable\u001b[0m\u001b[0;34m=\u001b[0m\u001b[0mdraggable\u001b[0m \u001b[0;32mor\u001b[0m \u001b[0;32mNone\u001b[0m\u001b[0;34m,\u001b[0m\u001b[0;34m\u001b[0m\u001b[0;34m\u001b[0m\u001b[0m\n",
                        "\u001b[0;32m/opt/conda/envs/Python-3.7-main/lib/python3.7/site-packages/folium/utilities.py\u001b[0m in \u001b[0;36mvalidate_location\u001b[0;34m(location)\u001b[0m\n\u001b[1;32m     63\u001b[0m                              .format(coord, type(coord)))\n\u001b[1;32m     64\u001b[0m         \u001b[0;32mif\u001b[0m \u001b[0mmath\u001b[0m\u001b[0;34m.\u001b[0m\u001b[0misnan\u001b[0m\u001b[0;34m(\u001b[0m\u001b[0mfloat\u001b[0m\u001b[0;34m(\u001b[0m\u001b[0mcoord\u001b[0m\u001b[0;34m)\u001b[0m\u001b[0;34m)\u001b[0m\u001b[0;34m:\u001b[0m\u001b[0;34m\u001b[0m\u001b[0;34m\u001b[0m\u001b[0m\n\u001b[0;32m---> 65\u001b[0;31m             \u001b[0;32mraise\u001b[0m \u001b[0mValueError\u001b[0m\u001b[0;34m(\u001b[0m\u001b[0;34m'Location values cannot contain NaNs.'\u001b[0m\u001b[0;34m)\u001b[0m\u001b[0;34m\u001b[0m\u001b[0;34m\u001b[0m\u001b[0m\n\u001b[0m\u001b[1;32m     66\u001b[0m     \u001b[0;32mreturn\u001b[0m \u001b[0;34m[\u001b[0m\u001b[0mfloat\u001b[0m\u001b[0;34m(\u001b[0m\u001b[0mx\u001b[0m\u001b[0;34m)\u001b[0m \u001b[0;32mfor\u001b[0m \u001b[0mx\u001b[0m \u001b[0;32min\u001b[0m \u001b[0mcoords\u001b[0m\u001b[0;34m]\u001b[0m\u001b[0;34m\u001b[0m\u001b[0;34m\u001b[0m\u001b[0m\n\u001b[1;32m     67\u001b[0m \u001b[0;34m\u001b[0m\u001b[0m\n",
                        "\u001b[0;31mValueError\u001b[0m: Location values cannot contain NaNs."
                    ]
                }
            ],
            "source": "Toronto_map=folium.Map([latitude,longitude],zoom_start=10)\nfor lat,long,postalcode,borough,neighborhood in zip(df['Latitude'],df['Longitude'],df['PostalCode'],df['Borough'],df['Neighborhood']):\n    label='Postal Code:{},Neighborhoods:{},Borough:{}'.format(postalcode,neighborhood,borough)\n    label=folium.Popup(label,parse_html=True)\n    folium.CircleMarker([lat,long],radius=5,color='blue',popup=label,\n                        fill=True,fill_color='#3186cc',fill_opacity=0.7,\n                        parse_html=True).add_to(Toronto_map)"
        },
        {
            "cell_type": "code",
            "execution_count": 60,
            "metadata": {},
            "outputs": [
                {
                    "data": {
                        "text/html": "<div style=\"width:100%;\"><div style=\"position:relative;width:100%;height:0;padding-bottom:60%;\"><span style=\"color:#565656\">Make this Notebook Trusted to load map: File -> Trust Notebook</span><iframe src=\"about:blank\" style=\"position:absolute;width:100%;height:100%;left:0;top:0;border:none !important;\" data-html=PCFET0NUWVBFIGh0bWw+CjxoZWFkPiAgICAKICAgIDxtZXRhIGh0dHAtZXF1aXY9ImNvbnRlbnQtdHlwZSIgY29udGVudD0idGV4dC9odG1sOyBjaGFyc2V0PVVURi04IiAvPgogICAgCiAgICAgICAgPHNjcmlwdD4KICAgICAgICAgICAgTF9OT19UT1VDSCA9IGZhbHNlOwogICAgICAgICAgICBMX0RJU0FCTEVfM0QgPSBmYWxzZTsKICAgICAgICA8L3NjcmlwdD4KICAgIAogICAgPHNjcmlwdCBzcmM9Imh0dHBzOi8vY2RuLmpzZGVsaXZyLm5ldC9ucG0vbGVhZmxldEAxLjYuMC9kaXN0L2xlYWZsZXQuanMiPjwvc2NyaXB0PgogICAgPHNjcmlwdCBzcmM9Imh0dHBzOi8vY29kZS5qcXVlcnkuY29tL2pxdWVyeS0xLjEyLjQubWluLmpzIj48L3NjcmlwdD4KICAgIDxzY3JpcHQgc3JjPSJodHRwczovL21heGNkbi5ib290c3RyYXBjZG4uY29tL2Jvb3RzdHJhcC8zLjIuMC9qcy9ib290c3RyYXAubWluLmpzIj48L3NjcmlwdD4KICAgIDxzY3JpcHQgc3JjPSJodHRwczovL2NkbmpzLmNsb3VkZmxhcmUuY29tL2FqYXgvbGlicy9MZWFmbGV0LmF3ZXNvbWUtbWFya2Vycy8yLjAuMi9sZWFmbGV0LmF3ZXNvbWUtbWFya2Vycy5qcyI+PC9zY3JpcHQ+CiAgICA8bGluayByZWw9InN0eWxlc2hlZXQiIGhyZWY9Imh0dHBzOi8vY2RuLmpzZGVsaXZyLm5ldC9ucG0vbGVhZmxldEAxLjYuMC9kaXN0L2xlYWZsZXQuY3NzIi8+CiAgICA8bGluayByZWw9InN0eWxlc2hlZXQiIGhyZWY9Imh0dHBzOi8vbWF4Y2RuLmJvb3RzdHJhcGNkbi5jb20vYm9vdHN0cmFwLzMuMi4wL2Nzcy9ib290c3RyYXAubWluLmNzcyIvPgogICAgPGxpbmsgcmVsPSJzdHlsZXNoZWV0IiBocmVmPSJodHRwczovL21heGNkbi5ib290c3RyYXBjZG4uY29tL2Jvb3RzdHJhcC8zLjIuMC9jc3MvYm9vdHN0cmFwLXRoZW1lLm1pbi5jc3MiLz4KICAgIDxsaW5rIHJlbD0ic3R5bGVzaGVldCIgaHJlZj0iaHR0cHM6Ly9tYXhjZG4uYm9vdHN0cmFwY2RuLmNvbS9mb250LWF3ZXNvbWUvNC42LjMvY3NzL2ZvbnQtYXdlc29tZS5taW4uY3NzIi8+CiAgICA8bGluayByZWw9InN0eWxlc2hlZXQiIGhyZWY9Imh0dHBzOi8vY2RuanMuY2xvdWRmbGFyZS5jb20vYWpheC9saWJzL0xlYWZsZXQuYXdlc29tZS1tYXJrZXJzLzIuMC4yL2xlYWZsZXQuYXdlc29tZS1tYXJrZXJzLmNzcyIvPgogICAgPGxpbmsgcmVsPSJzdHlsZXNoZWV0IiBocmVmPSJodHRwczovL3Jhd2Nkbi5naXRoYWNrLmNvbS9weXRob24tdmlzdWFsaXphdGlvbi9mb2xpdW0vbWFzdGVyL2ZvbGl1bS90ZW1wbGF0ZXMvbGVhZmxldC5hd2Vzb21lLnJvdGF0ZS5jc3MiLz4KICAgIDxzdHlsZT5odG1sLCBib2R5IHt3aWR0aDogMTAwJTtoZWlnaHQ6IDEwMCU7bWFyZ2luOiAwO3BhZGRpbmc6IDA7fTwvc3R5bGU+CiAgICA8c3R5bGU+I21hcCB7cG9zaXRpb246YWJzb2x1dGU7dG9wOjA7Ym90dG9tOjA7cmlnaHQ6MDtsZWZ0OjA7fTwvc3R5bGU+CiAgICAKICAgICAgICAgICAgPG1ldGEgbmFtZT0idmlld3BvcnQiIGNvbnRlbnQ9IndpZHRoPWRldmljZS13aWR0aCwKICAgICAgICAgICAgICAgIGluaXRpYWwtc2NhbGU9MS4wLCBtYXhpbXVtLXNjYWxlPTEuMCwgdXNlci1zY2FsYWJsZT1ubyIgLz4KICAgICAgICAgICAgPHN0eWxlPgogICAgICAgICAgICAgICAgI21hcF82ZTUzMmY1ODNkMWY0ODNjYmE3OGQ3Y2UwMzg4NGE5OCB7CiAgICAgICAgICAgICAgICAgICAgcG9zaXRpb246IHJlbGF0aXZlOwogICAgICAgICAgICAgICAgICAgIHdpZHRoOiAxMDAuMCU7CiAgICAgICAgICAgICAgICAgICAgaGVpZ2h0OiAxMDAuMCU7CiAgICAgICAgICAgICAgICAgICAgbGVmdDogMC4wJTsKICAgICAgICAgICAgICAgICAgICB0b3A6IDAuMCU7CiAgICAgICAgICAgICAgICB9CiAgICAgICAgICAgIDwvc3R5bGU+CiAgICAgICAgCjwvaGVhZD4KPGJvZHk+ICAgIAogICAgCiAgICAgICAgICAgIDxkaXYgY2xhc3M9ImZvbGl1bS1tYXAiIGlkPSJtYXBfNmU1MzJmNTgzZDFmNDgzY2JhNzhkN2NlMDM4ODRhOTgiID48L2Rpdj4KICAgICAgICAKPC9ib2R5Pgo8c2NyaXB0PiAgICAKICAgIAogICAgICAgICAgICB2YXIgbWFwXzZlNTMyZjU4M2QxZjQ4M2NiYTc4ZDdjZTAzODg0YTk4ID0gTC5tYXAoCiAgICAgICAgICAgICAgICAibWFwXzZlNTMyZjU4M2QxZjQ4M2NiYTc4ZDdjZTAzODg0YTk4IiwKICAgICAgICAgICAgICAgIHsKICAgICAgICAgICAgICAgICAgICBjZW50ZXI6IFs0My42NTM0ODE3LCAtNzkuMzgzOTM0N10sCiAgICAgICAgICAgICAgICAgICAgY3JzOiBMLkNSUy5FUFNHMzg1NywKICAgICAgICAgICAgICAgICAgICB6b29tOiAxMCwKICAgICAgICAgICAgICAgICAgICB6b29tQ29udHJvbDogdHJ1ZSwKICAgICAgICAgICAgICAgICAgICBwcmVmZXJDYW52YXM6IGZhbHNlLAogICAgICAgICAgICAgICAgfQogICAgICAgICAgICApOwoKICAgICAgICAgICAgCgogICAgICAgIAogICAgCiAgICAgICAgICAgIHZhciB0aWxlX2xheWVyXzdmOTljZjk2N2VhOTQ4YmFhZjEwOWI3ZTFhM2Y2MWZjID0gTC50aWxlTGF5ZXIoCiAgICAgICAgICAgICAgICAiaHR0cHM6Ly97c30udGlsZS5vcGVuc3RyZWV0bWFwLm9yZy97en0ve3h9L3t5fS5wbmciLAogICAgICAgICAgICAgICAgeyJhdHRyaWJ1dGlvbiI6ICJEYXRhIGJ5IFx1MDAyNmNvcHk7IFx1MDAzY2EgaHJlZj1cImh0dHA6Ly9vcGVuc3RyZWV0bWFwLm9yZ1wiXHUwMDNlT3BlblN0cmVldE1hcFx1MDAzYy9hXHUwMDNlLCB1bmRlciBcdTAwM2NhIGhyZWY9XCJodHRwOi8vd3d3Lm9wZW5zdHJlZXRtYXAub3JnL2NvcHlyaWdodFwiXHUwMDNlT0RiTFx1MDAzYy9hXHUwMDNlLiIsICJkZXRlY3RSZXRpbmEiOiBmYWxzZSwgIm1heE5hdGl2ZVpvb20iOiAxOCwgIm1heFpvb20iOiAxOCwgIm1pblpvb20iOiAwLCAibm9XcmFwIjogZmFsc2UsICJvcGFjaXR5IjogMSwgInN1YmRvbWFpbnMiOiAiYWJjIiwgInRtcyI6IGZhbHNlfQogICAgICAgICAgICApLmFkZFRvKG1hcF82ZTUzMmY1ODNkMWY0ODNjYmE3OGQ3Y2UwMzg4NGE5OCk7CiAgICAgICAgCjwvc2NyaXB0Pg== onload=\"this.contentDocument.open();this.contentDocument.write(atob(this.getAttribute('data-html')));this.contentDocument.close();\" allowfullscreen webkitallowfullscreen mozallowfullscreen></iframe></div></div>",
                        "text/plain": "<folium.folium.Map at 0x7f2f0aeb4850>"
                    },
                    "execution_count": 60,
                    "metadata": {},
                    "output_type": "execute_result"
                }
            ],
            "source": "Toronto_map"
        },
        {
            "cell_type": "code",
            "execution_count": 61,
            "metadata": {},
            "outputs": [],
            "source": "import requests# library to handle requests\nimport json # library to handle JSON files\nfrom pandas.io.json import json_normalize# tranform JSON file into a pandas dataframe"
        },
        {
            "cell_type": "code",
            "execution_count": 66,
            "metadata": {},
            "outputs": [],
            "source": "limit=100\ndef getNearbyVenues(codes,names,latitudes,longitudes,radius=500):\n    venues_list=[]\n    for code,name,lat,lng in zip(codes,names,latitudes,longitudes):\n        url='https://api.foursquare.com/v2/venues/explore?&client_id={}&client_secret={}&v={}&ll={},{}&radius={}&limit={}'.format(\n            CLIENT_ID,CLIENT_SECRET,VERSION,lat,lng,radius,limit)\n        results=requests.get(url).json()['response']['groups'][0]['items']\n        venues_list.append([(code,name,lat,lng,v['venue']['name'],v['venue']['location']['lat'],\n                          v['venue']['location']['lng'],\n                          v['venue']['categories'][0]['name'])for v in results])\n    nearby_venues=pd.DataFrame([item for venue_list in venues_list for item in venue_list])\n    nearby_venues.columns=['PostalCode','Neighborhood','Neighborhood Latitude',\n                          'Neighborhood Longitude','Venue name','Venue Latitude','Venue Longitude','Venue Category']\n    return(nearby_venues)"
        },
        {
            "cell_type": "code",
            "execution_count": 67,
            "metadata": {},
            "outputs": [
                {
                    "ename": "NameError",
                    "evalue": "name 'CLIENT_ID' is not defined",
                    "output_type": "error",
                    "traceback": [
                        "\u001b[0;31m---------------------------------------------------------------------------\u001b[0m",
                        "\u001b[0;31mNameError\u001b[0m                                 Traceback (most recent call last)",
                        "\u001b[0;32m<ipython-input-67-0f0d6f066f0b>\u001b[0m in \u001b[0;36m<module>\u001b[0;34m\u001b[0m\n\u001b[1;32m      2\u001b[0m                                \u001b[0mnames\u001b[0m\u001b[0;34m=\u001b[0m\u001b[0mdf\u001b[0m\u001b[0;34m[\u001b[0m\u001b[0;34m'Neighborhood'\u001b[0m\u001b[0;34m]\u001b[0m\u001b[0;34m,\u001b[0m\u001b[0;34m\u001b[0m\u001b[0;34m\u001b[0m\u001b[0m\n\u001b[1;32m      3\u001b[0m                                \u001b[0mlatitudes\u001b[0m\u001b[0;34m=\u001b[0m\u001b[0mdf\u001b[0m\u001b[0;34m[\u001b[0m\u001b[0;34m'Latitude'\u001b[0m\u001b[0;34m]\u001b[0m\u001b[0;34m,\u001b[0m\u001b[0;34m\u001b[0m\u001b[0;34m\u001b[0m\u001b[0m\n\u001b[0;32m----> 4\u001b[0;31m                                longitudes=df['Longitude'],radius=500)\n\u001b[0m",
                        "\u001b[0;32m<ipython-input-66-0674596a780d>\u001b[0m in \u001b[0;36mgetNearbyVenues\u001b[0;34m(codes, names, latitudes, longitudes, radius)\u001b[0m\n\u001b[1;32m      4\u001b[0m     \u001b[0;32mfor\u001b[0m \u001b[0mcode\u001b[0m\u001b[0;34m,\u001b[0m\u001b[0mname\u001b[0m\u001b[0;34m,\u001b[0m\u001b[0mlat\u001b[0m\u001b[0;34m,\u001b[0m\u001b[0mlng\u001b[0m \u001b[0;32min\u001b[0m \u001b[0mzip\u001b[0m\u001b[0;34m(\u001b[0m\u001b[0mcodes\u001b[0m\u001b[0;34m,\u001b[0m\u001b[0mnames\u001b[0m\u001b[0;34m,\u001b[0m\u001b[0mlatitudes\u001b[0m\u001b[0;34m,\u001b[0m\u001b[0mlongitudes\u001b[0m\u001b[0;34m)\u001b[0m\u001b[0;34m:\u001b[0m\u001b[0;34m\u001b[0m\u001b[0;34m\u001b[0m\u001b[0m\n\u001b[1;32m      5\u001b[0m         url='https://api.foursquare.com/v2/venues/explore?&client_id={}&client_secret={}&v={}&ll={},{}&radius={}&limit={}'.format(\n\u001b[0;32m----> 6\u001b[0;31m             CLIENT_ID,CLIENT_SECRET,VERSION,lat,lng,radius,limit)\n\u001b[0m\u001b[1;32m      7\u001b[0m         \u001b[0mresults\u001b[0m\u001b[0;34m=\u001b[0m\u001b[0mrequests\u001b[0m\u001b[0;34m.\u001b[0m\u001b[0mget\u001b[0m\u001b[0;34m(\u001b[0m\u001b[0murl\u001b[0m\u001b[0;34m)\u001b[0m\u001b[0;34m.\u001b[0m\u001b[0mjson\u001b[0m\u001b[0;34m(\u001b[0m\u001b[0;34m)\u001b[0m\u001b[0;34m[\u001b[0m\u001b[0;34m'response'\u001b[0m\u001b[0;34m]\u001b[0m\u001b[0;34m[\u001b[0m\u001b[0;34m'groups'\u001b[0m\u001b[0;34m]\u001b[0m\u001b[0;34m[\u001b[0m\u001b[0;36m0\u001b[0m\u001b[0;34m]\u001b[0m\u001b[0;34m[\u001b[0m\u001b[0;34m'items'\u001b[0m\u001b[0;34m]\u001b[0m\u001b[0;34m\u001b[0m\u001b[0;34m\u001b[0m\u001b[0m\n\u001b[1;32m      8\u001b[0m         venues_list.append([(code,name,lat,lng,v['venue']['name'],v['venue']['location']['lat'],\n",
                        "\u001b[0;31mNameError\u001b[0m: name 'CLIENT_ID' is not defined"
                    ]
                }
            ],
            "source": "Toronto_Venues=getNearbyVenues(codes=df['PostalCode'],\n                               names=df['Neighborhood'],\n                               latitudes=df['Latitude'],\n                               longitudes=df['Longitude'],radius=500)"
        },
        {
            "cell_type": "code",
            "execution_count": 68,
            "metadata": {},
            "outputs": [
                {
                    "ename": "NameError",
                    "evalue": "name 'Toronto_Venues' is not defined",
                    "output_type": "error",
                    "traceback": [
                        "\u001b[0;31m---------------------------------------------------------------------------\u001b[0m",
                        "\u001b[0;31mNameError\u001b[0m                                 Traceback (most recent call last)",
                        "\u001b[0;32m<ipython-input-68-6b512c6aa601>\u001b[0m in \u001b[0;36m<module>\u001b[0;34m\u001b[0m\n\u001b[0;32m----> 1\u001b[0;31m \u001b[0mToronto_Venues\u001b[0m\u001b[0;34m.\u001b[0m\u001b[0mhead\u001b[0m\u001b[0;34m(\u001b[0m\u001b[0;34m)\u001b[0m\u001b[0;34m\u001b[0m\u001b[0;34m\u001b[0m\u001b[0m\n\u001b[0m",
                        "\u001b[0;31mNameError\u001b[0m: name 'Toronto_Venues' is not defined"
                    ]
                }
            ],
            "source": "Toronto_Venues.head()"
        },
        {
            "cell_type": "code",
            "execution_count": 65,
            "metadata": {},
            "outputs": [
                {
                    "ename": "NameError",
                    "evalue": "name 'Toronto_Venues' is not defined",
                    "output_type": "error",
                    "traceback": [
                        "\u001b[0;31m---------------------------------------------------------------------------\u001b[0m",
                        "\u001b[0;31mNameError\u001b[0m                                 Traceback (most recent call last)",
                        "\u001b[0;32m<ipython-input-65-8ea8b1cac8ea>\u001b[0m in \u001b[0;36m<module>\u001b[0;34m\u001b[0m\n\u001b[0;32m----> 1\u001b[0;31m \u001b[0mToronto_Venues\u001b[0m\u001b[0;34m.\u001b[0m\u001b[0mshape\u001b[0m\u001b[0;34m\u001b[0m\u001b[0;34m\u001b[0m\u001b[0m\n\u001b[0m",
                        "\u001b[0;31mNameError\u001b[0m: name 'Toronto_Venues' is not defined"
                    ]
                }
            ],
            "source": "Toronto_Venues.shape"
        },
        {
            "cell_type": "code",
            "execution_count": 69,
            "metadata": {},
            "outputs": [
                {
                    "ename": "NameError",
                    "evalue": "name 'Toronto_Venues' is not defined",
                    "output_type": "error",
                    "traceback": [
                        "\u001b[0;31m---------------------------------------------------------------------------\u001b[0m",
                        "\u001b[0;31mNameError\u001b[0m                                 Traceback (most recent call last)",
                        "\u001b[0;32m<ipython-input-69-33adc7a24d59>\u001b[0m in \u001b[0;36m<module>\u001b[0;34m\u001b[0m\n\u001b[0;32m----> 1\u001b[0;31m \u001b[0mToronto_Venues\u001b[0m\u001b[0;34m.\u001b[0m\u001b[0mgroupby\u001b[0m\u001b[0;34m(\u001b[0m\u001b[0;34m'PostalCode'\u001b[0m\u001b[0;34m)\u001b[0m\u001b[0;34m.\u001b[0m\u001b[0mcount\u001b[0m\u001b[0;34m(\u001b[0m\u001b[0;34m)\u001b[0m\u001b[0;34m[\u001b[0m\u001b[0;34m[\u001b[0m\u001b[0;34m'Venue name'\u001b[0m\u001b[0;34m]\u001b[0m\u001b[0;34m]\u001b[0m\u001b[0;34m\u001b[0m\u001b[0;34m\u001b[0m\u001b[0m\n\u001b[0m",
                        "\u001b[0;31mNameError\u001b[0m: name 'Toronto_Venues' is not defined"
                    ]
                }
            ],
            "source": "Toronto_Venues.groupby('PostalCode').count()[['Venue name']]"
        },
        {
            "cell_type": "code",
            "execution_count": 70,
            "metadata": {},
            "outputs": [
                {
                    "ename": "NameError",
                    "evalue": "name 'Toronto_Venues' is not defined",
                    "output_type": "error",
                    "traceback": [
                        "\u001b[0;31m---------------------------------------------------------------------------\u001b[0m",
                        "\u001b[0;31mNameError\u001b[0m                                 Traceback (most recent call last)",
                        "\u001b[0;32m<ipython-input-70-912449d371f0>\u001b[0m in \u001b[0;36m<module>\u001b[0;34m\u001b[0m\n\u001b[0;32m----> 1\u001b[0;31m \u001b[0mprint\u001b[0m\u001b[0;34m(\u001b[0m\u001b[0;34m'There are {} unique venue categories'\u001b[0m\u001b[0;34m.\u001b[0m\u001b[0mformat\u001b[0m\u001b[0;34m(\u001b[0m\u001b[0mlen\u001b[0m\u001b[0;34m(\u001b[0m\u001b[0mToronto_Venues\u001b[0m\u001b[0;34m[\u001b[0m\u001b[0;34m'Venue Category'\u001b[0m\u001b[0;34m]\u001b[0m\u001b[0;34m.\u001b[0m\u001b[0munique\u001b[0m\u001b[0;34m(\u001b[0m\u001b[0;34m)\u001b[0m\u001b[0;34m)\u001b[0m\u001b[0;34m)\u001b[0m\u001b[0;34m)\u001b[0m\u001b[0;34m\u001b[0m\u001b[0;34m\u001b[0m\u001b[0m\n\u001b[0m",
                        "\u001b[0;31mNameError\u001b[0m: name 'Toronto_Venues' is not defined"
                    ]
                }
            ],
            "source": "\nprint('There are {} unique venue categories'.format(len(Toronto_Venues['Venue Category'].unique())))"
        },
        {
            "cell_type": "code",
            "execution_count": 71,
            "metadata": {},
            "outputs": [
                {
                    "ename": "NameError",
                    "evalue": "name 'Toronto_Venues' is not defined",
                    "output_type": "error",
                    "traceback": [
                        "\u001b[0;31m---------------------------------------------------------------------------\u001b[0m",
                        "\u001b[0;31mNameError\u001b[0m                                 Traceback (most recent call last)",
                        "\u001b[0;32m<ipython-input-71-8fa43c1e657e>\u001b[0m in \u001b[0;36m<module>\u001b[0;34m\u001b[0m\n\u001b[0;32m----> 1\u001b[0;31m \u001b[0mToronto_onehot\u001b[0m\u001b[0;34m=\u001b[0m\u001b[0mpd\u001b[0m\u001b[0;34m.\u001b[0m\u001b[0mget_dummies\u001b[0m\u001b[0;34m(\u001b[0m\u001b[0mToronto_Venues\u001b[0m\u001b[0;34m[\u001b[0m\u001b[0;34m'Venue Category'\u001b[0m\u001b[0;34m]\u001b[0m\u001b[0;34m,\u001b[0m\u001b[0mprefix\u001b[0m\u001b[0;34m=\u001b[0m\u001b[0;34m''\u001b[0m\u001b[0;34m,\u001b[0m\u001b[0mprefix_sep\u001b[0m\u001b[0;34m=\u001b[0m\u001b[0;34m''\u001b[0m\u001b[0;34m)\u001b[0m\u001b[0;31m#one hot encoding\u001b[0m\u001b[0;34m\u001b[0m\u001b[0;34m\u001b[0m\u001b[0m\n\u001b[0m\u001b[1;32m      2\u001b[0m \u001b[0;31m#Add Neighborhood and PostalCode column back to Toronto_onehot dataframe\u001b[0m\u001b[0;34m\u001b[0m\u001b[0;34m\u001b[0m\u001b[0;34m\u001b[0m\u001b[0m\n\u001b[1;32m      3\u001b[0m \u001b[0mToronto_onehot\u001b[0m\u001b[0;34m[\u001b[0m\u001b[0;34m'PostalCode'\u001b[0m\u001b[0;34m]\u001b[0m\u001b[0;34m=\u001b[0m\u001b[0mToronto_Venues\u001b[0m\u001b[0;34m[\u001b[0m\u001b[0;34m'PostalCode'\u001b[0m\u001b[0;34m]\u001b[0m\u001b[0;34m\u001b[0m\u001b[0;34m\u001b[0m\u001b[0m\n\u001b[1;32m      4\u001b[0m \u001b[0mcolumns\u001b[0m\u001b[0;34m=\u001b[0m\u001b[0;34m[\u001b[0m\u001b[0mToronto_onehot\u001b[0m\u001b[0;34m.\u001b[0m\u001b[0mcolumns\u001b[0m\u001b[0;34m[\u001b[0m\u001b[0;34m-\u001b[0m\u001b[0;36m1\u001b[0m\u001b[0;34m]\u001b[0m\u001b[0;34m]\u001b[0m\u001b[0;34m+\u001b[0m\u001b[0mlist\u001b[0m\u001b[0;34m(\u001b[0m\u001b[0mToronto_onehot\u001b[0m\u001b[0;34m.\u001b[0m\u001b[0mcolumns\u001b[0m\u001b[0;34m[\u001b[0m\u001b[0;34m:\u001b[0m\u001b[0;34m-\u001b[0m\u001b[0;36m1\u001b[0m\u001b[0;34m]\u001b[0m\u001b[0;34m)\u001b[0m\u001b[0;34m\u001b[0m\u001b[0;34m\u001b[0m\u001b[0m\n\u001b[1;32m      5\u001b[0m \u001b[0mToronto_onehot\u001b[0m\u001b[0;34m=\u001b[0m\u001b[0mToronto_onehot\u001b[0m\u001b[0;34m[\u001b[0m\u001b[0mcolumns\u001b[0m\u001b[0;34m]\u001b[0m\u001b[0;34m\u001b[0m\u001b[0;34m\u001b[0m\u001b[0m\n",
                        "\u001b[0;31mNameError\u001b[0m: name 'Toronto_Venues' is not defined"
                    ]
                }
            ],
            "source": "Toronto_onehot=pd.get_dummies(Toronto_Venues['Venue Category'],prefix='',prefix_sep='')#one hot encoding\n#Add Neighborhood and PostalCode column back to Toronto_onehot dataframe\nToronto_onehot['PostalCode']=Toronto_Venues['PostalCode']\ncolumns=[Toronto_onehot.columns[-1]]+list(Toronto_onehot.columns[:-1])\nToronto_onehot=Toronto_onehot[columns]\nToronto_onehot.head()"
        },
        {
            "cell_type": "code",
            "execution_count": 72,
            "metadata": {},
            "outputs": [
                {
                    "ename": "NameError",
                    "evalue": "name 'Toronto_onehot' is not defined",
                    "output_type": "error",
                    "traceback": [
                        "\u001b[0;31m---------------------------------------------------------------------------\u001b[0m",
                        "\u001b[0;31mNameError\u001b[0m                                 Traceback (most recent call last)",
                        "\u001b[0;32m<ipython-input-72-e23923a39315>\u001b[0m in \u001b[0;36m<module>\u001b[0;34m\u001b[0m\n\u001b[0;32m----> 1\u001b[0;31m \u001b[0mToronto_onehot\u001b[0m\u001b[0;34m.\u001b[0m\u001b[0mshape\u001b[0m\u001b[0;34m\u001b[0m\u001b[0;34m\u001b[0m\u001b[0m\n\u001b[0m",
                        "\u001b[0;31mNameError\u001b[0m: name 'Toronto_onehot' is not defined"
                    ]
                }
            ],
            "source": "Toronto_onehot.shape"
        },
        {
            "cell_type": "code",
            "execution_count": 73,
            "metadata": {},
            "outputs": [
                {
                    "ename": "NameError",
                    "evalue": "name 'Toronto_Venues' is not defined",
                    "output_type": "error",
                    "traceback": [
                        "\u001b[0;31m---------------------------------------------------------------------------\u001b[0m",
                        "\u001b[0;31mNameError\u001b[0m                                 Traceback (most recent call last)",
                        "\u001b[0;32m<ipython-input-73-10f9d1a48f70>\u001b[0m in \u001b[0;36m<module>\u001b[0;34m\u001b[0m\n\u001b[0;32m----> 1\u001b[0;31m \u001b[0mX\u001b[0m\u001b[0;34m=\u001b[0m\u001b[0mToronto_Venues\u001b[0m\u001b[0;34m[\u001b[0m\u001b[0;34m'Neighborhood'\u001b[0m\u001b[0;34m]\u001b[0m\u001b[0;34m\u001b[0m\u001b[0;34m\u001b[0m\u001b[0m\n\u001b[0m",
                        "\u001b[0;31mNameError\u001b[0m: name 'Toronto_Venues' is not defined"
                    ]
                }
            ],
            "source": "X=Toronto_Venues['Neighborhood']"
        },
        {
            "cell_type": "code",
            "execution_count": 74,
            "metadata": {},
            "outputs": [
                {
                    "ename": "NameError",
                    "evalue": "name 'X' is not defined",
                    "output_type": "error",
                    "traceback": [
                        "\u001b[0;31m---------------------------------------------------------------------------\u001b[0m",
                        "\u001b[0;31mNameError\u001b[0m                                 Traceback (most recent call last)",
                        "\u001b[0;32m<ipython-input-74-f05f2a6295b4>\u001b[0m in \u001b[0;36m<module>\u001b[0;34m\u001b[0m\n\u001b[0;32m----> 1\u001b[0;31m \u001b[0mToronto_onehot\u001b[0m\u001b[0;34m[\u001b[0m\u001b[0;34m-\u001b[0m\u001b[0;36m1\u001b[0m\u001b[0;34m]\u001b[0m\u001b[0;34m=\u001b[0m\u001b[0mX\u001b[0m\u001b[0;34m\u001b[0m\u001b[0;34m\u001b[0m\u001b[0m\n\u001b[0m",
                        "\u001b[0;31mNameError\u001b[0m: name 'X' is not defined"
                    ]
                }
            ],
            "source": "Toronto_onehot[-1]=X"
        },
        {
            "cell_type": "code",
            "execution_count": 75,
            "metadata": {},
            "outputs": [
                {
                    "ename": "NameError",
                    "evalue": "name 'Toronto_onehot' is not defined",
                    "output_type": "error",
                    "traceback": [
                        "\u001b[0;31m---------------------------------------------------------------------------\u001b[0m",
                        "\u001b[0;31mNameError\u001b[0m                                 Traceback (most recent call last)",
                        "\u001b[0;32m<ipython-input-75-78644d7d2c57>\u001b[0m in \u001b[0;36m<module>\u001b[0;34m\u001b[0m\n\u001b[0;32m----> 1\u001b[0;31m \u001b[0mToronto_onehot\u001b[0m\u001b[0;34m=\u001b[0m\u001b[0mToronto_onehot\u001b[0m\u001b[0;34m.\u001b[0m\u001b[0mrename\u001b[0m\u001b[0;34m(\u001b[0m\u001b[0;34m{\u001b[0m\u001b[0;34m-\u001b[0m\u001b[0;36m1\u001b[0m\u001b[0;34m:\u001b[0m\u001b[0;34m'Neighborhoods'\u001b[0m\u001b[0;34m}\u001b[0m\u001b[0;34m,\u001b[0m\u001b[0maxis\u001b[0m\u001b[0;34m=\u001b[0m\u001b[0;36m1\u001b[0m\u001b[0;34m)\u001b[0m\u001b[0;34m\u001b[0m\u001b[0;34m\u001b[0m\u001b[0m\n\u001b[0m",
                        "\u001b[0;31mNameError\u001b[0m: name 'Toronto_onehot' is not defined"
                    ]
                }
            ],
            "source": "Toronto_onehot=Toronto_onehot.rename({-1:'Neighborhoods'},axis=1)"
        },
        {
            "cell_type": "code",
            "execution_count": 76,
            "metadata": {},
            "outputs": [
                {
                    "ename": "NameError",
                    "evalue": "name 'Toronto_onehot' is not defined",
                    "output_type": "error",
                    "traceback": [
                        "\u001b[0;31m---------------------------------------------------------------------------\u001b[0m",
                        "\u001b[0;31mNameError\u001b[0m                                 Traceback (most recent call last)",
                        "\u001b[0;32m<ipython-input-76-31aef58c769f>\u001b[0m in \u001b[0;36m<module>\u001b[0;34m\u001b[0m\n\u001b[0;32m----> 1\u001b[0;31m \u001b[0mToronto_onehot\u001b[0m\u001b[0;34m.\u001b[0m\u001b[0mhead\u001b[0m\u001b[0;34m(\u001b[0m\u001b[0;34m)\u001b[0m\u001b[0;34m\u001b[0m\u001b[0;34m\u001b[0m\u001b[0m\n\u001b[0m",
                        "\u001b[0;31mNameError\u001b[0m: name 'Toronto_onehot' is not defined"
                    ]
                }
            ],
            "source": "Toronto_onehot.head()"
        },
        {
            "cell_type": "code",
            "execution_count": 77,
            "metadata": {},
            "outputs": [
                {
                    "ename": "NameError",
                    "evalue": "name 'Toronto_grouped' is not defined",
                    "output_type": "error",
                    "traceback": [
                        "\u001b[0;31m---------------------------------------------------------------------------\u001b[0m",
                        "\u001b[0;31mNameError\u001b[0m                                 Traceback (most recent call last)",
                        "\u001b[0;32m<ipython-input-77-ac552d2efe8e>\u001b[0m in \u001b[0;36m<module>\u001b[0;34m\u001b[0m\n\u001b[1;32m      1\u001b[0m \u001b[0mnum\u001b[0m\u001b[0;34m=\u001b[0m\u001b[0;36m5\u001b[0m\u001b[0;34m\u001b[0m\u001b[0;34m\u001b[0m\u001b[0m\n\u001b[0;32m----> 2\u001b[0;31m \u001b[0;32mfor\u001b[0m \u001b[0mcode\u001b[0m\u001b[0;34m,\u001b[0m\u001b[0mnbd\u001b[0m \u001b[0;32min\u001b[0m \u001b[0mzip\u001b[0m\u001b[0;34m(\u001b[0m\u001b[0mToronto_grouped\u001b[0m\u001b[0;34m[\u001b[0m\u001b[0;34m'PostalCode'\u001b[0m\u001b[0;34m]\u001b[0m\u001b[0;34m[\u001b[0m\u001b[0;36m0\u001b[0m\u001b[0;34m:\u001b[0m\u001b[0;36m10\u001b[0m\u001b[0;34m]\u001b[0m\u001b[0;34m,\u001b[0m\u001b[0mToronto_grouped\u001b[0m\u001b[0;34m[\u001b[0m\u001b[0;34m'Neighborhoods'\u001b[0m\u001b[0;34m]\u001b[0m\u001b[0;34m[\u001b[0m\u001b[0;36m0\u001b[0m\u001b[0;34m:\u001b[0m\u001b[0;36m10\u001b[0m\u001b[0;34m]\u001b[0m\u001b[0;34m)\u001b[0m\u001b[0;34m:\u001b[0m\u001b[0;34m\u001b[0m\u001b[0;34m\u001b[0m\u001b[0m\n\u001b[0m\u001b[1;32m      3\u001b[0m     \u001b[0mprint\u001b[0m\u001b[0;34m(\u001b[0m\u001b[0;34m'----'\u001b[0m\u001b[0;34m+\u001b[0m\u001b[0mcode\u001b[0m\u001b[0;34m+\u001b[0m\u001b[0;34m':'\u001b[0m\u001b[0;34m+\u001b[0m\u001b[0mnbd\u001b[0m\u001b[0;34m+\u001b[0m\u001b[0;34m'----'\u001b[0m\u001b[0;34m)\u001b[0m\u001b[0;34m\u001b[0m\u001b[0;34m\u001b[0m\u001b[0m\n\u001b[1;32m      4\u001b[0m     \u001b[0mtemp\u001b[0m\u001b[0;34m=\u001b[0m\u001b[0mToronto_grouped\u001b[0m\u001b[0;34m[\u001b[0m\u001b[0mToronto_grouped\u001b[0m\u001b[0;34m[\u001b[0m\u001b[0;34m'PostalCode'\u001b[0m\u001b[0;34m]\u001b[0m\u001b[0;34m==\u001b[0m\u001b[0mcode\u001b[0m\u001b[0;34m]\u001b[0m\u001b[0;34m.\u001b[0m\u001b[0mT\u001b[0m\u001b[0;34m.\u001b[0m\u001b[0mreset_index\u001b[0m\u001b[0;34m(\u001b[0m\u001b[0;34m)\u001b[0m\u001b[0;34m\u001b[0m\u001b[0;34m\u001b[0m\u001b[0m\n\u001b[1;32m      5\u001b[0m     \u001b[0mtemp\u001b[0m\u001b[0;34m=\u001b[0m\u001b[0mtemp\u001b[0m\u001b[0;34m.\u001b[0m\u001b[0miloc\u001b[0m\u001b[0;34m[\u001b[0m\u001b[0;36m2\u001b[0m\u001b[0;34m:\u001b[0m\u001b[0;34m]\u001b[0m\u001b[0;34m\u001b[0m\u001b[0;34m\u001b[0m\u001b[0m\n",
                        "\u001b[0;31mNameError\u001b[0m: name 'Toronto_grouped' is not defined"
                    ]
                }
            ],
            "source": "num=5\nfor code,nbd in zip(Toronto_grouped['PostalCode'][0:10],Toronto_grouped['Neighborhoods'][0:10]):\n    print('----'+code+':'+nbd+'----')\n    temp=Toronto_grouped[Toronto_grouped['PostalCode']==code].T.reset_index()\n    temp=temp.iloc[2:]\n    temp.columns=['venue category','freq']\n    temp['freq']=temp['freq'].astype(float)\n    temp.sort_values(by=['freq'],ascending=False,inplace=True)\n    temp=temp.round({'freq':2})\n    print(temp.reset_index(drop=True).head(num))"
        },
        {
            "cell_type": "code",
            "execution_count": 78,
            "metadata": {},
            "outputs": [],
            "source": "\ndef most_common_venues(row,num_of_values):\n    row_sorted=row.iloc[2:].sort_values(ascending=False)\n    return row_sorted.index.values[0:num_of_values]"
        },
        {
            "cell_type": "code",
            "execution_count": 79,
            "metadata": {},
            "outputs": [],
            "source": "num_of_values=10\nindicators=['st','nd','rd']\ncolumns=['PostalCode','Neighborhoods']\nfor ind in np.arange(num_of_values):\n    try:\n        columns.append('{}{} Most common venue'.format(ind+1,indicators[ind]))\n    except:\n        columns.append('{}th Most common venue'.format(ind+1))"
        },
        {
            "cell_type": "code",
            "execution_count": 80,
            "metadata": {},
            "outputs": [],
            "source": "Toronto_top=pd.DataFrame(columns=columns)"
        },
        {
            "cell_type": "code",
            "execution_count": 81,
            "metadata": {},
            "outputs": [
                {
                    "ename": "NameError",
                    "evalue": "name 'Toronto_grouped' is not defined",
                    "output_type": "error",
                    "traceback": [
                        "\u001b[0;31m---------------------------------------------------------------------------\u001b[0m",
                        "\u001b[0;31mNameError\u001b[0m                                 Traceback (most recent call last)",
                        "\u001b[0;32m<ipython-input-81-7c93b07731e2>\u001b[0m in \u001b[0;36m<module>\u001b[0;34m\u001b[0m\n\u001b[0;32m----> 1\u001b[0;31m \u001b[0mToronto_top\u001b[0m\u001b[0;34m[\u001b[0m\u001b[0;34m'PostalCode'\u001b[0m\u001b[0;34m]\u001b[0m\u001b[0;34m=\u001b[0m\u001b[0mToronto_grouped\u001b[0m\u001b[0;34m[\u001b[0m\u001b[0;34m'PostalCode'\u001b[0m\u001b[0;34m]\u001b[0m\u001b[0;34m\u001b[0m\u001b[0;34m\u001b[0m\u001b[0m\n\u001b[0m\u001b[1;32m      2\u001b[0m \u001b[0mToronto_top\u001b[0m\u001b[0;34m[\u001b[0m\u001b[0;34m'Neighborhoods'\u001b[0m\u001b[0;34m]\u001b[0m\u001b[0;34m=\u001b[0m\u001b[0mToronto_grouped\u001b[0m\u001b[0;34m[\u001b[0m\u001b[0;34m'Neighborhoods'\u001b[0m\u001b[0;34m]\u001b[0m\u001b[0;34m\u001b[0m\u001b[0;34m\u001b[0m\u001b[0m\n",
                        "\u001b[0;31mNameError\u001b[0m: name 'Toronto_grouped' is not defined"
                    ]
                }
            ],
            "source": "Toronto_top['PostalCode']=Toronto_grouped['PostalCode']\nToronto_top['Neighborhoods']=Toronto_grouped['Neighborhoods']"
        },
        {
            "cell_type": "code",
            "execution_count": 82,
            "metadata": {},
            "outputs": [
                {
                    "ename": "NameError",
                    "evalue": "name 'Toronto_grouped' is not defined",
                    "output_type": "error",
                    "traceback": [
                        "\u001b[0;31m---------------------------------------------------------------------------\u001b[0m",
                        "\u001b[0;31mNameError\u001b[0m                                 Traceback (most recent call last)",
                        "\u001b[0;32m<ipython-input-82-6ef64bc44d43>\u001b[0m in \u001b[0;36m<module>\u001b[0;34m\u001b[0m\n\u001b[0;32m----> 1\u001b[0;31m \u001b[0;32mfor\u001b[0m \u001b[0mind\u001b[0m \u001b[0;32min\u001b[0m \u001b[0mnp\u001b[0m\u001b[0;34m.\u001b[0m\u001b[0marange\u001b[0m\u001b[0;34m(\u001b[0m\u001b[0mToronto_grouped\u001b[0m\u001b[0;34m.\u001b[0m\u001b[0mshape\u001b[0m\u001b[0;34m[\u001b[0m\u001b[0;36m0\u001b[0m\u001b[0;34m]\u001b[0m\u001b[0;34m)\u001b[0m\u001b[0;34m:\u001b[0m\u001b[0;34m\u001b[0m\u001b[0;34m\u001b[0m\u001b[0m\n\u001b[0m\u001b[1;32m      2\u001b[0m     \u001b[0mToronto_top\u001b[0m\u001b[0;34m.\u001b[0m\u001b[0miloc\u001b[0m\u001b[0;34m[\u001b[0m\u001b[0mind\u001b[0m\u001b[0;34m]\u001b[0m\u001b[0;34m[\u001b[0m\u001b[0;36m2\u001b[0m\u001b[0;34m:\u001b[0m\u001b[0;34m]\u001b[0m\u001b[0;34m=\u001b[0m\u001b[0mmost_common_venues\u001b[0m\u001b[0;34m(\u001b[0m\u001b[0mToronto_grouped\u001b[0m\u001b[0;34m.\u001b[0m\u001b[0miloc\u001b[0m\u001b[0;34m[\u001b[0m\u001b[0mind\u001b[0m\u001b[0;34m]\u001b[0m\u001b[0;34m,\u001b[0m\u001b[0mnum_of_values\u001b[0m\u001b[0;34m)\u001b[0m\u001b[0;34m\u001b[0m\u001b[0;34m\u001b[0m\u001b[0m\n",
                        "\u001b[0;31mNameError\u001b[0m: name 'Toronto_grouped' is not defined"
                    ]
                }
            ],
            "source": "for ind in np.arange(Toronto_grouped.shape[0]):\n    Toronto_top.iloc[ind][2:]=most_common_venues(Toronto_grouped.iloc[ind],num_of_values)"
        },
        {
            "cell_type": "code",
            "execution_count": 83,
            "metadata": {},
            "outputs": [
                {
                    "data": {
                        "text/html": "<div>\n<style scoped>\n    .dataframe tbody tr th:only-of-type {\n        vertical-align: middle;\n    }\n\n    .dataframe tbody tr th {\n        vertical-align: top;\n    }\n\n    .dataframe thead th {\n        text-align: right;\n    }\n</style>\n<table border=\"1\" class=\"dataframe\">\n  <thead>\n    <tr style=\"text-align: right;\">\n      <th></th>\n      <th>PostalCode</th>\n      <th>Neighborhoods</th>\n      <th>1st Most common venue</th>\n      <th>2nd Most common venue</th>\n      <th>3rd Most common venue</th>\n      <th>4th Most common venue</th>\n      <th>5th Most common venue</th>\n      <th>6th Most common venue</th>\n      <th>7th Most common venue</th>\n      <th>8th Most common venue</th>\n      <th>9th Most common venue</th>\n      <th>10th Most common venue</th>\n    </tr>\n  </thead>\n  <tbody>\n  </tbody>\n</table>\n</div>",
                        "text/plain": "Empty DataFrame\nColumns: [PostalCode, Neighborhoods, 1st Most common venue, 2nd Most common venue, 3rd Most common venue, 4th Most common venue, 5th Most common venue, 6th Most common venue, 7th Most common venue, 8th Most common venue, 9th Most common venue, 10th Most common venue]\nIndex: []"
                    },
                    "execution_count": 83,
                    "metadata": {},
                    "output_type": "execute_result"
                }
            ],
            "source": "Toronto_top.head()"
        },
        {
            "cell_type": "code",
            "execution_count": 84,
            "metadata": {},
            "outputs": [
                {
                    "ename": "NameError",
                    "evalue": "name 'Toronto_grouped' is not defined",
                    "output_type": "error",
                    "traceback": [
                        "\u001b[0;31m---------------------------------------------------------------------------\u001b[0m",
                        "\u001b[0;31mNameError\u001b[0m                                 Traceback (most recent call last)",
                        "\u001b[0;32m<ipython-input-84-60b727a11f20>\u001b[0m in \u001b[0;36m<module>\u001b[0;34m\u001b[0m\n\u001b[0;32m----> 1\u001b[0;31m \u001b[0mToronto_grouped\u001b[0m\u001b[0;34m.\u001b[0m\u001b[0mdrop\u001b[0m\u001b[0;34m(\u001b[0m\u001b[0;34m[\u001b[0m\u001b[0;34m'PostalCode'\u001b[0m\u001b[0;34m,\u001b[0m\u001b[0;34m'Neighborhoods'\u001b[0m\u001b[0;34m]\u001b[0m\u001b[0;34m,\u001b[0m\u001b[0maxis\u001b[0m\u001b[0;34m=\u001b[0m\u001b[0;36m1\u001b[0m\u001b[0;34m,\u001b[0m\u001b[0minplace\u001b[0m\u001b[0;34m=\u001b[0m\u001b[0;32mTrue\u001b[0m\u001b[0;34m)\u001b[0m\u001b[0;34m\u001b[0m\u001b[0;34m\u001b[0m\u001b[0m\n\u001b[0m\u001b[1;32m      2\u001b[0m \u001b[0mToronto_grouped\u001b[0m\u001b[0;34m.\u001b[0m\u001b[0mhead\u001b[0m\u001b[0;34m(\u001b[0m\u001b[0;34m)\u001b[0m\u001b[0;34m\u001b[0m\u001b[0;34m\u001b[0m\u001b[0m\n",
                        "\u001b[0;31mNameError\u001b[0m: name 'Toronto_grouped' is not defined"
                    ]
                }
            ],
            "source": "Toronto_grouped.drop(['PostalCode','Neighborhoods'],axis=1,inplace=True)\nToronto_grouped.head()"
        },
        {
            "cell_type": "code",
            "execution_count": 85,
            "metadata": {},
            "outputs": [
                {
                    "ename": "NameError",
                    "evalue": "name 'Toronto_grouped' is not defined",
                    "output_type": "error",
                    "traceback": [
                        "\u001b[0;31m---------------------------------------------------------------------------\u001b[0m",
                        "\u001b[0;31mNameError\u001b[0m                                 Traceback (most recent call last)",
                        "\u001b[0;32m<ipython-input-85-67e9c06a3b8a>\u001b[0m in \u001b[0;36m<module>\u001b[0;34m\u001b[0m\n\u001b[1;32m      1\u001b[0m \u001b[0mk\u001b[0m\u001b[0;34m=\u001b[0m\u001b[0;36m5\u001b[0m \u001b[0;31m# number of clusters\u001b[0m\u001b[0;34m\u001b[0m\u001b[0;34m\u001b[0m\u001b[0m\n\u001b[1;32m      2\u001b[0m \u001b[0mk_means\u001b[0m\u001b[0;34m=\u001b[0m\u001b[0mKMeans\u001b[0m\u001b[0;34m(\u001b[0m\u001b[0mn_clusters\u001b[0m\u001b[0;34m=\u001b[0m\u001b[0mk\u001b[0m\u001b[0;34m,\u001b[0m\u001b[0mrandom_state\u001b[0m\u001b[0;34m=\u001b[0m\u001b[0;36m0\u001b[0m\u001b[0;34m)\u001b[0m\u001b[0;34m\u001b[0m\u001b[0;34m\u001b[0m\u001b[0m\n\u001b[0;32m----> 3\u001b[0;31m \u001b[0mk_means\u001b[0m\u001b[0;34m.\u001b[0m\u001b[0mfit\u001b[0m\u001b[0;34m(\u001b[0m\u001b[0mToronto_grouped\u001b[0m\u001b[0;34m)\u001b[0m\u001b[0;34m\u001b[0m\u001b[0;34m\u001b[0m\u001b[0m\n\u001b[0m",
                        "\u001b[0;31mNameError\u001b[0m: name 'Toronto_grouped' is not defined"
                    ]
                }
            ],
            "source": "\nk=5 # number of clusters\nk_means=KMeans(n_clusters=k,random_state=0)\nk_means.fit(Toronto_grouped)\n"
        },
        {
            "cell_type": "code",
            "execution_count": 86,
            "metadata": {},
            "outputs": [
                {
                    "ename": "AttributeError",
                    "evalue": "'KMeans' object has no attribute 'labels_'",
                    "output_type": "error",
                    "traceback": [
                        "\u001b[0;31m---------------------------------------------------------------------------\u001b[0m",
                        "\u001b[0;31mAttributeError\u001b[0m                            Traceback (most recent call last)",
                        "\u001b[0;32m<ipython-input-86-1e9fed58b79f>\u001b[0m in \u001b[0;36m<module>\u001b[0;34m\u001b[0m\n\u001b[0;32m----> 1\u001b[0;31m \u001b[0mk_means\u001b[0m\u001b[0;34m.\u001b[0m\u001b[0mlabels_\u001b[0m\u001b[0;34m[\u001b[0m\u001b[0;36m0\u001b[0m\u001b[0;34m:\u001b[0m\u001b[0;36m10\u001b[0m\u001b[0;34m]\u001b[0m\u001b[0;34m\u001b[0m\u001b[0;34m\u001b[0m\u001b[0m\n\u001b[0m",
                        "\u001b[0;31mAttributeError\u001b[0m: 'KMeans' object has no attribute 'labels_'"
                    ]
                }
            ],
            "source": "\nk_means.labels_[0:10]"
        },
        {
            "cell_type": "code",
            "execution_count": 87,
            "metadata": {},
            "outputs": [
                {
                    "ename": "AttributeError",
                    "evalue": "'KMeans' object has no attribute 'labels_'",
                    "output_type": "error",
                    "traceback": [
                        "\u001b[0;31m---------------------------------------------------------------------------\u001b[0m",
                        "\u001b[0;31mAttributeError\u001b[0m                            Traceback (most recent call last)",
                        "\u001b[0;32m<ipython-input-87-8b0ec35a3343>\u001b[0m in \u001b[0;36m<module>\u001b[0;34m\u001b[0m\n\u001b[0;32m----> 1\u001b[0;31m \u001b[0mToronto_top\u001b[0m\u001b[0;34m.\u001b[0m\u001b[0minsert\u001b[0m\u001b[0;34m(\u001b[0m\u001b[0;36m0\u001b[0m\u001b[0;34m,\u001b[0m\u001b[0;34m' Cluster labels'\u001b[0m\u001b[0;34m,\u001b[0m\u001b[0mk_means\u001b[0m\u001b[0;34m.\u001b[0m\u001b[0mlabels_\u001b[0m\u001b[0;34m)\u001b[0m\u001b[0;34m\u001b[0m\u001b[0;34m\u001b[0m\u001b[0m\n\u001b[0m",
                        "\u001b[0;31mAttributeError\u001b[0m: 'KMeans' object has no attribute 'labels_'"
                    ]
                }
            ],
            "source": "Toronto_top.insert(0,' Cluster labels',k_means.labels_)"
        },
        {
            "cell_type": "code",
            "execution_count": 88,
            "metadata": {},
            "outputs": [
                {
                    "data": {
                        "text/html": "<div>\n<style scoped>\n    .dataframe tbody tr th:only-of-type {\n        vertical-align: middle;\n    }\n\n    .dataframe tbody tr th {\n        vertical-align: top;\n    }\n\n    .dataframe thead th {\n        text-align: right;\n    }\n</style>\n<table border=\"1\" class=\"dataframe\">\n  <thead>\n    <tr style=\"text-align: right;\">\n      <th></th>\n      <th>PostalCode</th>\n      <th>Neighborhoods</th>\n      <th>1st Most common venue</th>\n      <th>2nd Most common venue</th>\n      <th>3rd Most common venue</th>\n      <th>4th Most common venue</th>\n      <th>5th Most common venue</th>\n      <th>6th Most common venue</th>\n      <th>7th Most common venue</th>\n      <th>8th Most common venue</th>\n      <th>9th Most common venue</th>\n      <th>10th Most common venue</th>\n    </tr>\n  </thead>\n  <tbody>\n  </tbody>\n</table>\n</div>",
                        "text/plain": "Empty DataFrame\nColumns: [PostalCode, Neighborhoods, 1st Most common venue, 2nd Most common venue, 3rd Most common venue, 4th Most common venue, 5th Most common venue, 6th Most common venue, 7th Most common venue, 8th Most common venue, 9th Most common venue, 10th Most common venue]\nIndex: []"
                    },
                    "execution_count": 88,
                    "metadata": {},
                    "output_type": "execute_result"
                }
            ],
            "source": "Toronto_top.head()"
        },
        {
            "cell_type": "code",
            "execution_count": 89,
            "metadata": {},
            "outputs": [],
            "source": "Toronto_data=df\nToronto_top=Toronto_top.join(Toronto_data.set_index('PostalCode'),on=['PostalCode'])"
        },
        {
            "cell_type": "code",
            "execution_count": 90,
            "metadata": {},
            "outputs": [
                {
                    "data": {
                        "text/html": "<div>\n<style scoped>\n    .dataframe tbody tr th:only-of-type {\n        vertical-align: middle;\n    }\n\n    .dataframe tbody tr th {\n        vertical-align: top;\n    }\n\n    .dataframe thead th {\n        text-align: right;\n    }\n</style>\n<table border=\"1\" class=\"dataframe\">\n  <thead>\n    <tr style=\"text-align: right;\">\n      <th></th>\n      <th>PostalCode</th>\n      <th>Neighborhoods</th>\n      <th>1st Most common venue</th>\n      <th>2nd Most common venue</th>\n      <th>3rd Most common venue</th>\n      <th>4th Most common venue</th>\n      <th>5th Most common venue</th>\n      <th>6th Most common venue</th>\n      <th>7th Most common venue</th>\n      <th>8th Most common venue</th>\n      <th>9th Most common venue</th>\n      <th>10th Most common venue</th>\n      <th>Unnamed: 0</th>\n      <th>Borough\\n</th>\n      <th>Neighborhood</th>\n      <th>Borough</th>\n      <th>Latitude</th>\n      <th>Longitude</th>\n    </tr>\n  </thead>\n  <tbody>\n  </tbody>\n</table>\n</div>",
                        "text/plain": "Empty DataFrame\nColumns: [PostalCode, Neighborhoods, 1st Most common venue, 2nd Most common venue, 3rd Most common venue, 4th Most common venue, 5th Most common venue, 6th Most common venue, 7th Most common venue, 8th Most common venue, 9th Most common venue, 10th Most common venue, Unnamed: 0, Borough\n, Neighborhood, Borough, Latitude, Longitude]\nIndex: []"
                    },
                    "execution_count": 90,
                    "metadata": {},
                    "output_type": "execute_result"
                }
            ],
            "source": "Toronto_top.head()"
        },
        {
            "cell_type": "code",
            "execution_count": 91,
            "metadata": {},
            "outputs": [],
            "source": "Toronto_top.drop(['Neighborhood'],axis=1,inplace=True)"
        },
        {
            "cell_type": "code",
            "execution_count": 92,
            "metadata": {},
            "outputs": [
                {
                    "data": {
                        "text/html": "<div>\n<style scoped>\n    .dataframe tbody tr th:only-of-type {\n        vertical-align: middle;\n    }\n\n    .dataframe tbody tr th {\n        vertical-align: top;\n    }\n\n    .dataframe thead th {\n        text-align: right;\n    }\n</style>\n<table border=\"1\" class=\"dataframe\">\n  <thead>\n    <tr style=\"text-align: right;\">\n      <th></th>\n      <th>PostalCode</th>\n      <th>Neighborhoods</th>\n      <th>1st Most common venue</th>\n      <th>2nd Most common venue</th>\n      <th>3rd Most common venue</th>\n      <th>4th Most common venue</th>\n      <th>5th Most common venue</th>\n      <th>6th Most common venue</th>\n      <th>7th Most common venue</th>\n      <th>8th Most common venue</th>\n      <th>9th Most common venue</th>\n      <th>10th Most common venue</th>\n      <th>Unnamed: 0</th>\n      <th>Borough\\n</th>\n      <th>Borough</th>\n      <th>Latitude</th>\n      <th>Longitude</th>\n    </tr>\n  </thead>\n  <tbody>\n  </tbody>\n</table>\n</div>",
                        "text/plain": "Empty DataFrame\nColumns: [PostalCode, Neighborhoods, 1st Most common venue, 2nd Most common venue, 3rd Most common venue, 4th Most common venue, 5th Most common venue, 6th Most common venue, 7th Most common venue, 8th Most common venue, 9th Most common venue, 10th Most common venue, Unnamed: 0, Borough\n, Borough, Latitude, Longitude]\nIndex: []"
                    },
                    "execution_count": 92,
                    "metadata": {},
                    "output_type": "execute_result"
                }
            ],
            "source": "Toronto_top.head()"
        },
        {
            "cell_type": "code",
            "execution_count": 93,
            "metadata": {},
            "outputs": [],
            "source": "map_clusters=folium.Map([latitude,longitude],zoom_start=10)"
        },
        {
            "cell_type": "code",
            "execution_count": 94,
            "metadata": {},
            "outputs": [],
            "source": "x=np.arange(k)\nys = [i + x + (i*x)**2 for i in range(k)]\ncolors_array = cm.rainbow(np.linspace(0, 1, len(ys)))\nrainbow = [colors.rgb2hex(i) for i in colors_array]"
        },
        {
            "cell_type": "code",
            "execution_count": 95,
            "metadata": {},
            "outputs": [
                {
                    "ename": "KeyError",
                    "evalue": "' Cluster labels'",
                    "output_type": "error",
                    "traceback": [
                        "\u001b[0;31m---------------------------------------------------------------------------\u001b[0m",
                        "\u001b[0;31mKeyError\u001b[0m                                  Traceback (most recent call last)",
                        "\u001b[0;32m/opt/conda/envs/Python-3.7-main/lib/python3.7/site-packages/pandas/core/indexes/base.py\u001b[0m in \u001b[0;36mget_loc\u001b[0;34m(self, key, method, tolerance)\u001b[0m\n\u001b[1;32m   2645\u001b[0m             \u001b[0;32mtry\u001b[0m\u001b[0;34m:\u001b[0m\u001b[0;34m\u001b[0m\u001b[0;34m\u001b[0m\u001b[0m\n\u001b[0;32m-> 2646\u001b[0;31m                 \u001b[0;32mreturn\u001b[0m \u001b[0mself\u001b[0m\u001b[0;34m.\u001b[0m\u001b[0m_engine\u001b[0m\u001b[0;34m.\u001b[0m\u001b[0mget_loc\u001b[0m\u001b[0;34m(\u001b[0m\u001b[0mkey\u001b[0m\u001b[0;34m)\u001b[0m\u001b[0;34m\u001b[0m\u001b[0;34m\u001b[0m\u001b[0m\n\u001b[0m\u001b[1;32m   2647\u001b[0m             \u001b[0;32mexcept\u001b[0m \u001b[0mKeyError\u001b[0m\u001b[0;34m:\u001b[0m\u001b[0;34m\u001b[0m\u001b[0;34m\u001b[0m\u001b[0m\n",
                        "\u001b[0;32mpandas/_libs/index.pyx\u001b[0m in \u001b[0;36mpandas._libs.index.IndexEngine.get_loc\u001b[0;34m()\u001b[0m\n",
                        "\u001b[0;32mpandas/_libs/index.pyx\u001b[0m in \u001b[0;36mpandas._libs.index.IndexEngine.get_loc\u001b[0;34m()\u001b[0m\n",
                        "\u001b[0;32mpandas/_libs/hashtable_class_helper.pxi\u001b[0m in \u001b[0;36mpandas._libs.hashtable.PyObjectHashTable.get_item\u001b[0;34m()\u001b[0m\n",
                        "\u001b[0;32mpandas/_libs/hashtable_class_helper.pxi\u001b[0m in \u001b[0;36mpandas._libs.hashtable.PyObjectHashTable.get_item\u001b[0;34m()\u001b[0m\n",
                        "\u001b[0;31mKeyError\u001b[0m: ' Cluster labels'",
                        "\nDuring handling of the above exception, another exception occurred:\n",
                        "\u001b[0;31mKeyError\u001b[0m                                  Traceback (most recent call last)",
                        "\u001b[0;32m<ipython-input-95-b7cc88e39ff6>\u001b[0m in \u001b[0;36m<module>\u001b[0;34m\u001b[0m\n\u001b[0;32m----> 1\u001b[0;31m \u001b[0;32mfor\u001b[0m \u001b[0mcode\u001b[0m\u001b[0;34m,\u001b[0m\u001b[0mnbd\u001b[0m\u001b[0;34m,\u001b[0m\u001b[0mlat\u001b[0m\u001b[0;34m,\u001b[0m\u001b[0mlng\u001b[0m\u001b[0;34m,\u001b[0m\u001b[0mclus\u001b[0m \u001b[0;32min\u001b[0m \u001b[0mzip\u001b[0m\u001b[0;34m(\u001b[0m\u001b[0mToronto_top\u001b[0m\u001b[0;34m[\u001b[0m\u001b[0;34m'PostalCode'\u001b[0m\u001b[0;34m]\u001b[0m\u001b[0;34m,\u001b[0m\u001b[0mToronto_top\u001b[0m\u001b[0;34m[\u001b[0m\u001b[0;34m'Neighborhoods'\u001b[0m\u001b[0;34m]\u001b[0m\u001b[0;34m,\u001b[0m\u001b[0mToronto_top\u001b[0m\u001b[0;34m[\u001b[0m\u001b[0;34m'Latitude'\u001b[0m\u001b[0;34m]\u001b[0m\u001b[0;34m,\u001b[0m\u001b[0mToronto_top\u001b[0m\u001b[0;34m[\u001b[0m\u001b[0;34m'Longitude'\u001b[0m\u001b[0;34m]\u001b[0m\u001b[0;34m,\u001b[0m\u001b[0mToronto_top\u001b[0m\u001b[0;34m[\u001b[0m\u001b[0;34m' Cluster labels'\u001b[0m\u001b[0;34m]\u001b[0m\u001b[0;34m)\u001b[0m\u001b[0;34m:\u001b[0m\u001b[0;34m\u001b[0m\u001b[0;34m\u001b[0m\u001b[0m\n\u001b[0m\u001b[1;32m      2\u001b[0m     \u001b[0mlabel\u001b[0m\u001b[0;34m=\u001b[0m\u001b[0mfolium\u001b[0m\u001b[0;34m.\u001b[0m\u001b[0mPopup\u001b[0m\u001b[0;34m(\u001b[0m\u001b[0;34m'Postal Code:{};Neighborhoods:{};Cluster:{}'\u001b[0m\u001b[0;34m.\u001b[0m\u001b[0mformat\u001b[0m\u001b[0;34m(\u001b[0m\u001b[0mcode\u001b[0m\u001b[0;34m,\u001b[0m\u001b[0mnbd\u001b[0m\u001b[0;34m,\u001b[0m\u001b[0mclus\u001b[0m\u001b[0;34m)\u001b[0m\u001b[0;34m,\u001b[0m\u001b[0mparse_html\u001b[0m\u001b[0;34m=\u001b[0m\u001b[0;32mTrue\u001b[0m\u001b[0;34m)\u001b[0m\u001b[0;34m\u001b[0m\u001b[0;34m\u001b[0m\u001b[0m\n\u001b[1;32m      3\u001b[0m     folium.CircleMarker([lat,lng],popup=label,color=rainbow[clus-1],\n\u001b[1;32m      4\u001b[0m                        \u001b[0mfill\u001b[0m\u001b[0;34m=\u001b[0m\u001b[0;32mTrue\u001b[0m\u001b[0;34m,\u001b[0m\u001b[0;34m\u001b[0m\u001b[0;34m\u001b[0m\u001b[0m\n\u001b[1;32m      5\u001b[0m                        \u001b[0mfill_color\u001b[0m\u001b[0;34m=\u001b[0m\u001b[0mrainbow\u001b[0m\u001b[0;34m[\u001b[0m\u001b[0mclus\u001b[0m\u001b[0;34m-\u001b[0m\u001b[0;36m1\u001b[0m\u001b[0;34m]\u001b[0m\u001b[0;34m,\u001b[0m\u001b[0;34m\u001b[0m\u001b[0;34m\u001b[0m\u001b[0m\n",
                        "\u001b[0;32m/opt/conda/envs/Python-3.7-main/lib/python3.7/site-packages/pandas/core/frame.py\u001b[0m in \u001b[0;36m__getitem__\u001b[0;34m(self, key)\u001b[0m\n\u001b[1;32m   2798\u001b[0m             \u001b[0;32mif\u001b[0m \u001b[0mself\u001b[0m\u001b[0;34m.\u001b[0m\u001b[0mcolumns\u001b[0m\u001b[0;34m.\u001b[0m\u001b[0mnlevels\u001b[0m \u001b[0;34m>\u001b[0m \u001b[0;36m1\u001b[0m\u001b[0;34m:\u001b[0m\u001b[0;34m\u001b[0m\u001b[0;34m\u001b[0m\u001b[0m\n\u001b[1;32m   2799\u001b[0m                 \u001b[0;32mreturn\u001b[0m \u001b[0mself\u001b[0m\u001b[0;34m.\u001b[0m\u001b[0m_getitem_multilevel\u001b[0m\u001b[0;34m(\u001b[0m\u001b[0mkey\u001b[0m\u001b[0;34m)\u001b[0m\u001b[0;34m\u001b[0m\u001b[0;34m\u001b[0m\u001b[0m\n\u001b[0;32m-> 2800\u001b[0;31m             \u001b[0mindexer\u001b[0m \u001b[0;34m=\u001b[0m \u001b[0mself\u001b[0m\u001b[0;34m.\u001b[0m\u001b[0mcolumns\u001b[0m\u001b[0;34m.\u001b[0m\u001b[0mget_loc\u001b[0m\u001b[0;34m(\u001b[0m\u001b[0mkey\u001b[0m\u001b[0;34m)\u001b[0m\u001b[0;34m\u001b[0m\u001b[0;34m\u001b[0m\u001b[0m\n\u001b[0m\u001b[1;32m   2801\u001b[0m             \u001b[0;32mif\u001b[0m \u001b[0mis_integer\u001b[0m\u001b[0;34m(\u001b[0m\u001b[0mindexer\u001b[0m\u001b[0;34m)\u001b[0m\u001b[0;34m:\u001b[0m\u001b[0;34m\u001b[0m\u001b[0;34m\u001b[0m\u001b[0m\n\u001b[1;32m   2802\u001b[0m                 \u001b[0mindexer\u001b[0m \u001b[0;34m=\u001b[0m \u001b[0;34m[\u001b[0m\u001b[0mindexer\u001b[0m\u001b[0;34m]\u001b[0m\u001b[0;34m\u001b[0m\u001b[0;34m\u001b[0m\u001b[0m\n",
                        "\u001b[0;32m/opt/conda/envs/Python-3.7-main/lib/python3.7/site-packages/pandas/core/indexes/base.py\u001b[0m in \u001b[0;36mget_loc\u001b[0;34m(self, key, method, tolerance)\u001b[0m\n\u001b[1;32m   2646\u001b[0m                 \u001b[0;32mreturn\u001b[0m \u001b[0mself\u001b[0m\u001b[0;34m.\u001b[0m\u001b[0m_engine\u001b[0m\u001b[0;34m.\u001b[0m\u001b[0mget_loc\u001b[0m\u001b[0;34m(\u001b[0m\u001b[0mkey\u001b[0m\u001b[0;34m)\u001b[0m\u001b[0;34m\u001b[0m\u001b[0;34m\u001b[0m\u001b[0m\n\u001b[1;32m   2647\u001b[0m             \u001b[0;32mexcept\u001b[0m \u001b[0mKeyError\u001b[0m\u001b[0;34m:\u001b[0m\u001b[0;34m\u001b[0m\u001b[0;34m\u001b[0m\u001b[0m\n\u001b[0;32m-> 2648\u001b[0;31m                 \u001b[0;32mreturn\u001b[0m \u001b[0mself\u001b[0m\u001b[0;34m.\u001b[0m\u001b[0m_engine\u001b[0m\u001b[0;34m.\u001b[0m\u001b[0mget_loc\u001b[0m\u001b[0;34m(\u001b[0m\u001b[0mself\u001b[0m\u001b[0;34m.\u001b[0m\u001b[0m_maybe_cast_indexer\u001b[0m\u001b[0;34m(\u001b[0m\u001b[0mkey\u001b[0m\u001b[0;34m)\u001b[0m\u001b[0;34m)\u001b[0m\u001b[0;34m\u001b[0m\u001b[0;34m\u001b[0m\u001b[0m\n\u001b[0m\u001b[1;32m   2649\u001b[0m         \u001b[0mindexer\u001b[0m \u001b[0;34m=\u001b[0m \u001b[0mself\u001b[0m\u001b[0;34m.\u001b[0m\u001b[0mget_indexer\u001b[0m\u001b[0;34m(\u001b[0m\u001b[0;34m[\u001b[0m\u001b[0mkey\u001b[0m\u001b[0;34m]\u001b[0m\u001b[0;34m,\u001b[0m \u001b[0mmethod\u001b[0m\u001b[0;34m=\u001b[0m\u001b[0mmethod\u001b[0m\u001b[0;34m,\u001b[0m \u001b[0mtolerance\u001b[0m\u001b[0;34m=\u001b[0m\u001b[0mtolerance\u001b[0m\u001b[0;34m)\u001b[0m\u001b[0;34m\u001b[0m\u001b[0;34m\u001b[0m\u001b[0m\n\u001b[1;32m   2650\u001b[0m         \u001b[0;32mif\u001b[0m \u001b[0mindexer\u001b[0m\u001b[0;34m.\u001b[0m\u001b[0mndim\u001b[0m \u001b[0;34m>\u001b[0m \u001b[0;36m1\u001b[0m \u001b[0;32mor\u001b[0m \u001b[0mindexer\u001b[0m\u001b[0;34m.\u001b[0m\u001b[0msize\u001b[0m \u001b[0;34m>\u001b[0m \u001b[0;36m1\u001b[0m\u001b[0;34m:\u001b[0m\u001b[0;34m\u001b[0m\u001b[0;34m\u001b[0m\u001b[0m\n",
                        "\u001b[0;32mpandas/_libs/index.pyx\u001b[0m in \u001b[0;36mpandas._libs.index.IndexEngine.get_loc\u001b[0;34m()\u001b[0m\n",
                        "\u001b[0;32mpandas/_libs/index.pyx\u001b[0m in \u001b[0;36mpandas._libs.index.IndexEngine.get_loc\u001b[0;34m()\u001b[0m\n",
                        "\u001b[0;32mpandas/_libs/hashtable_class_helper.pxi\u001b[0m in \u001b[0;36mpandas._libs.hashtable.PyObjectHashTable.get_item\u001b[0;34m()\u001b[0m\n",
                        "\u001b[0;32mpandas/_libs/hashtable_class_helper.pxi\u001b[0m in \u001b[0;36mpandas._libs.hashtable.PyObjectHashTable.get_item\u001b[0;34m()\u001b[0m\n",
                        "\u001b[0;31mKeyError\u001b[0m: ' Cluster labels'"
                    ]
                }
            ],
            "source": "for code,nbd,lat,lng,clus in zip(Toronto_top['PostalCode'],Toronto_top['Neighborhoods'],Toronto_top['Latitude'],Toronto_top['Longitude'],Toronto_top[' Cluster labels']):\n    label=folium.Popup('Postal Code:{};Neighborhoods:{};Cluster:{}'.format(code,nbd,clus),parse_html=True)\n    folium.CircleMarker([lat,lng],popup=label,color=rainbow[clus-1],\n                       fill=True,\n                       fill_color=rainbow[clus-1],\n                       fill_opacity=0.6,\n                       radius=5).add_to(map_clusters)"
        },
        {
            "cell_type": "code",
            "execution_count": 96,
            "metadata": {},
            "outputs": [
                {
                    "data": {
                        "text/html": "<div style=\"width:100%;\"><div style=\"position:relative;width:100%;height:0;padding-bottom:60%;\"><span style=\"color:#565656\">Make this Notebook Trusted to load map: File -> Trust Notebook</span><iframe src=\"about:blank\" style=\"position:absolute;width:100%;height:100%;left:0;top:0;border:none !important;\" data-html=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 onload=\"this.contentDocument.open();this.contentDocument.write(atob(this.getAttribute('data-html')));this.contentDocument.close();\" allowfullscreen webkitallowfullscreen mozallowfullscreen></iframe></div></div>",
                        "text/plain": "<folium.folium.Map at 0x7f2f0ae8a2d0>"
                    },
                    "execution_count": 96,
                    "metadata": {},
                    "output_type": "execute_result"
                }
            ],
            "source": "map_clusters"
        },
        {
            "cell_type": "code",
            "execution_count": 97,
            "metadata": {},
            "outputs": [
                {
                    "ename": "KeyError",
                    "evalue": "' Cluster labels'",
                    "output_type": "error",
                    "traceback": [
                        "\u001b[0;31m---------------------------------------------------------------------------\u001b[0m",
                        "\u001b[0;31mKeyError\u001b[0m                                  Traceback (most recent call last)",
                        "\u001b[0;32m/opt/conda/envs/Python-3.7-main/lib/python3.7/site-packages/pandas/core/indexes/base.py\u001b[0m in \u001b[0;36mget_loc\u001b[0;34m(self, key, method, tolerance)\u001b[0m\n\u001b[1;32m   2645\u001b[0m             \u001b[0;32mtry\u001b[0m\u001b[0;34m:\u001b[0m\u001b[0;34m\u001b[0m\u001b[0;34m\u001b[0m\u001b[0m\n\u001b[0;32m-> 2646\u001b[0;31m                 \u001b[0;32mreturn\u001b[0m \u001b[0mself\u001b[0m\u001b[0;34m.\u001b[0m\u001b[0m_engine\u001b[0m\u001b[0;34m.\u001b[0m\u001b[0mget_loc\u001b[0m\u001b[0;34m(\u001b[0m\u001b[0mkey\u001b[0m\u001b[0;34m)\u001b[0m\u001b[0;34m\u001b[0m\u001b[0;34m\u001b[0m\u001b[0m\n\u001b[0m\u001b[1;32m   2647\u001b[0m             \u001b[0;32mexcept\u001b[0m \u001b[0mKeyError\u001b[0m\u001b[0;34m:\u001b[0m\u001b[0;34m\u001b[0m\u001b[0;34m\u001b[0m\u001b[0m\n",
                        "\u001b[0;32mpandas/_libs/index.pyx\u001b[0m in \u001b[0;36mpandas._libs.index.IndexEngine.get_loc\u001b[0;34m()\u001b[0m\n",
                        "\u001b[0;32mpandas/_libs/index.pyx\u001b[0m in \u001b[0;36mpandas._libs.index.IndexEngine.get_loc\u001b[0;34m()\u001b[0m\n",
                        "\u001b[0;32mpandas/_libs/hashtable_class_helper.pxi\u001b[0m in \u001b[0;36mpandas._libs.hashtable.PyObjectHashTable.get_item\u001b[0;34m()\u001b[0m\n",
                        "\u001b[0;32mpandas/_libs/hashtable_class_helper.pxi\u001b[0m in \u001b[0;36mpandas._libs.hashtable.PyObjectHashTable.get_item\u001b[0;34m()\u001b[0m\n",
                        "\u001b[0;31mKeyError\u001b[0m: ' Cluster labels'",
                        "\nDuring handling of the above exception, another exception occurred:\n",
                        "\u001b[0;31mKeyError\u001b[0m                                  Traceback (most recent call last)",
                        "\u001b[0;32m<ipython-input-97-cd5f3ddc626d>\u001b[0m in \u001b[0;36m<module>\u001b[0;34m\u001b[0m\n\u001b[0;32m----> 1\u001b[0;31m \u001b[0mToronto_top\u001b[0m\u001b[0;34m.\u001b[0m\u001b[0mloc\u001b[0m\u001b[0;34m[\u001b[0m\u001b[0mToronto_top\u001b[0m\u001b[0;34m[\u001b[0m\u001b[0;34m' Cluster labels'\u001b[0m\u001b[0;34m]\u001b[0m\u001b[0;34m==\u001b[0m\u001b[0;36m0\u001b[0m\u001b[0;34m,\u001b[0m\u001b[0mToronto_top\u001b[0m\u001b[0;34m.\u001b[0m\u001b[0mcolumns\u001b[0m\u001b[0;34m[\u001b[0m\u001b[0;34m:\u001b[0m\u001b[0;34m-\u001b[0m\u001b[0;36m3\u001b[0m\u001b[0;34m]\u001b[0m\u001b[0;34m]\u001b[0m\u001b[0;34m.\u001b[0m\u001b[0mreset_index\u001b[0m\u001b[0;34m(\u001b[0m\u001b[0mdrop\u001b[0m\u001b[0;34m=\u001b[0m\u001b[0;32mTrue\u001b[0m\u001b[0;34m)\u001b[0m\u001b[0;34m\u001b[0m\u001b[0;34m\u001b[0m\u001b[0m\n\u001b[0m",
                        "\u001b[0;32m/opt/conda/envs/Python-3.7-main/lib/python3.7/site-packages/pandas/core/frame.py\u001b[0m in \u001b[0;36m__getitem__\u001b[0;34m(self, key)\u001b[0m\n\u001b[1;32m   2798\u001b[0m             \u001b[0;32mif\u001b[0m \u001b[0mself\u001b[0m\u001b[0;34m.\u001b[0m\u001b[0mcolumns\u001b[0m\u001b[0;34m.\u001b[0m\u001b[0mnlevels\u001b[0m \u001b[0;34m>\u001b[0m \u001b[0;36m1\u001b[0m\u001b[0;34m:\u001b[0m\u001b[0;34m\u001b[0m\u001b[0;34m\u001b[0m\u001b[0m\n\u001b[1;32m   2799\u001b[0m                 \u001b[0;32mreturn\u001b[0m \u001b[0mself\u001b[0m\u001b[0;34m.\u001b[0m\u001b[0m_getitem_multilevel\u001b[0m\u001b[0;34m(\u001b[0m\u001b[0mkey\u001b[0m\u001b[0;34m)\u001b[0m\u001b[0;34m\u001b[0m\u001b[0;34m\u001b[0m\u001b[0m\n\u001b[0;32m-> 2800\u001b[0;31m             \u001b[0mindexer\u001b[0m \u001b[0;34m=\u001b[0m \u001b[0mself\u001b[0m\u001b[0;34m.\u001b[0m\u001b[0mcolumns\u001b[0m\u001b[0;34m.\u001b[0m\u001b[0mget_loc\u001b[0m\u001b[0;34m(\u001b[0m\u001b[0mkey\u001b[0m\u001b[0;34m)\u001b[0m\u001b[0;34m\u001b[0m\u001b[0;34m\u001b[0m\u001b[0m\n\u001b[0m\u001b[1;32m   2801\u001b[0m             \u001b[0;32mif\u001b[0m \u001b[0mis_integer\u001b[0m\u001b[0;34m(\u001b[0m\u001b[0mindexer\u001b[0m\u001b[0;34m)\u001b[0m\u001b[0;34m:\u001b[0m\u001b[0;34m\u001b[0m\u001b[0;34m\u001b[0m\u001b[0m\n\u001b[1;32m   2802\u001b[0m                 \u001b[0mindexer\u001b[0m \u001b[0;34m=\u001b[0m \u001b[0;34m[\u001b[0m\u001b[0mindexer\u001b[0m\u001b[0;34m]\u001b[0m\u001b[0;34m\u001b[0m\u001b[0;34m\u001b[0m\u001b[0m\n",
                        "\u001b[0;32m/opt/conda/envs/Python-3.7-main/lib/python3.7/site-packages/pandas/core/indexes/base.py\u001b[0m in \u001b[0;36mget_loc\u001b[0;34m(self, key, method, tolerance)\u001b[0m\n\u001b[1;32m   2646\u001b[0m                 \u001b[0;32mreturn\u001b[0m \u001b[0mself\u001b[0m\u001b[0;34m.\u001b[0m\u001b[0m_engine\u001b[0m\u001b[0;34m.\u001b[0m\u001b[0mget_loc\u001b[0m\u001b[0;34m(\u001b[0m\u001b[0mkey\u001b[0m\u001b[0;34m)\u001b[0m\u001b[0;34m\u001b[0m\u001b[0;34m\u001b[0m\u001b[0m\n\u001b[1;32m   2647\u001b[0m             \u001b[0;32mexcept\u001b[0m \u001b[0mKeyError\u001b[0m\u001b[0;34m:\u001b[0m\u001b[0;34m\u001b[0m\u001b[0;34m\u001b[0m\u001b[0m\n\u001b[0;32m-> 2648\u001b[0;31m                 \u001b[0;32mreturn\u001b[0m \u001b[0mself\u001b[0m\u001b[0;34m.\u001b[0m\u001b[0m_engine\u001b[0m\u001b[0;34m.\u001b[0m\u001b[0mget_loc\u001b[0m\u001b[0;34m(\u001b[0m\u001b[0mself\u001b[0m\u001b[0;34m.\u001b[0m\u001b[0m_maybe_cast_indexer\u001b[0m\u001b[0;34m(\u001b[0m\u001b[0mkey\u001b[0m\u001b[0;34m)\u001b[0m\u001b[0;34m)\u001b[0m\u001b[0;34m\u001b[0m\u001b[0;34m\u001b[0m\u001b[0m\n\u001b[0m\u001b[1;32m   2649\u001b[0m         \u001b[0mindexer\u001b[0m \u001b[0;34m=\u001b[0m \u001b[0mself\u001b[0m\u001b[0;34m.\u001b[0m\u001b[0mget_indexer\u001b[0m\u001b[0;34m(\u001b[0m\u001b[0;34m[\u001b[0m\u001b[0mkey\u001b[0m\u001b[0;34m]\u001b[0m\u001b[0;34m,\u001b[0m \u001b[0mmethod\u001b[0m\u001b[0;34m=\u001b[0m\u001b[0mmethod\u001b[0m\u001b[0;34m,\u001b[0m \u001b[0mtolerance\u001b[0m\u001b[0;34m=\u001b[0m\u001b[0mtolerance\u001b[0m\u001b[0;34m)\u001b[0m\u001b[0;34m\u001b[0m\u001b[0;34m\u001b[0m\u001b[0m\n\u001b[1;32m   2650\u001b[0m         \u001b[0;32mif\u001b[0m \u001b[0mindexer\u001b[0m\u001b[0;34m.\u001b[0m\u001b[0mndim\u001b[0m \u001b[0;34m>\u001b[0m \u001b[0;36m1\u001b[0m \u001b[0;32mor\u001b[0m \u001b[0mindexer\u001b[0m\u001b[0;34m.\u001b[0m\u001b[0msize\u001b[0m \u001b[0;34m>\u001b[0m \u001b[0;36m1\u001b[0m\u001b[0;34m:\u001b[0m\u001b[0;34m\u001b[0m\u001b[0;34m\u001b[0m\u001b[0m\n",
                        "\u001b[0;32mpandas/_libs/index.pyx\u001b[0m in \u001b[0;36mpandas._libs.index.IndexEngine.get_loc\u001b[0;34m()\u001b[0m\n",
                        "\u001b[0;32mpandas/_libs/index.pyx\u001b[0m in \u001b[0;36mpandas._libs.index.IndexEngine.get_loc\u001b[0;34m()\u001b[0m\n",
                        "\u001b[0;32mpandas/_libs/hashtable_class_helper.pxi\u001b[0m in \u001b[0;36mpandas._libs.hashtable.PyObjectHashTable.get_item\u001b[0;34m()\u001b[0m\n",
                        "\u001b[0;32mpandas/_libs/hashtable_class_helper.pxi\u001b[0m in \u001b[0;36mpandas._libs.hashtable.PyObjectHashTable.get_item\u001b[0;34m()\u001b[0m\n",
                        "\u001b[0;31mKeyError\u001b[0m: ' Cluster labels'"
                    ]
                }
            ],
            "source": "Toronto_top.loc[Toronto_top[' Cluster labels']==0,Toronto_top.columns[:-3]].reset_index(drop=True)"
        },
        {
            "cell_type": "code",
            "execution_count": 98,
            "metadata": {},
            "outputs": [
                {
                    "ename": "KeyError",
                    "evalue": "' Cluster labels'",
                    "output_type": "error",
                    "traceback": [
                        "\u001b[0;31m---------------------------------------------------------------------------\u001b[0m",
                        "\u001b[0;31mKeyError\u001b[0m                                  Traceback (most recent call last)",
                        "\u001b[0;32m/opt/conda/envs/Python-3.7-main/lib/python3.7/site-packages/pandas/core/indexes/base.py\u001b[0m in \u001b[0;36mget_loc\u001b[0;34m(self, key, method, tolerance)\u001b[0m\n\u001b[1;32m   2645\u001b[0m             \u001b[0;32mtry\u001b[0m\u001b[0;34m:\u001b[0m\u001b[0;34m\u001b[0m\u001b[0;34m\u001b[0m\u001b[0m\n\u001b[0;32m-> 2646\u001b[0;31m                 \u001b[0;32mreturn\u001b[0m \u001b[0mself\u001b[0m\u001b[0;34m.\u001b[0m\u001b[0m_engine\u001b[0m\u001b[0;34m.\u001b[0m\u001b[0mget_loc\u001b[0m\u001b[0;34m(\u001b[0m\u001b[0mkey\u001b[0m\u001b[0;34m)\u001b[0m\u001b[0;34m\u001b[0m\u001b[0;34m\u001b[0m\u001b[0m\n\u001b[0m\u001b[1;32m   2647\u001b[0m             \u001b[0;32mexcept\u001b[0m \u001b[0mKeyError\u001b[0m\u001b[0;34m:\u001b[0m\u001b[0;34m\u001b[0m\u001b[0;34m\u001b[0m\u001b[0m\n",
                        "\u001b[0;32mpandas/_libs/index.pyx\u001b[0m in \u001b[0;36mpandas._libs.index.IndexEngine.get_loc\u001b[0;34m()\u001b[0m\n",
                        "\u001b[0;32mpandas/_libs/index.pyx\u001b[0m in \u001b[0;36mpandas._libs.index.IndexEngine.get_loc\u001b[0;34m()\u001b[0m\n",
                        "\u001b[0;32mpandas/_libs/hashtable_class_helper.pxi\u001b[0m in \u001b[0;36mpandas._libs.hashtable.PyObjectHashTable.get_item\u001b[0;34m()\u001b[0m\n",
                        "\u001b[0;32mpandas/_libs/hashtable_class_helper.pxi\u001b[0m in \u001b[0;36mpandas._libs.hashtable.PyObjectHashTable.get_item\u001b[0;34m()\u001b[0m\n",
                        "\u001b[0;31mKeyError\u001b[0m: ' Cluster labels'",
                        "\nDuring handling of the above exception, another exception occurred:\n",
                        "\u001b[0;31mKeyError\u001b[0m                                  Traceback (most recent call last)",
                        "\u001b[0;32m<ipython-input-98-926b19081cdc>\u001b[0m in \u001b[0;36m<module>\u001b[0;34m\u001b[0m\n\u001b[0;32m----> 1\u001b[0;31m \u001b[0mToronto_top\u001b[0m\u001b[0;34m.\u001b[0m\u001b[0mloc\u001b[0m\u001b[0;34m[\u001b[0m\u001b[0mToronto_top\u001b[0m\u001b[0;34m[\u001b[0m\u001b[0;34m' Cluster labels'\u001b[0m\u001b[0;34m]\u001b[0m\u001b[0;34m==\u001b[0m\u001b[0;36m1\u001b[0m\u001b[0;34m,\u001b[0m\u001b[0mToronto_top\u001b[0m\u001b[0;34m.\u001b[0m\u001b[0mcolumns\u001b[0m\u001b[0;34m[\u001b[0m\u001b[0;34m:\u001b[0m\u001b[0;34m-\u001b[0m\u001b[0;36m3\u001b[0m\u001b[0;34m]\u001b[0m\u001b[0;34m]\u001b[0m\u001b[0;34m.\u001b[0m\u001b[0mreset_index\u001b[0m\u001b[0;34m(\u001b[0m\u001b[0mdrop\u001b[0m\u001b[0;34m=\u001b[0m\u001b[0;32mTrue\u001b[0m\u001b[0;34m)\u001b[0m\u001b[0;34m\u001b[0m\u001b[0;34m\u001b[0m\u001b[0m\n\u001b[0m",
                        "\u001b[0;32m/opt/conda/envs/Python-3.7-main/lib/python3.7/site-packages/pandas/core/frame.py\u001b[0m in \u001b[0;36m__getitem__\u001b[0;34m(self, key)\u001b[0m\n\u001b[1;32m   2798\u001b[0m             \u001b[0;32mif\u001b[0m \u001b[0mself\u001b[0m\u001b[0;34m.\u001b[0m\u001b[0mcolumns\u001b[0m\u001b[0;34m.\u001b[0m\u001b[0mnlevels\u001b[0m \u001b[0;34m>\u001b[0m \u001b[0;36m1\u001b[0m\u001b[0;34m:\u001b[0m\u001b[0;34m\u001b[0m\u001b[0;34m\u001b[0m\u001b[0m\n\u001b[1;32m   2799\u001b[0m                 \u001b[0;32mreturn\u001b[0m \u001b[0mself\u001b[0m\u001b[0;34m.\u001b[0m\u001b[0m_getitem_multilevel\u001b[0m\u001b[0;34m(\u001b[0m\u001b[0mkey\u001b[0m\u001b[0;34m)\u001b[0m\u001b[0;34m\u001b[0m\u001b[0;34m\u001b[0m\u001b[0m\n\u001b[0;32m-> 2800\u001b[0;31m             \u001b[0mindexer\u001b[0m \u001b[0;34m=\u001b[0m \u001b[0mself\u001b[0m\u001b[0;34m.\u001b[0m\u001b[0mcolumns\u001b[0m\u001b[0;34m.\u001b[0m\u001b[0mget_loc\u001b[0m\u001b[0;34m(\u001b[0m\u001b[0mkey\u001b[0m\u001b[0;34m)\u001b[0m\u001b[0;34m\u001b[0m\u001b[0;34m\u001b[0m\u001b[0m\n\u001b[0m\u001b[1;32m   2801\u001b[0m             \u001b[0;32mif\u001b[0m \u001b[0mis_integer\u001b[0m\u001b[0;34m(\u001b[0m\u001b[0mindexer\u001b[0m\u001b[0;34m)\u001b[0m\u001b[0;34m:\u001b[0m\u001b[0;34m\u001b[0m\u001b[0;34m\u001b[0m\u001b[0m\n\u001b[1;32m   2802\u001b[0m                 \u001b[0mindexer\u001b[0m \u001b[0;34m=\u001b[0m \u001b[0;34m[\u001b[0m\u001b[0mindexer\u001b[0m\u001b[0;34m]\u001b[0m\u001b[0;34m\u001b[0m\u001b[0;34m\u001b[0m\u001b[0m\n",
                        "\u001b[0;32m/opt/conda/envs/Python-3.7-main/lib/python3.7/site-packages/pandas/core/indexes/base.py\u001b[0m in \u001b[0;36mget_loc\u001b[0;34m(self, key, method, tolerance)\u001b[0m\n\u001b[1;32m   2646\u001b[0m                 \u001b[0;32mreturn\u001b[0m \u001b[0mself\u001b[0m\u001b[0;34m.\u001b[0m\u001b[0m_engine\u001b[0m\u001b[0;34m.\u001b[0m\u001b[0mget_loc\u001b[0m\u001b[0;34m(\u001b[0m\u001b[0mkey\u001b[0m\u001b[0;34m)\u001b[0m\u001b[0;34m\u001b[0m\u001b[0;34m\u001b[0m\u001b[0m\n\u001b[1;32m   2647\u001b[0m             \u001b[0;32mexcept\u001b[0m \u001b[0mKeyError\u001b[0m\u001b[0;34m:\u001b[0m\u001b[0;34m\u001b[0m\u001b[0;34m\u001b[0m\u001b[0m\n\u001b[0;32m-> 2648\u001b[0;31m                 \u001b[0;32mreturn\u001b[0m \u001b[0mself\u001b[0m\u001b[0;34m.\u001b[0m\u001b[0m_engine\u001b[0m\u001b[0;34m.\u001b[0m\u001b[0mget_loc\u001b[0m\u001b[0;34m(\u001b[0m\u001b[0mself\u001b[0m\u001b[0;34m.\u001b[0m\u001b[0m_maybe_cast_indexer\u001b[0m\u001b[0;34m(\u001b[0m\u001b[0mkey\u001b[0m\u001b[0;34m)\u001b[0m\u001b[0;34m)\u001b[0m\u001b[0;34m\u001b[0m\u001b[0;34m\u001b[0m\u001b[0m\n\u001b[0m\u001b[1;32m   2649\u001b[0m         \u001b[0mindexer\u001b[0m \u001b[0;34m=\u001b[0m \u001b[0mself\u001b[0m\u001b[0;34m.\u001b[0m\u001b[0mget_indexer\u001b[0m\u001b[0;34m(\u001b[0m\u001b[0;34m[\u001b[0m\u001b[0mkey\u001b[0m\u001b[0;34m]\u001b[0m\u001b[0;34m,\u001b[0m \u001b[0mmethod\u001b[0m\u001b[0;34m=\u001b[0m\u001b[0mmethod\u001b[0m\u001b[0;34m,\u001b[0m \u001b[0mtolerance\u001b[0m\u001b[0;34m=\u001b[0m\u001b[0mtolerance\u001b[0m\u001b[0;34m)\u001b[0m\u001b[0;34m\u001b[0m\u001b[0;34m\u001b[0m\u001b[0m\n\u001b[1;32m   2650\u001b[0m         \u001b[0;32mif\u001b[0m \u001b[0mindexer\u001b[0m\u001b[0;34m.\u001b[0m\u001b[0mndim\u001b[0m \u001b[0;34m>\u001b[0m \u001b[0;36m1\u001b[0m \u001b[0;32mor\u001b[0m \u001b[0mindexer\u001b[0m\u001b[0;34m.\u001b[0m\u001b[0msize\u001b[0m \u001b[0;34m>\u001b[0m \u001b[0;36m1\u001b[0m\u001b[0;34m:\u001b[0m\u001b[0;34m\u001b[0m\u001b[0;34m\u001b[0m\u001b[0m\n",
                        "\u001b[0;32mpandas/_libs/index.pyx\u001b[0m in \u001b[0;36mpandas._libs.index.IndexEngine.get_loc\u001b[0;34m()\u001b[0m\n",
                        "\u001b[0;32mpandas/_libs/index.pyx\u001b[0m in \u001b[0;36mpandas._libs.index.IndexEngine.get_loc\u001b[0;34m()\u001b[0m\n",
                        "\u001b[0;32mpandas/_libs/hashtable_class_helper.pxi\u001b[0m in \u001b[0;36mpandas._libs.hashtable.PyObjectHashTable.get_item\u001b[0;34m()\u001b[0m\n",
                        "\u001b[0;32mpandas/_libs/hashtable_class_helper.pxi\u001b[0m in \u001b[0;36mpandas._libs.hashtable.PyObjectHashTable.get_item\u001b[0;34m()\u001b[0m\n",
                        "\u001b[0;31mKeyError\u001b[0m: ' Cluster labels'"
                    ]
                }
            ],
            "source": "Toronto_top.loc[Toronto_top[' Cluster labels']==1,Toronto_top.columns[:-3]].reset_index(drop=True)"
        },
        {
            "cell_type": "code",
            "execution_count": 99,
            "metadata": {},
            "outputs": [
                {
                    "ename": "KeyError",
                    "evalue": "' Cluster labels'",
                    "output_type": "error",
                    "traceback": [
                        "\u001b[0;31m---------------------------------------------------------------------------\u001b[0m",
                        "\u001b[0;31mKeyError\u001b[0m                                  Traceback (most recent call last)",
                        "\u001b[0;32m/opt/conda/envs/Python-3.7-main/lib/python3.7/site-packages/pandas/core/indexes/base.py\u001b[0m in \u001b[0;36mget_loc\u001b[0;34m(self, key, method, tolerance)\u001b[0m\n\u001b[1;32m   2645\u001b[0m             \u001b[0;32mtry\u001b[0m\u001b[0;34m:\u001b[0m\u001b[0;34m\u001b[0m\u001b[0;34m\u001b[0m\u001b[0m\n\u001b[0;32m-> 2646\u001b[0;31m                 \u001b[0;32mreturn\u001b[0m \u001b[0mself\u001b[0m\u001b[0;34m.\u001b[0m\u001b[0m_engine\u001b[0m\u001b[0;34m.\u001b[0m\u001b[0mget_loc\u001b[0m\u001b[0;34m(\u001b[0m\u001b[0mkey\u001b[0m\u001b[0;34m)\u001b[0m\u001b[0;34m\u001b[0m\u001b[0;34m\u001b[0m\u001b[0m\n\u001b[0m\u001b[1;32m   2647\u001b[0m             \u001b[0;32mexcept\u001b[0m \u001b[0mKeyError\u001b[0m\u001b[0;34m:\u001b[0m\u001b[0;34m\u001b[0m\u001b[0;34m\u001b[0m\u001b[0m\n",
                        "\u001b[0;32mpandas/_libs/index.pyx\u001b[0m in \u001b[0;36mpandas._libs.index.IndexEngine.get_loc\u001b[0;34m()\u001b[0m\n",
                        "\u001b[0;32mpandas/_libs/index.pyx\u001b[0m in \u001b[0;36mpandas._libs.index.IndexEngine.get_loc\u001b[0;34m()\u001b[0m\n",
                        "\u001b[0;32mpandas/_libs/hashtable_class_helper.pxi\u001b[0m in \u001b[0;36mpandas._libs.hashtable.PyObjectHashTable.get_item\u001b[0;34m()\u001b[0m\n",
                        "\u001b[0;32mpandas/_libs/hashtable_class_helper.pxi\u001b[0m in \u001b[0;36mpandas._libs.hashtable.PyObjectHashTable.get_item\u001b[0;34m()\u001b[0m\n",
                        "\u001b[0;31mKeyError\u001b[0m: ' Cluster labels'",
                        "\nDuring handling of the above exception, another exception occurred:\n",
                        "\u001b[0;31mKeyError\u001b[0m                                  Traceback (most recent call last)",
                        "\u001b[0;32m<ipython-input-99-de90ed99b1aa>\u001b[0m in \u001b[0;36m<module>\u001b[0;34m\u001b[0m\n\u001b[0;32m----> 1\u001b[0;31m \u001b[0mToronto_top\u001b[0m\u001b[0;34m.\u001b[0m\u001b[0mloc\u001b[0m\u001b[0;34m[\u001b[0m\u001b[0mToronto_top\u001b[0m\u001b[0;34m[\u001b[0m\u001b[0;34m' Cluster labels'\u001b[0m\u001b[0;34m]\u001b[0m\u001b[0;34m==\u001b[0m\u001b[0;36m2\u001b[0m\u001b[0;34m,\u001b[0m\u001b[0mToronto_top\u001b[0m\u001b[0;34m.\u001b[0m\u001b[0mcolumns\u001b[0m\u001b[0;34m[\u001b[0m\u001b[0;34m:\u001b[0m\u001b[0;34m-\u001b[0m\u001b[0;36m3\u001b[0m\u001b[0;34m]\u001b[0m\u001b[0;34m]\u001b[0m\u001b[0;34m.\u001b[0m\u001b[0mreset_index\u001b[0m\u001b[0;34m(\u001b[0m\u001b[0mdrop\u001b[0m\u001b[0;34m=\u001b[0m\u001b[0;32mTrue\u001b[0m\u001b[0;34m)\u001b[0m\u001b[0;34m\u001b[0m\u001b[0;34m\u001b[0m\u001b[0m\n\u001b[0m",
                        "\u001b[0;32m/opt/conda/envs/Python-3.7-main/lib/python3.7/site-packages/pandas/core/frame.py\u001b[0m in \u001b[0;36m__getitem__\u001b[0;34m(self, key)\u001b[0m\n\u001b[1;32m   2798\u001b[0m             \u001b[0;32mif\u001b[0m \u001b[0mself\u001b[0m\u001b[0;34m.\u001b[0m\u001b[0mcolumns\u001b[0m\u001b[0;34m.\u001b[0m\u001b[0mnlevels\u001b[0m \u001b[0;34m>\u001b[0m \u001b[0;36m1\u001b[0m\u001b[0;34m:\u001b[0m\u001b[0;34m\u001b[0m\u001b[0;34m\u001b[0m\u001b[0m\n\u001b[1;32m   2799\u001b[0m                 \u001b[0;32mreturn\u001b[0m \u001b[0mself\u001b[0m\u001b[0;34m.\u001b[0m\u001b[0m_getitem_multilevel\u001b[0m\u001b[0;34m(\u001b[0m\u001b[0mkey\u001b[0m\u001b[0;34m)\u001b[0m\u001b[0;34m\u001b[0m\u001b[0;34m\u001b[0m\u001b[0m\n\u001b[0;32m-> 2800\u001b[0;31m             \u001b[0mindexer\u001b[0m \u001b[0;34m=\u001b[0m \u001b[0mself\u001b[0m\u001b[0;34m.\u001b[0m\u001b[0mcolumns\u001b[0m\u001b[0;34m.\u001b[0m\u001b[0mget_loc\u001b[0m\u001b[0;34m(\u001b[0m\u001b[0mkey\u001b[0m\u001b[0;34m)\u001b[0m\u001b[0;34m\u001b[0m\u001b[0;34m\u001b[0m\u001b[0m\n\u001b[0m\u001b[1;32m   2801\u001b[0m             \u001b[0;32mif\u001b[0m \u001b[0mis_integer\u001b[0m\u001b[0;34m(\u001b[0m\u001b[0mindexer\u001b[0m\u001b[0;34m)\u001b[0m\u001b[0;34m:\u001b[0m\u001b[0;34m\u001b[0m\u001b[0;34m\u001b[0m\u001b[0m\n\u001b[1;32m   2802\u001b[0m                 \u001b[0mindexer\u001b[0m \u001b[0;34m=\u001b[0m \u001b[0;34m[\u001b[0m\u001b[0mindexer\u001b[0m\u001b[0;34m]\u001b[0m\u001b[0;34m\u001b[0m\u001b[0;34m\u001b[0m\u001b[0m\n",
                        "\u001b[0;32m/opt/conda/envs/Python-3.7-main/lib/python3.7/site-packages/pandas/core/indexes/base.py\u001b[0m in \u001b[0;36mget_loc\u001b[0;34m(self, key, method, tolerance)\u001b[0m\n\u001b[1;32m   2646\u001b[0m                 \u001b[0;32mreturn\u001b[0m \u001b[0mself\u001b[0m\u001b[0;34m.\u001b[0m\u001b[0m_engine\u001b[0m\u001b[0;34m.\u001b[0m\u001b[0mget_loc\u001b[0m\u001b[0;34m(\u001b[0m\u001b[0mkey\u001b[0m\u001b[0;34m)\u001b[0m\u001b[0;34m\u001b[0m\u001b[0;34m\u001b[0m\u001b[0m\n\u001b[1;32m   2647\u001b[0m             \u001b[0;32mexcept\u001b[0m \u001b[0mKeyError\u001b[0m\u001b[0;34m:\u001b[0m\u001b[0;34m\u001b[0m\u001b[0;34m\u001b[0m\u001b[0m\n\u001b[0;32m-> 2648\u001b[0;31m                 \u001b[0;32mreturn\u001b[0m \u001b[0mself\u001b[0m\u001b[0;34m.\u001b[0m\u001b[0m_engine\u001b[0m\u001b[0;34m.\u001b[0m\u001b[0mget_loc\u001b[0m\u001b[0;34m(\u001b[0m\u001b[0mself\u001b[0m\u001b[0;34m.\u001b[0m\u001b[0m_maybe_cast_indexer\u001b[0m\u001b[0;34m(\u001b[0m\u001b[0mkey\u001b[0m\u001b[0;34m)\u001b[0m\u001b[0;34m)\u001b[0m\u001b[0;34m\u001b[0m\u001b[0;34m\u001b[0m\u001b[0m\n\u001b[0m\u001b[1;32m   2649\u001b[0m         \u001b[0mindexer\u001b[0m \u001b[0;34m=\u001b[0m \u001b[0mself\u001b[0m\u001b[0;34m.\u001b[0m\u001b[0mget_indexer\u001b[0m\u001b[0;34m(\u001b[0m\u001b[0;34m[\u001b[0m\u001b[0mkey\u001b[0m\u001b[0;34m]\u001b[0m\u001b[0;34m,\u001b[0m \u001b[0mmethod\u001b[0m\u001b[0;34m=\u001b[0m\u001b[0mmethod\u001b[0m\u001b[0;34m,\u001b[0m \u001b[0mtolerance\u001b[0m\u001b[0;34m=\u001b[0m\u001b[0mtolerance\u001b[0m\u001b[0;34m)\u001b[0m\u001b[0;34m\u001b[0m\u001b[0;34m\u001b[0m\u001b[0m\n\u001b[1;32m   2650\u001b[0m         \u001b[0;32mif\u001b[0m \u001b[0mindexer\u001b[0m\u001b[0;34m.\u001b[0m\u001b[0mndim\u001b[0m \u001b[0;34m>\u001b[0m \u001b[0;36m1\u001b[0m \u001b[0;32mor\u001b[0m \u001b[0mindexer\u001b[0m\u001b[0;34m.\u001b[0m\u001b[0msize\u001b[0m \u001b[0;34m>\u001b[0m \u001b[0;36m1\u001b[0m\u001b[0;34m:\u001b[0m\u001b[0;34m\u001b[0m\u001b[0;34m\u001b[0m\u001b[0m\n",
                        "\u001b[0;32mpandas/_libs/index.pyx\u001b[0m in \u001b[0;36mpandas._libs.index.IndexEngine.get_loc\u001b[0;34m()\u001b[0m\n",
                        "\u001b[0;32mpandas/_libs/index.pyx\u001b[0m in \u001b[0;36mpandas._libs.index.IndexEngine.get_loc\u001b[0;34m()\u001b[0m\n",
                        "\u001b[0;32mpandas/_libs/hashtable_class_helper.pxi\u001b[0m in \u001b[0;36mpandas._libs.hashtable.PyObjectHashTable.get_item\u001b[0;34m()\u001b[0m\n",
                        "\u001b[0;32mpandas/_libs/hashtable_class_helper.pxi\u001b[0m in \u001b[0;36mpandas._libs.hashtable.PyObjectHashTable.get_item\u001b[0;34m()\u001b[0m\n",
                        "\u001b[0;31mKeyError\u001b[0m: ' Cluster labels'"
                    ]
                }
            ],
            "source": "Toronto_top.loc[Toronto_top[' Cluster labels']==2,Toronto_top.columns[:-3]].reset_index(drop=True)"
        },
        {
            "cell_type": "code",
            "execution_count": 100,
            "metadata": {},
            "outputs": [
                {
                    "ename": "KeyError",
                    "evalue": "' Cluster labels'",
                    "output_type": "error",
                    "traceback": [
                        "\u001b[0;31m---------------------------------------------------------------------------\u001b[0m",
                        "\u001b[0;31mKeyError\u001b[0m                                  Traceback (most recent call last)",
                        "\u001b[0;32m/opt/conda/envs/Python-3.7-main/lib/python3.7/site-packages/pandas/core/indexes/base.py\u001b[0m in \u001b[0;36mget_loc\u001b[0;34m(self, key, method, tolerance)\u001b[0m\n\u001b[1;32m   2645\u001b[0m             \u001b[0;32mtry\u001b[0m\u001b[0;34m:\u001b[0m\u001b[0;34m\u001b[0m\u001b[0;34m\u001b[0m\u001b[0m\n\u001b[0;32m-> 2646\u001b[0;31m                 \u001b[0;32mreturn\u001b[0m \u001b[0mself\u001b[0m\u001b[0;34m.\u001b[0m\u001b[0m_engine\u001b[0m\u001b[0;34m.\u001b[0m\u001b[0mget_loc\u001b[0m\u001b[0;34m(\u001b[0m\u001b[0mkey\u001b[0m\u001b[0;34m)\u001b[0m\u001b[0;34m\u001b[0m\u001b[0;34m\u001b[0m\u001b[0m\n\u001b[0m\u001b[1;32m   2647\u001b[0m             \u001b[0;32mexcept\u001b[0m \u001b[0mKeyError\u001b[0m\u001b[0;34m:\u001b[0m\u001b[0;34m\u001b[0m\u001b[0;34m\u001b[0m\u001b[0m\n",
                        "\u001b[0;32mpandas/_libs/index.pyx\u001b[0m in \u001b[0;36mpandas._libs.index.IndexEngine.get_loc\u001b[0;34m()\u001b[0m\n",
                        "\u001b[0;32mpandas/_libs/index.pyx\u001b[0m in \u001b[0;36mpandas._libs.index.IndexEngine.get_loc\u001b[0;34m()\u001b[0m\n",
                        "\u001b[0;32mpandas/_libs/hashtable_class_helper.pxi\u001b[0m in \u001b[0;36mpandas._libs.hashtable.PyObjectHashTable.get_item\u001b[0;34m()\u001b[0m\n",
                        "\u001b[0;32mpandas/_libs/hashtable_class_helper.pxi\u001b[0m in \u001b[0;36mpandas._libs.hashtable.PyObjectHashTable.get_item\u001b[0;34m()\u001b[0m\n",
                        "\u001b[0;31mKeyError\u001b[0m: ' Cluster labels'",
                        "\nDuring handling of the above exception, another exception occurred:\n",
                        "\u001b[0;31mKeyError\u001b[0m                                  Traceback (most recent call last)",
                        "\u001b[0;32m<ipython-input-100-5aed1858f2aa>\u001b[0m in \u001b[0;36m<module>\u001b[0;34m\u001b[0m\n\u001b[0;32m----> 1\u001b[0;31m \u001b[0mToronto_top\u001b[0m\u001b[0;34m.\u001b[0m\u001b[0mloc\u001b[0m\u001b[0;34m[\u001b[0m\u001b[0mToronto_top\u001b[0m\u001b[0;34m[\u001b[0m\u001b[0;34m' Cluster labels'\u001b[0m\u001b[0;34m]\u001b[0m\u001b[0;34m==\u001b[0m\u001b[0;36m3\u001b[0m\u001b[0;34m,\u001b[0m\u001b[0mToronto_top\u001b[0m\u001b[0;34m.\u001b[0m\u001b[0mcolumns\u001b[0m\u001b[0;34m[\u001b[0m\u001b[0;34m:\u001b[0m\u001b[0;34m-\u001b[0m\u001b[0;36m3\u001b[0m\u001b[0;34m]\u001b[0m\u001b[0;34m]\u001b[0m\u001b[0;34m.\u001b[0m\u001b[0mreset_index\u001b[0m\u001b[0;34m(\u001b[0m\u001b[0mdrop\u001b[0m\u001b[0;34m=\u001b[0m\u001b[0;32mTrue\u001b[0m\u001b[0;34m)\u001b[0m\u001b[0;34m\u001b[0m\u001b[0;34m\u001b[0m\u001b[0m\n\u001b[0m",
                        "\u001b[0;32m/opt/conda/envs/Python-3.7-main/lib/python3.7/site-packages/pandas/core/frame.py\u001b[0m in \u001b[0;36m__getitem__\u001b[0;34m(self, key)\u001b[0m\n\u001b[1;32m   2798\u001b[0m             \u001b[0;32mif\u001b[0m \u001b[0mself\u001b[0m\u001b[0;34m.\u001b[0m\u001b[0mcolumns\u001b[0m\u001b[0;34m.\u001b[0m\u001b[0mnlevels\u001b[0m \u001b[0;34m>\u001b[0m \u001b[0;36m1\u001b[0m\u001b[0;34m:\u001b[0m\u001b[0;34m\u001b[0m\u001b[0;34m\u001b[0m\u001b[0m\n\u001b[1;32m   2799\u001b[0m                 \u001b[0;32mreturn\u001b[0m \u001b[0mself\u001b[0m\u001b[0;34m.\u001b[0m\u001b[0m_getitem_multilevel\u001b[0m\u001b[0;34m(\u001b[0m\u001b[0mkey\u001b[0m\u001b[0;34m)\u001b[0m\u001b[0;34m\u001b[0m\u001b[0;34m\u001b[0m\u001b[0m\n\u001b[0;32m-> 2800\u001b[0;31m             \u001b[0mindexer\u001b[0m \u001b[0;34m=\u001b[0m \u001b[0mself\u001b[0m\u001b[0;34m.\u001b[0m\u001b[0mcolumns\u001b[0m\u001b[0;34m.\u001b[0m\u001b[0mget_loc\u001b[0m\u001b[0;34m(\u001b[0m\u001b[0mkey\u001b[0m\u001b[0;34m)\u001b[0m\u001b[0;34m\u001b[0m\u001b[0;34m\u001b[0m\u001b[0m\n\u001b[0m\u001b[1;32m   2801\u001b[0m             \u001b[0;32mif\u001b[0m \u001b[0mis_integer\u001b[0m\u001b[0;34m(\u001b[0m\u001b[0mindexer\u001b[0m\u001b[0;34m)\u001b[0m\u001b[0;34m:\u001b[0m\u001b[0;34m\u001b[0m\u001b[0;34m\u001b[0m\u001b[0m\n\u001b[1;32m   2802\u001b[0m                 \u001b[0mindexer\u001b[0m \u001b[0;34m=\u001b[0m \u001b[0;34m[\u001b[0m\u001b[0mindexer\u001b[0m\u001b[0;34m]\u001b[0m\u001b[0;34m\u001b[0m\u001b[0;34m\u001b[0m\u001b[0m\n",
                        "\u001b[0;32m/opt/conda/envs/Python-3.7-main/lib/python3.7/site-packages/pandas/core/indexes/base.py\u001b[0m in \u001b[0;36mget_loc\u001b[0;34m(self, key, method, tolerance)\u001b[0m\n\u001b[1;32m   2646\u001b[0m                 \u001b[0;32mreturn\u001b[0m \u001b[0mself\u001b[0m\u001b[0;34m.\u001b[0m\u001b[0m_engine\u001b[0m\u001b[0;34m.\u001b[0m\u001b[0mget_loc\u001b[0m\u001b[0;34m(\u001b[0m\u001b[0mkey\u001b[0m\u001b[0;34m)\u001b[0m\u001b[0;34m\u001b[0m\u001b[0;34m\u001b[0m\u001b[0m\n\u001b[1;32m   2647\u001b[0m             \u001b[0;32mexcept\u001b[0m \u001b[0mKeyError\u001b[0m\u001b[0;34m:\u001b[0m\u001b[0;34m\u001b[0m\u001b[0;34m\u001b[0m\u001b[0m\n\u001b[0;32m-> 2648\u001b[0;31m                 \u001b[0;32mreturn\u001b[0m \u001b[0mself\u001b[0m\u001b[0;34m.\u001b[0m\u001b[0m_engine\u001b[0m\u001b[0;34m.\u001b[0m\u001b[0mget_loc\u001b[0m\u001b[0;34m(\u001b[0m\u001b[0mself\u001b[0m\u001b[0;34m.\u001b[0m\u001b[0m_maybe_cast_indexer\u001b[0m\u001b[0;34m(\u001b[0m\u001b[0mkey\u001b[0m\u001b[0;34m)\u001b[0m\u001b[0;34m)\u001b[0m\u001b[0;34m\u001b[0m\u001b[0;34m\u001b[0m\u001b[0m\n\u001b[0m\u001b[1;32m   2649\u001b[0m         \u001b[0mindexer\u001b[0m \u001b[0;34m=\u001b[0m \u001b[0mself\u001b[0m\u001b[0;34m.\u001b[0m\u001b[0mget_indexer\u001b[0m\u001b[0;34m(\u001b[0m\u001b[0;34m[\u001b[0m\u001b[0mkey\u001b[0m\u001b[0;34m]\u001b[0m\u001b[0;34m,\u001b[0m \u001b[0mmethod\u001b[0m\u001b[0;34m=\u001b[0m\u001b[0mmethod\u001b[0m\u001b[0;34m,\u001b[0m \u001b[0mtolerance\u001b[0m\u001b[0;34m=\u001b[0m\u001b[0mtolerance\u001b[0m\u001b[0;34m)\u001b[0m\u001b[0;34m\u001b[0m\u001b[0;34m\u001b[0m\u001b[0m\n\u001b[1;32m   2650\u001b[0m         \u001b[0;32mif\u001b[0m \u001b[0mindexer\u001b[0m\u001b[0;34m.\u001b[0m\u001b[0mndim\u001b[0m \u001b[0;34m>\u001b[0m \u001b[0;36m1\u001b[0m \u001b[0;32mor\u001b[0m \u001b[0mindexer\u001b[0m\u001b[0;34m.\u001b[0m\u001b[0msize\u001b[0m \u001b[0;34m>\u001b[0m \u001b[0;36m1\u001b[0m\u001b[0;34m:\u001b[0m\u001b[0;34m\u001b[0m\u001b[0;34m\u001b[0m\u001b[0m\n",
                        "\u001b[0;32mpandas/_libs/index.pyx\u001b[0m in \u001b[0;36mpandas._libs.index.IndexEngine.get_loc\u001b[0;34m()\u001b[0m\n",
                        "\u001b[0;32mpandas/_libs/index.pyx\u001b[0m in \u001b[0;36mpandas._libs.index.IndexEngine.get_loc\u001b[0;34m()\u001b[0m\n",
                        "\u001b[0;32mpandas/_libs/hashtable_class_helper.pxi\u001b[0m in \u001b[0;36mpandas._libs.hashtable.PyObjectHashTable.get_item\u001b[0;34m()\u001b[0m\n",
                        "\u001b[0;32mpandas/_libs/hashtable_class_helper.pxi\u001b[0m in \u001b[0;36mpandas._libs.hashtable.PyObjectHashTable.get_item\u001b[0;34m()\u001b[0m\n",
                        "\u001b[0;31mKeyError\u001b[0m: ' Cluster labels'"
                    ]
                }
            ],
            "source": "Toronto_top.loc[Toronto_top[' Cluster labels']==3,Toronto_top.columns[:-3]].reset_index(drop=True)"
        },
        {
            "cell_type": "code",
            "execution_count": 101,
            "metadata": {},
            "outputs": [
                {
                    "ename": "KeyError",
                    "evalue": "' Cluster labels'",
                    "output_type": "error",
                    "traceback": [
                        "\u001b[0;31m---------------------------------------------------------------------------\u001b[0m",
                        "\u001b[0;31mKeyError\u001b[0m                                  Traceback (most recent call last)",
                        "\u001b[0;32m/opt/conda/envs/Python-3.7-main/lib/python3.7/site-packages/pandas/core/indexes/base.py\u001b[0m in \u001b[0;36mget_loc\u001b[0;34m(self, key, method, tolerance)\u001b[0m\n\u001b[1;32m   2645\u001b[0m             \u001b[0;32mtry\u001b[0m\u001b[0;34m:\u001b[0m\u001b[0;34m\u001b[0m\u001b[0;34m\u001b[0m\u001b[0m\n\u001b[0;32m-> 2646\u001b[0;31m                 \u001b[0;32mreturn\u001b[0m \u001b[0mself\u001b[0m\u001b[0;34m.\u001b[0m\u001b[0m_engine\u001b[0m\u001b[0;34m.\u001b[0m\u001b[0mget_loc\u001b[0m\u001b[0;34m(\u001b[0m\u001b[0mkey\u001b[0m\u001b[0;34m)\u001b[0m\u001b[0;34m\u001b[0m\u001b[0;34m\u001b[0m\u001b[0m\n\u001b[0m\u001b[1;32m   2647\u001b[0m             \u001b[0;32mexcept\u001b[0m \u001b[0mKeyError\u001b[0m\u001b[0;34m:\u001b[0m\u001b[0;34m\u001b[0m\u001b[0;34m\u001b[0m\u001b[0m\n",
                        "\u001b[0;32mpandas/_libs/index.pyx\u001b[0m in \u001b[0;36mpandas._libs.index.IndexEngine.get_loc\u001b[0;34m()\u001b[0m\n",
                        "\u001b[0;32mpandas/_libs/index.pyx\u001b[0m in \u001b[0;36mpandas._libs.index.IndexEngine.get_loc\u001b[0;34m()\u001b[0m\n",
                        "\u001b[0;32mpandas/_libs/hashtable_class_helper.pxi\u001b[0m in \u001b[0;36mpandas._libs.hashtable.PyObjectHashTable.get_item\u001b[0;34m()\u001b[0m\n",
                        "\u001b[0;32mpandas/_libs/hashtable_class_helper.pxi\u001b[0m in \u001b[0;36mpandas._libs.hashtable.PyObjectHashTable.get_item\u001b[0;34m()\u001b[0m\n",
                        "\u001b[0;31mKeyError\u001b[0m: ' Cluster labels'",
                        "\nDuring handling of the above exception, another exception occurred:\n",
                        "\u001b[0;31mKeyError\u001b[0m                                  Traceback (most recent call last)",
                        "\u001b[0;32m<ipython-input-101-bb31bd12e89e>\u001b[0m in \u001b[0;36m<module>\u001b[0;34m\u001b[0m\n\u001b[0;32m----> 1\u001b[0;31m \u001b[0mToronto_top\u001b[0m\u001b[0;34m.\u001b[0m\u001b[0mloc\u001b[0m\u001b[0;34m[\u001b[0m\u001b[0mToronto_top\u001b[0m\u001b[0;34m[\u001b[0m\u001b[0;34m' Cluster labels'\u001b[0m\u001b[0;34m]\u001b[0m\u001b[0;34m==\u001b[0m\u001b[0;36m4\u001b[0m\u001b[0;34m,\u001b[0m\u001b[0mToronto_top\u001b[0m\u001b[0;34m.\u001b[0m\u001b[0mcolumns\u001b[0m\u001b[0;34m[\u001b[0m\u001b[0;34m:\u001b[0m\u001b[0;34m-\u001b[0m\u001b[0;36m3\u001b[0m\u001b[0;34m]\u001b[0m\u001b[0;34m]\u001b[0m\u001b[0;34m.\u001b[0m\u001b[0mreset_index\u001b[0m\u001b[0;34m(\u001b[0m\u001b[0mdrop\u001b[0m\u001b[0;34m=\u001b[0m\u001b[0;32mTrue\u001b[0m\u001b[0;34m)\u001b[0m\u001b[0;34m\u001b[0m\u001b[0;34m\u001b[0m\u001b[0m\n\u001b[0m",
                        "\u001b[0;32m/opt/conda/envs/Python-3.7-main/lib/python3.7/site-packages/pandas/core/frame.py\u001b[0m in \u001b[0;36m__getitem__\u001b[0;34m(self, key)\u001b[0m\n\u001b[1;32m   2798\u001b[0m             \u001b[0;32mif\u001b[0m \u001b[0mself\u001b[0m\u001b[0;34m.\u001b[0m\u001b[0mcolumns\u001b[0m\u001b[0;34m.\u001b[0m\u001b[0mnlevels\u001b[0m \u001b[0;34m>\u001b[0m \u001b[0;36m1\u001b[0m\u001b[0;34m:\u001b[0m\u001b[0;34m\u001b[0m\u001b[0;34m\u001b[0m\u001b[0m\n\u001b[1;32m   2799\u001b[0m                 \u001b[0;32mreturn\u001b[0m \u001b[0mself\u001b[0m\u001b[0;34m.\u001b[0m\u001b[0m_getitem_multilevel\u001b[0m\u001b[0;34m(\u001b[0m\u001b[0mkey\u001b[0m\u001b[0;34m)\u001b[0m\u001b[0;34m\u001b[0m\u001b[0;34m\u001b[0m\u001b[0m\n\u001b[0;32m-> 2800\u001b[0;31m             \u001b[0mindexer\u001b[0m \u001b[0;34m=\u001b[0m \u001b[0mself\u001b[0m\u001b[0;34m.\u001b[0m\u001b[0mcolumns\u001b[0m\u001b[0;34m.\u001b[0m\u001b[0mget_loc\u001b[0m\u001b[0;34m(\u001b[0m\u001b[0mkey\u001b[0m\u001b[0;34m)\u001b[0m\u001b[0;34m\u001b[0m\u001b[0;34m\u001b[0m\u001b[0m\n\u001b[0m\u001b[1;32m   2801\u001b[0m             \u001b[0;32mif\u001b[0m \u001b[0mis_integer\u001b[0m\u001b[0;34m(\u001b[0m\u001b[0mindexer\u001b[0m\u001b[0;34m)\u001b[0m\u001b[0;34m:\u001b[0m\u001b[0;34m\u001b[0m\u001b[0;34m\u001b[0m\u001b[0m\n\u001b[1;32m   2802\u001b[0m                 \u001b[0mindexer\u001b[0m \u001b[0;34m=\u001b[0m \u001b[0;34m[\u001b[0m\u001b[0mindexer\u001b[0m\u001b[0;34m]\u001b[0m\u001b[0;34m\u001b[0m\u001b[0;34m\u001b[0m\u001b[0m\n",
                        "\u001b[0;32m/opt/conda/envs/Python-3.7-main/lib/python3.7/site-packages/pandas/core/indexes/base.py\u001b[0m in \u001b[0;36mget_loc\u001b[0;34m(self, key, method, tolerance)\u001b[0m\n\u001b[1;32m   2646\u001b[0m                 \u001b[0;32mreturn\u001b[0m \u001b[0mself\u001b[0m\u001b[0;34m.\u001b[0m\u001b[0m_engine\u001b[0m\u001b[0;34m.\u001b[0m\u001b[0mget_loc\u001b[0m\u001b[0;34m(\u001b[0m\u001b[0mkey\u001b[0m\u001b[0;34m)\u001b[0m\u001b[0;34m\u001b[0m\u001b[0;34m\u001b[0m\u001b[0m\n\u001b[1;32m   2647\u001b[0m             \u001b[0;32mexcept\u001b[0m \u001b[0mKeyError\u001b[0m\u001b[0;34m:\u001b[0m\u001b[0;34m\u001b[0m\u001b[0;34m\u001b[0m\u001b[0m\n\u001b[0;32m-> 2648\u001b[0;31m                 \u001b[0;32mreturn\u001b[0m \u001b[0mself\u001b[0m\u001b[0;34m.\u001b[0m\u001b[0m_engine\u001b[0m\u001b[0;34m.\u001b[0m\u001b[0mget_loc\u001b[0m\u001b[0;34m(\u001b[0m\u001b[0mself\u001b[0m\u001b[0;34m.\u001b[0m\u001b[0m_maybe_cast_indexer\u001b[0m\u001b[0;34m(\u001b[0m\u001b[0mkey\u001b[0m\u001b[0;34m)\u001b[0m\u001b[0;34m)\u001b[0m\u001b[0;34m\u001b[0m\u001b[0;34m\u001b[0m\u001b[0m\n\u001b[0m\u001b[1;32m   2649\u001b[0m         \u001b[0mindexer\u001b[0m \u001b[0;34m=\u001b[0m \u001b[0mself\u001b[0m\u001b[0;34m.\u001b[0m\u001b[0mget_indexer\u001b[0m\u001b[0;34m(\u001b[0m\u001b[0;34m[\u001b[0m\u001b[0mkey\u001b[0m\u001b[0;34m]\u001b[0m\u001b[0;34m,\u001b[0m \u001b[0mmethod\u001b[0m\u001b[0;34m=\u001b[0m\u001b[0mmethod\u001b[0m\u001b[0;34m,\u001b[0m \u001b[0mtolerance\u001b[0m\u001b[0;34m=\u001b[0m\u001b[0mtolerance\u001b[0m\u001b[0;34m)\u001b[0m\u001b[0;34m\u001b[0m\u001b[0;34m\u001b[0m\u001b[0m\n\u001b[1;32m   2650\u001b[0m         \u001b[0;32mif\u001b[0m \u001b[0mindexer\u001b[0m\u001b[0;34m.\u001b[0m\u001b[0mndim\u001b[0m \u001b[0;34m>\u001b[0m \u001b[0;36m1\u001b[0m \u001b[0;32mor\u001b[0m \u001b[0mindexer\u001b[0m\u001b[0;34m.\u001b[0m\u001b[0msize\u001b[0m \u001b[0;34m>\u001b[0m \u001b[0;36m1\u001b[0m\u001b[0;34m:\u001b[0m\u001b[0;34m\u001b[0m\u001b[0;34m\u001b[0m\u001b[0m\n",
                        "\u001b[0;32mpandas/_libs/index.pyx\u001b[0m in \u001b[0;36mpandas._libs.index.IndexEngine.get_loc\u001b[0;34m()\u001b[0m\n",
                        "\u001b[0;32mpandas/_libs/index.pyx\u001b[0m in \u001b[0;36mpandas._libs.index.IndexEngine.get_loc\u001b[0;34m()\u001b[0m\n",
                        "\u001b[0;32mpandas/_libs/hashtable_class_helper.pxi\u001b[0m in \u001b[0;36mpandas._libs.hashtable.PyObjectHashTable.get_item\u001b[0;34m()\u001b[0m\n",
                        "\u001b[0;32mpandas/_libs/hashtable_class_helper.pxi\u001b[0m in \u001b[0;36mpandas._libs.hashtable.PyObjectHashTable.get_item\u001b[0;34m()\u001b[0m\n",
                        "\u001b[0;31mKeyError\u001b[0m: ' Cluster labels'"
                    ]
                }
            ],
            "source": "Toronto_top.loc[Toronto_top[' Cluster labels']==4,Toronto_top.columns[:-3]].reset_index(drop=True)"
        },
        {
            "cell_type": "code",
            "execution_count": null,
            "metadata": {},
            "outputs": [],
            "source": ""
        }
    ],
    "metadata": {
        "kernelspec": {
            "display_name": "Python 3.7",
            "language": "python",
            "name": "python3"
        },
        "language_info": {
            "codemirror_mode": {
                "name": "ipython",
                "version": 3
            },
            "file_extension": ".py",
            "mimetype": "text/x-python",
            "name": "python",
            "nbconvert_exporter": "python",
            "pygments_lexer": "ipython3",
            "version": "3.7.9"
        }
    },
    "nbformat": 4,
    "nbformat_minor": 1
}